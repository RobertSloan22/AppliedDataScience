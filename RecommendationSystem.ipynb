{
  "cells": [
    {
      "cell_type": "markdown",
      "metadata": {
        "id": "view-in-github",
        "colab_type": "text"
      },
      "source": [
        "<a href=\"https://colab.research.google.com/github/RobertSloan22/AppliedDataScience/blob/main/RecommendationSystem.ipynb\" target=\"_parent\"><img src=\"https://colab.research.google.com/assets/colab-badge.svg\" alt=\"Open In Colab\"/></a>"
      ]
    },
    {
      "cell_type": "markdown",
      "metadata": {
        "id": "pXQzH0nC5JtP"
      },
      "source": [
        "# **Project: Amazon Product Recommendation System**\n",
        "\n",
        "# **Marks: 60**\n",
        "\n",
        "\n",
        "Welcome to the project on Recommendation Systems. We will work with the Amazon product reviews dataset for this project. The dataset contains ratings of different electronic products. It does not include information about the products or reviews to avoid bias while building the model.\n",
        "\n",
        "--------------\n",
        "## **Context:**\n",
        "--------------\n",
        "\n",
        "Today, information is growing exponentially with volume, velocity and variety throughout the globe. This has lead to information overload, and too many choices for the consumer of any business. It represents a real dilemma for these consumers and they often turn to denial. Recommender Systems are one of the best tools that help recommending products to consumers while they are browsing online. Providing personalized recommendations which is most relevant for the user is what's most likely to keep them engaged and help business.\n",
        "\n",
        "E-commerce websites like Amazon, Walmart, Target and Etsy use different recommendation models to provide personalized suggestions to different users. These companies spend millions of dollars to come up with algorithmic techniques that can provide personalized recommendations to their users.\n",
        "\n",
        "Amazon, for example, is well-known for its accurate selection of recommendations in its online site. Amazon's recommendation system is capable of intelligently analyzing and predicting customers' shopping preferences in order to offer them a list of recommended products. Amazon's recommendation algorithm is therefore a key element in using AI to improve the personalization of its website. For example, one of the baseline recommendation models that Amazon uses is item-to-item collaborative filtering, which scales to massive data sets and produces high-quality recommendations in real-time.\n",
        "\n",
        "----------------\n",
        "## **Objective:**\n",
        "----------------\n",
        "\n",
        "You are a Data Science Manager at Amazon, and have been given the task of building a recommendation system to recommend products to customers based on their previous ratings for other products. You have a collection of labeled data of Amazon reviews of products. The goal is to extract meaningful insights from the data and build a recommendation system that helps in recommending products to online consumers.\n",
        "\n",
        "-----------------------------\n",
        "## **Dataset:**\n",
        "-----------------------------\n",
        "\n",
        "The Amazon dataset contains the following attributes:\n",
        "\n",
        "- **userId:** Every user identified with a unique id\n",
        "- **productId:** Every product identified with a unique id\n",
        "- **Rating:** The rating of the corresponding product by the corresponding user\n",
        "- **timestamp:** Time of the rating. We **will not use this column** to solve the current problem"
      ]
    },
    {
      "cell_type": "markdown",
      "metadata": {
        "id": "nmdPxJ2Q7W7p"
      },
      "source": [
        "**Note:** The code has some user defined functions that will be usefull while making recommendations and measure model performance, you can use these functions or can create your own functions."
      ]
    },
    {
      "cell_type": "markdown",
      "metadata": {
        "id": "UoRfgjS2yekq"
      },
      "source": [
        "Sometimes, the installation of the surprise library, which is used to build recommendation systems, faces issues in Jupyter. To avoid any issues, it is advised to use **Google Colab** for this project.\n",
        "\n",
        "Let's start by mounting the Google drive on Colab."
      ]
    },
    {
      "cell_type": "code",
      "execution_count": 39,
      "metadata": {
        "id": "GZ0YAszcT4zK",
        "colab": {
          "base_uri": "https://localhost:8080/"
        },
        "outputId": "7c3a6911-4a88-4ae1-f6f5-c8dca492422f"
      },
      "outputs": [
        {
          "output_type": "stream",
          "name": "stdout",
          "text": [
            "Drive already mounted at /content/drive; to attempt to forcibly remount, call drive.mount(\"/content/drive\", force_remount=True).\n"
          ]
        }
      ],
      "source": [
        "from google.colab import drive\n",
        "drive.mount('/content/drive')"
      ]
    },
    {
      "cell_type": "markdown",
      "metadata": {
        "id": "0Ibk07-Cyekt"
      },
      "source": [
        "**Installing surprise library**"
      ]
    },
    {
      "cell_type": "code",
      "execution_count": 40,
      "metadata": {
        "id": "05HQoiZYlsbB",
        "colab": {
          "base_uri": "https://localhost:8080/"
        },
        "outputId": "c62cbb7c-02a1-49be-850b-add4cb3eb45b"
      },
      "outputs": [
        {
          "output_type": "stream",
          "name": "stdout",
          "text": [
            "Requirement already satisfied: surprise in /usr/local/lib/python3.10/dist-packages (0.1)\n",
            "Requirement already satisfied: scikit-surprise in /usr/local/lib/python3.10/dist-packages (from surprise) (1.1.3)\n",
            "Requirement already satisfied: joblib>=1.0.0 in /usr/local/lib/python3.10/dist-packages (from scikit-surprise->surprise) (1.3.2)\n",
            "Requirement already satisfied: numpy>=1.17.3 in /usr/local/lib/python3.10/dist-packages (from scikit-surprise->surprise) (1.23.5)\n",
            "Requirement already satisfied: scipy>=1.3.2 in /usr/local/lib/python3.10/dist-packages (from scikit-surprise->surprise) (1.11.4)\n"
          ]
        }
      ],
      "source": [
        "!pip install surprise\n"
      ]
    },
    {
      "cell_type": "markdown",
      "metadata": {
        "id": "7fIt4jcFIm76"
      },
      "source": [
        "## **Importing the necessary libraries and overview of the dataset**"
      ]
    },
    {
      "cell_type": "code",
      "execution_count": null,
      "metadata": {
        "id": "jzu2P-TT5JtP"
      },
      "outputs": [],
      "source": [
        "import warnings\n",
        "warnings.filterwarnings('ignore')\n",
        "\n",
        "import numpy as np\n",
        "import pandas as pd\n",
        "\n",
        "import matplotlib.pyplot as plt\n",
        "import seaborn as sns\n",
        "\n",
        "from collections import defaultdict\n",
        "\n",
        "from sklearn.metrics import mean_squared_error"
      ]
    },
    {
      "cell_type": "markdown",
      "metadata": {
        "id": "NrXYJAv95JtP"
      },
      "source": [
        "### **Loading the data**\n",
        "- Import the Dataset\n",
        "- Add column names ['user_id', 'prod_id', 'rating', 'timestamp']\n",
        "- Drop the column timestamp\n",
        "- Copy the data to another DataFrame called **df**"
      ]
    },
    {
      "cell_type": "code",
      "execution_count": null,
      "metadata": {
        "id": "JGb-Hk1B5JtP"
      },
      "outputs": [],
      "source": [
        "df = pd.read_csv('/content/drive/My Drive/ElectiveProjects/ratings_Electronics.csv', header = None)\n",
        "\n",
        "df.columns = ['user_id', 'prod_id', 'rating', 'timestamp']\n",
        "\n",
        "df = df.drop('timestamp', axis = 1)\n",
        "\n",
        "df_copy = df.copy(deep = True)"
      ]
    },
    {
      "cell_type": "code",
      "execution_count": 43,
      "metadata": {
        "id": "4yt9W7Q32EQQ"
      },
      "outputs": [],
      "source": [
        "users = df.user_id\n",
        "\n",
        "ratings_count = dict()\n",
        "\n",
        "for user in users:\n",
        "\n",
        "    if user in ratings_count:\n",
        "        ratings_count[user] += 1\n",
        "\n",
        "    else:\n",
        "        ratings_count[user] = 1"
      ]
    },
    {
      "cell_type": "code",
      "execution_count": 44,
      "metadata": {
        "id": "19XB60dq2EQR"
      },
      "outputs": [],
      "source": [
        "RATINGS_CUTOFF = 50\n",
        "\n",
        "remove_users = []\n",
        "\n",
        "for user, num_ratings in ratings_count.items():\n",
        "    if num_ratings < RATINGS_CUTOFF:\n",
        "        remove_users.append(user)\n",
        "\n",
        "df = df.loc[ ~ df.user_id.isin(remove_users)]"
      ]
    },
    {
      "cell_type": "code",
      "execution_count": 45,
      "metadata": {
        "id": "33UzK1D82EQS"
      },
      "outputs": [],
      "source": [
        "prods = df.prod_id\n",
        "\n",
        "ratings_count = dict()\n",
        "\n",
        "for prod in prods:\n",
        "\n",
        "    if prod in ratings_count:\n",
        "        ratings_count[prod] += 1\n",
        "\n",
        "    else:\n",
        "        ratings_count[prod] = 1"
      ]
    },
    {
      "cell_type": "code",
      "execution_count": 46,
      "metadata": {
        "id": "u6YE-lUp2EQT"
      },
      "outputs": [],
      "source": [
        "RATINGS_CUTOFF = 5\n",
        "\n",
        "remove_users = []\n",
        "\n",
        "for user, num_ratings in ratings_count.items():\n",
        "    if num_ratings < RATINGS_CUTOFF:\n",
        "        remove_users.append(user)\n",
        "\n",
        "df_final = df.loc[~ df.prod_id.isin(remove_users)]"
      ]
    },
    {
      "cell_type": "code",
      "execution_count": 47,
      "metadata": {
        "id": "aL1JZ00o5JtQ",
        "colab": {
          "base_uri": "https://localhost:8080/",
          "height": 773
        },
        "outputId": "c10c6a6f-9394-4d0d-fb5b-29ed26297926"
      },
      "outputs": [
        {
          "output_type": "execute_result",
          "data": {
            "text/plain": [
              "             user_id     prod_id  rating\n",
              "1310  A3LDPF5FMB782Z  1400501466     5.0\n",
              "1322  A1A5KUIIIHFF4U  1400501466     1.0\n",
              "1335  A2XIOXRRYX0KZY  1400501466     3.0\n",
              "1451   AW3LX47IHPFRL  1400501466     5.0\n",
              "1456  A1E3OB6QMBKRYZ  1400501466     1.0"
            ],
            "text/html": [
              "\n",
              "  <div id=\"df-cf5df305-d3c3-434a-be92-98dede72cb76\" class=\"colab-df-container\">\n",
              "    <div>\n",
              "<style scoped>\n",
              "    .dataframe tbody tr th:only-of-type {\n",
              "        vertical-align: middle;\n",
              "    }\n",
              "\n",
              "    .dataframe tbody tr th {\n",
              "        vertical-align: top;\n",
              "    }\n",
              "\n",
              "    .dataframe thead th {\n",
              "        text-align: right;\n",
              "    }\n",
              "</style>\n",
              "<table border=\"1\" class=\"dataframe\">\n",
              "  <thead>\n",
              "    <tr style=\"text-align: right;\">\n",
              "      <th></th>\n",
              "      <th>user_id</th>\n",
              "      <th>prod_id</th>\n",
              "      <th>rating</th>\n",
              "    </tr>\n",
              "  </thead>\n",
              "  <tbody>\n",
              "    <tr>\n",
              "      <th>1310</th>\n",
              "      <td>A3LDPF5FMB782Z</td>\n",
              "      <td>1400501466</td>\n",
              "      <td>5.0</td>\n",
              "    </tr>\n",
              "    <tr>\n",
              "      <th>1322</th>\n",
              "      <td>A1A5KUIIIHFF4U</td>\n",
              "      <td>1400501466</td>\n",
              "      <td>1.0</td>\n",
              "    </tr>\n",
              "    <tr>\n",
              "      <th>1335</th>\n",
              "      <td>A2XIOXRRYX0KZY</td>\n",
              "      <td>1400501466</td>\n",
              "      <td>3.0</td>\n",
              "    </tr>\n",
              "    <tr>\n",
              "      <th>1451</th>\n",
              "      <td>AW3LX47IHPFRL</td>\n",
              "      <td>1400501466</td>\n",
              "      <td>5.0</td>\n",
              "    </tr>\n",
              "    <tr>\n",
              "      <th>1456</th>\n",
              "      <td>A1E3OB6QMBKRYZ</td>\n",
              "      <td>1400501466</td>\n",
              "      <td>1.0</td>\n",
              "    </tr>\n",
              "  </tbody>\n",
              "</table>\n",
              "</div>\n",
              "    <div class=\"colab-df-buttons\">\n",
              "\n",
              "  <div class=\"colab-df-container\">\n",
              "    <button class=\"colab-df-convert\" onclick=\"convertToInteractive('df-cf5df305-d3c3-434a-be92-98dede72cb76')\"\n",
              "            title=\"Convert this dataframe to an interactive table.\"\n",
              "            style=\"display:none;\">\n",
              "\n",
              "  <svg xmlns=\"http://www.w3.org/2000/svg\" height=\"24px\" viewBox=\"0 -960 960 960\">\n",
              "    <path d=\"M120-120v-720h720v720H120Zm60-500h600v-160H180v160Zm220 220h160v-160H400v160Zm0 220h160v-160H400v160ZM180-400h160v-160H180v160Zm440 0h160v-160H620v160ZM180-180h160v-160H180v160Zm440 0h160v-160H620v160Z\"/>\n",
              "  </svg>\n",
              "    </button>\n",
              "\n",
              "  <style>\n",
              "    .colab-df-container {\n",
              "      display:flex;\n",
              "      gap: 12px;\n",
              "    }\n",
              "\n",
              "    .colab-df-convert {\n",
              "      background-color: #E8F0FE;\n",
              "      border: none;\n",
              "      border-radius: 50%;\n",
              "      cursor: pointer;\n",
              "      display: none;\n",
              "      fill: #1967D2;\n",
              "      height: 32px;\n",
              "      padding: 0 0 0 0;\n",
              "      width: 32px;\n",
              "    }\n",
              "\n",
              "    .colab-df-convert:hover {\n",
              "      background-color: #E2EBFA;\n",
              "      box-shadow: 0px 1px 2px rgba(60, 64, 67, 0.3), 0px 1px 3px 1px rgba(60, 64, 67, 0.15);\n",
              "      fill: #174EA6;\n",
              "    }\n",
              "\n",
              "    .colab-df-buttons div {\n",
              "      margin-bottom: 4px;\n",
              "    }\n",
              "\n",
              "    [theme=dark] .colab-df-convert {\n",
              "      background-color: #3B4455;\n",
              "      fill: #D2E3FC;\n",
              "    }\n",
              "\n",
              "    [theme=dark] .colab-df-convert:hover {\n",
              "      background-color: #434B5C;\n",
              "      box-shadow: 0px 1px 3px 1px rgba(0, 0, 0, 0.15);\n",
              "      filter: drop-shadow(0px 1px 2px rgba(0, 0, 0, 0.3));\n",
              "      fill: #FFFFFF;\n",
              "    }\n",
              "  </style>\n",
              "\n",
              "    <script>\n",
              "      const buttonEl =\n",
              "        document.querySelector('#df-cf5df305-d3c3-434a-be92-98dede72cb76 button.colab-df-convert');\n",
              "      buttonEl.style.display =\n",
              "        google.colab.kernel.accessAllowed ? 'block' : 'none';\n",
              "\n",
              "      async function convertToInteractive(key) {\n",
              "        const element = document.querySelector('#df-cf5df305-d3c3-434a-be92-98dede72cb76');\n",
              "        const dataTable =\n",
              "          await google.colab.kernel.invokeFunction('convertToInteractive',\n",
              "                                                    [key], {});\n",
              "        if (!dataTable) return;\n",
              "\n",
              "        const docLinkHtml = 'Like what you see? Visit the ' +\n",
              "          '<a target=\"_blank\" href=https://colab.research.google.com/notebooks/data_table.ipynb>data table notebook</a>'\n",
              "          + ' to learn more about interactive tables.';\n",
              "        element.innerHTML = '';\n",
              "        dataTable['output_type'] = 'display_data';\n",
              "        await google.colab.output.renderOutput(dataTable, element);\n",
              "        const docLink = document.createElement('div');\n",
              "        docLink.innerHTML = docLinkHtml;\n",
              "        element.appendChild(docLink);\n",
              "      }\n",
              "    </script>\n",
              "  </div>\n",
              "\n",
              "\n",
              "<div id=\"df-917fd212-4584-4676-a1f9-0ce6008cc5fc\">\n",
              "  <button class=\"colab-df-quickchart\" onclick=\"quickchart('df-917fd212-4584-4676-a1f9-0ce6008cc5fc')\"\n",
              "            title=\"Suggest charts\"\n",
              "            style=\"display:none;\">\n",
              "\n",
              "<svg xmlns=\"http://www.w3.org/2000/svg\" height=\"24px\"viewBox=\"0 0 24 24\"\n",
              "     width=\"24px\">\n",
              "    <g>\n",
              "        <path d=\"M19 3H5c-1.1 0-2 .9-2 2v14c0 1.1.9 2 2 2h14c1.1 0 2-.9 2-2V5c0-1.1-.9-2-2-2zM9 17H7v-7h2v7zm4 0h-2V7h2v10zm4 0h-2v-4h2v4z\"/>\n",
              "    </g>\n",
              "</svg>\n",
              "  </button>\n",
              "\n",
              "<style>\n",
              "  .colab-df-quickchart {\n",
              "      --bg-color: #E8F0FE;\n",
              "      --fill-color: #1967D2;\n",
              "      --hover-bg-color: #E2EBFA;\n",
              "      --hover-fill-color: #174EA6;\n",
              "      --disabled-fill-color: #AAA;\n",
              "      --disabled-bg-color: #DDD;\n",
              "  }\n",
              "\n",
              "  [theme=dark] .colab-df-quickchart {\n",
              "      --bg-color: #3B4455;\n",
              "      --fill-color: #D2E3FC;\n",
              "      --hover-bg-color: #434B5C;\n",
              "      --hover-fill-color: #FFFFFF;\n",
              "      --disabled-bg-color: #3B4455;\n",
              "      --disabled-fill-color: #666;\n",
              "  }\n",
              "\n",
              "  .colab-df-quickchart {\n",
              "    background-color: var(--bg-color);\n",
              "    border: none;\n",
              "    border-radius: 50%;\n",
              "    cursor: pointer;\n",
              "    display: none;\n",
              "    fill: var(--fill-color);\n",
              "    height: 32px;\n",
              "    padding: 0;\n",
              "    width: 32px;\n",
              "  }\n",
              "\n",
              "  .colab-df-quickchart:hover {\n",
              "    background-color: var(--hover-bg-color);\n",
              "    box-shadow: 0 1px 2px rgba(60, 64, 67, 0.3), 0 1px 3px 1px rgba(60, 64, 67, 0.15);\n",
              "    fill: var(--button-hover-fill-color);\n",
              "  }\n",
              "\n",
              "  .colab-df-quickchart-complete:disabled,\n",
              "  .colab-df-quickchart-complete:disabled:hover {\n",
              "    background-color: var(--disabled-bg-color);\n",
              "    fill: var(--disabled-fill-color);\n",
              "    box-shadow: none;\n",
              "  }\n",
              "\n",
              "  .colab-df-spinner {\n",
              "    border: 2px solid var(--fill-color);\n",
              "    border-color: transparent;\n",
              "    border-bottom-color: var(--fill-color);\n",
              "    animation:\n",
              "      spin 1s steps(1) infinite;\n",
              "  }\n",
              "\n",
              "  @keyframes spin {\n",
              "    0% {\n",
              "      border-color: transparent;\n",
              "      border-bottom-color: var(--fill-color);\n",
              "      border-left-color: var(--fill-color);\n",
              "    }\n",
              "    20% {\n",
              "      border-color: transparent;\n",
              "      border-left-color: var(--fill-color);\n",
              "      border-top-color: var(--fill-color);\n",
              "    }\n",
              "    30% {\n",
              "      border-color: transparent;\n",
              "      border-left-color: var(--fill-color);\n",
              "      border-top-color: var(--fill-color);\n",
              "      border-right-color: var(--fill-color);\n",
              "    }\n",
              "    40% {\n",
              "      border-color: transparent;\n",
              "      border-right-color: var(--fill-color);\n",
              "      border-top-color: var(--fill-color);\n",
              "    }\n",
              "    60% {\n",
              "      border-color: transparent;\n",
              "      border-right-color: var(--fill-color);\n",
              "    }\n",
              "    80% {\n",
              "      border-color: transparent;\n",
              "      border-right-color: var(--fill-color);\n",
              "      border-bottom-color: var(--fill-color);\n",
              "    }\n",
              "    90% {\n",
              "      border-color: transparent;\n",
              "      border-bottom-color: var(--fill-color);\n",
              "    }\n",
              "  }\n",
              "</style>\n",
              "\n",
              "  <script>\n",
              "    async function quickchart(key) {\n",
              "      const quickchartButtonEl =\n",
              "        document.querySelector('#' + key + ' button');\n",
              "      quickchartButtonEl.disabled = true;  // To prevent multiple clicks.\n",
              "      quickchartButtonEl.classList.add('colab-df-spinner');\n",
              "      try {\n",
              "        const charts = await google.colab.kernel.invokeFunction(\n",
              "            'suggestCharts', [key], {});\n",
              "      } catch (error) {\n",
              "        console.error('Error during call to suggestCharts:', error);\n",
              "      }\n",
              "      quickchartButtonEl.classList.remove('colab-df-spinner');\n",
              "      quickchartButtonEl.classList.add('colab-df-quickchart-complete');\n",
              "    }\n",
              "    (() => {\n",
              "      let quickchartButtonEl =\n",
              "        document.querySelector('#df-917fd212-4584-4676-a1f9-0ce6008cc5fc button');\n",
              "      quickchartButtonEl.style.display =\n",
              "        google.colab.kernel.accessAllowed ? 'block' : 'none';\n",
              "    })();\n",
              "  </script>\n",
              "</div>\n",
              "\n",
              "    </div>\n",
              "  </div>\n"
            ]
          },
          "metadata": {},
          "execution_count": 47
        },
        {
          "output_type": "display_data",
          "data": {
            "text/plain": [
              "<google.colab._quickchart_helpers.SectionTitle at 0x7ed2ff8623e0>"
            ],
            "text/html": [
              "<h4 class=\"colab-quickchart-section-title\">Distributions</h4>\n",
              "<style>\n",
              "  .colab-quickchart-section-title {\n",
              "      clear: both;\n",
              "  }\n",
              "</style>"
            ]
          },
          "metadata": {}
        },
        {
          "output_type": "display_data",
          "data": {
            "text/plain": [
              "from matplotlib import pyplot as plt\n",
              "_df_0['rating'].plot(kind='hist', bins=20, title='rating')\n",
              "plt.gca().spines[['top', 'right',]].set_visible(False)"
            ],
            "text/html": [
              "      <div class=\"colab-quickchart-chart-with-code\" id=\"chart-8a355eb9-991d-4297-bdc9-3615a8b2ff5d\">\n",
              "        <img style=\"width: 180px;\" src=\"data:image/png;base64,iVBORw0KGgoAAAANSUhEUgAAAjEAAAGrCAYAAAAxesZMAAAAOXRFWHRTb2Z0d2FyZQBNYXRwbG90\n",
              "bGliIHZlcnNpb24zLjcuMSwgaHR0cHM6Ly9tYXRwbG90bGliLm9yZy/bCgiHAAAACXBIWXMAAA9h\n",
              "AAAPYQGoP6dpAAAm5ElEQVR4nO3df1DU953H8de65FaTCmiUgwQXCgieGoFNYaymJr0bGzQNeOhd\n",
              "TPNLDD8869gOyZgyxjbaJngz1Ylna8RKaXPOaBLFSkxN7kzNBS9p0FgyrV6NEFfAQ7lJDKCnBJfv\n",
              "/eG455YfsoQvy0efj5nPDN/v57OffX8Gv+GV3c/u12FZliUAAADDjAh1AQAAAANBiAEAAEYixAAA\n",
              "ACMRYgAAgJEIMQAAwEiEGAAAYCRCDAAAMBIhBgAAGIkQAwAAjESIAWCkF154Qd/61rdCXQaAEHJw\n",
              "2wEAw118fLyeffZZ5efnh7oUAMMIr8QACKkvvvgi1CUAMBQhBsCQuu+++7Rs2TItXLhQY8aM0fLl\n",
              "y/UP//APuvPOOzV69GilpKTo5z//uX/8nDlz1NDQoGXLlukrX/mKpkyZIkl67rnndM899wTM+73v\n",
              "fU/f+c53FBERoQkTJuill14KeO6KigolJSVp9OjRys3N1bJly3TfffcNyboBDD5CDIAhV1FRoccf\n",
              "f1yffvqp1q1bp7lz5+ro0aNqbW3V+vXrVVxcrLfeekuStG/fPrndbv3sZz/T+fPndfTo0V7n/dWv\n",
              "fqX8/HydO3dOL774opYtW6a6ujpJ0rvvvqslS5Zo48aN+vzzz5Wfn69f/vKXQ7JeAPYgxAAYctnZ\n",
              "2Zo7d65GjBih2267TXl5eYqMjNSIESP0wAMPKCsrS//2b/8W9Lzz58/X3/7t32rEiBGaP3++xo4d\n",
              "qw8//FCS9PLLLysnJ0dz5syR0+nU3LlzNXfu3MFeGoAhRIgBMOS++tWv+n/u6OjQ008/reTkZEVE\n",
              "RCgyMlL79u1TS0tL0PPecccdAce33Xab2tvbJUmnT59WXFxcQH98fHzwxQMYNggxAIbciBH//5+e\n",
              "9evX6/XXX9frr7+uc+fO6fPPP9ecOXN07Qcnrx0/UHfeeadOnToVcO4vjwGYhRADIKRaW1vlcrk0\n",
              "fvx4dXV16bXXXuv2VlJ0dLSOHz/+pZ7nscce0549e/TWW2/J5/PpzTff1G9/+9svNSeA0CLEAAip\n",
              "p59+WhMmTFBcXJzuuOMOvf3225o3b17AmB/+8Ifas2ePIiMjNW3atAE9z7333qtNmzZp6dKlioyM\n",
              "VFlZmR555BGNHDlyEFYBIBT4sjsAN6158+bpr//6r1VWVhbqUgAMAK/EALhp7Nq1S21tbers7NQr\n",
              "r7yivXv36pFHHgl1WQAGKCzUBQDAUHn99ddVUFCgL774QnFxcfrlL3+pWbNmhbosAAPE20kAAMBI\n",
              "vJ0EAACMRIgBAABGIsQAAAAjEWIAAICRbvgQs2HDhlCXAAAAbHDDhxjujQIAwI3phg8xAADgxkSI\n",
              "AQAARiLEAAAAIxFiAACAkQgxAADASIQYAABgJEIMAAAwEiEGAAAYiRADAACMRIgBAABGIsQAAAAj\n",
              "EWIAAICRbAsxly5d0rx585ScnKzU1FTNnj1bdXV1PY7du3evJk2apIkTJyo3N1dtbW396gMAADcv\n",
              "W1+JKSws1PHjx/XRRx8pJydH+fn53cacP39eTz75pH7zm9/oxIkTuuOOO/TjH//4un0AAODmZluI\n",
              "GTlypObOnSuHwyFJmj59urxeb7dx+/btU3p6uiZNmiRJWrp0qbZv337dvp50dHSora0toPl8vkFe\n",
              "GQAAGA7ChuqJNmzYoJycnG7nGxoaFBcX5z+Oj49Xc3OzLl++3GdfWFj30ktLS7V69eqAc9OnTx/E\n",
              "Vfy/+B+8Ycu8kuRd+4BtcwMAbj52/c0K9d+rIdnY+8ILL6iurk6lpaW2Pk9JSYlaW1sDWmZmpq3P\n",
              "CQAAQsP2EPPTn/5UlZWV2rdvn2699dZu/W63W6dOnfIfe71excTEKCwsrM++nrhcLoWHhwc0p9M5\n",
              "+IsCAAAhZ2uIWb9+vbZv365///d/V2RkZI9jsrKydOTIEf35z3+WJG3atEkLFy68bh8AALi52bYn\n",
              "pqmpSU899ZQSEhL0zW9+U9KVV0o++OAD/fCHP9Qdd9yhJUuWaPTo0dq6davmzZuny5cva+rUqfr1\n",
              "r38tSX32AQCAm5ttISY2NlaWZfXYt2bNmoDj7OxsZWdn9zi2rz4AAHDz4ht7AQCAkQgxAADASIQY\n",
              "AABgJEIMAAAwEiEGAAAYiRADAACMRIgBAABGIsQAAAAjEWIAAICRCDEAAMBIhBgAAGAkQgwAADAS\n",
              "IQYAABiJEAMAAIxEiAEAAEYixAAAACMRYgAAgJEIMQAAwEiEGAAAYCRCDAAAMBIhBgAAGIkQAwAA\n",
              "jESIAQAARiLEAAAAIxFiAACAkQgxAADASIQYAABgJEIMAAAwEiEGAAAYiRADAACMRIgBAABGIsQA\n",
              "AAAjEWIAAICRCDEAAMBIhBgAAGAkW0PM8uXLFR8fL4fDodra2h7HVFRUKC0tzd/GjRun3NxcSZLX\n",
              "65XT6Qzor6+vt7NkAABgiDA7J1+wYIFWrFihe+65p9cxeXl5ysvL8x9PnTpVjzzyiP949OjRvQYg\n",
              "AABw87I1xMyaNSuo8R988IFaWlqUnZ09oOfr6OhQR0dHwDmfzzeguQAAwPA2rPbElJeX67HHHtMt\n",
              "t9ziP3fhwgVlZGTI4/FozZo1fYaS0tJSRUREBLSampqhKB0AAAyxYRNiLly4oB07dujJJ5/0n4uJ\n",
              "idHp06d16NAh7d+/X9XV1Vq3bl2vc5SUlKi1tTWgZWZmDkX5AABgiA2bEPPaa69pypQpmjx5sv+c\n",
              "y+VSVFSUJGns2LFavHixqqure53D5XIpPDw8oDmdTttrBwAAQ2/YhJjy8vKAV2EkqaWlRZ2dnZKu\n",
              "7HeprKxUenp6KMoDAADDjK0hpqioSLGxsWpqatL999+vpKQkSVJ+fr6qqqr8444fP67a2lo99NBD\n",
              "AY8/ePCg0tPTlZqaKo/Ho+joaK1cudLOkgEAgCFs/XRSWVlZj+e3bt0acJySkqL29vZu43Jzc/3f\n",
              "GQMAAHCtYfN2EgAAQDAIMQAAwEiEGAAAYCRCDAAAMBIhBgAAGIkQAwAAjESIAQAARiLEAAAAIxFi\n",
              "AACAkQgxAADASIQYAABgJEIMAAAwEiEGAAAYiRADAACMRIgBAABGIsQAAAAjEWIAAICRCDEAAMBI\n",
              "hBgAAGAkQgwAADASIQYAABiJEAMAAIxEiAEAAEYixAAAACMRYgAAgJEIMQAAwEiEGAAAYCRCDAAA\n",
              "MBIhBgAAGIkQAwAAjESIAQAARiLEAAAAIxFiAACAkQgxAADASIQYAABgJFtDzPLlyxUfHy+Hw6Ha\n",
              "2toex7zzzjsaNWqU0tLS/O3ixYv+/vLyck2cOFGJiYkqKChQZ2ennSUDAABD2BpiFixYoIMHDyou\n",
              "Lq7PcSkpKaqtrfW3UaNGSZJOnjypVatWqbq6WnV1dTp79qy2bNliZ8kAAMAQtoaYWbNmKTY2dsCP\n",
              "37lzp7KzsxUdHS2Hw6ElS5Zo+/btvY7v6OhQW1tbQPP5fAN+fgAAMHwNiz0x9fX18ng8ysjI0KZN\n",
              "m/znGxoaAl7FiY+PV0NDQ6/zlJaWKiIiIqDV1NTYWjsAAAiNkIcYj8ejpqYmHTlyRLt379bmzZv1\n",
              "6quvDmiukpIStba2BrTMzMxBrhgAAAwHIQ8x4eHhioiIkCTFxsbq4YcfVnV1tSTJ7Xbr1KlT/rFe\n",
              "r1dut7vXuVwul8LDwwOa0+m0dwEAACAkQh5impub1dXVJUlqb2/X3r17lZ6eLkmaP3++qqqqdObM\n",
              "GVmWpc2bN2vhwoWhLBcAAAwTtoaYoqIixcbGqqmpSffff7+SkpIkSfn5+aqqqpIk7dq1S3fddZdS\n",
              "U1M1ffp0zZ49W3l5eZKkhIQErV69WjNnzlRSUpLGjx+voqIiO0sGAACGcFiWZYW6CDsVFxdr/fr1\n",
              "gz5v/A/eGPQ5r/KufcC2uQEANx+7/maF+u9VyN9OAgAAGAhCDAAAMBIhBgAAGIkQAwAAjESIAQAA\n",
              "RiLEAAAAIxFiAACAkQgxAADASIQYAABgJEIMAAAwEiEGAAAYiRADAACMRIgBAABGIsQAAAAjEWIA\n",
              "AICRCDEAAMBIhBgAAGAkQgwAADASIQYAABiJEAMAAIxEiAEAAEYixAAAACMRYgAAgJEIMQAAwEiE\n",
              "GAAAYCRCDAAAMBIhBgAAGIkQAwAAjESIAQAARiLEAAAAIxFiAACAkQgxAADASIQYAABgJEIMAAAw\n",
              "EiEGAAAYydYQs3z5csXHx8vhcKi2trbHMb/73e+UmZmpyZMna8qUKVqxYoW6urokSV6vV06nU2lp\n",
              "af5WX19vZ8kAAMAQtoaYBQsW6ODBg4qLi+t1zJgxY7Rjxw4dO3ZMH374od577z29/PLL/v7Ro0er\n",
              "trbW3xITE+0sGQAAGCLMzslnzZp13THp6en+n0eOHKm0tDR5vd4BPV9HR4c6OjoCzvl8vgHNBQAA\n",
              "hrdhtSfmzJkz2rlzp7797W/7z124cEEZGRnyeDxas2ZNn6GktLRUERERAa2mpmYoSgcAAENs2ISY\n",
              "trY2Pfjgg1qxYoW+9rWvSZJiYmJ0+vRpHTp0SPv371d1dbXWrVvX6xwlJSVqbW0NaJmZmUO1BAAA\n",
              "MISGRYhpb29XVlaWcnJyVFxc7D/vcrkUFRUlSRo7dqwWL16s6urqXudxuVwKDw8PaE6n0/b6AQDA\n",
              "0At5iDl//ryysrKUlZWlZ599NqCvpaVFnZ2dkq7sd6msrAzYQwMAAG5etoaYoqIixcbGqqmpSfff\n",
              "f7+SkpIkSfn5+aqqqpIkbdiwQTU1NaqsrPR/jPr555+XJB08eFDp6elKTU2Vx+NRdHS0Vq5caWfJ\n",
              "AADAEA7LsqxQF2Gn4uJirV+/ftDnjf/BG4M+51XetQ/YNjcA4OZj19+sUP+9CvnbSQAAAANBiAEA\n",
              "AEYixAAAACMRYgAAgJGCDjFvvfWWHXUAAAAEJegQs2bNGqWkpGjDhg1qa2uzoyYAAIDrCjrE/Od/\n",
              "/qd27NihP/3pT0pOTtbSpUt17NgxO2oDAADo1YD2xKSnp+sXv/iF3nzzTe3du1fTpk3T7Nmz9cc/\n",
              "/nGw6wMAAOjRgELM/v37lZOTo9zcXH33u9/VmTNnVFRUpL//+78f7PoAAAB6FBbsA/7mb/5G48aN\n",
              "0/Lly5Wbm+u/weKCBQtUXl4+6AUCAAD0JOgQs23bNt1999099u3bt+9LFwQAANAfQb+d9OGHH+qz\n",
              "zz7zH3/66af6xS9+MahFAQAAXE/QIWbTpk0aO3as//j222/Xpk2bBrUoAACA6wk6xPR002ufzzco\n",
              "xQAAAPRX0CEmJiZGr776qv/4lVdeUUxMzKAWBQAAcD1Bb+x98cUXlZOToxUrVkiSbr31Vu3Zs2fQ\n",
              "CwMAAOhL0CFm0qRJOnbsmI4fPy5JSklJ8X/MGgAAYKgEHWIkyeFwKDIyUpcvX9bp06clSW63e1AL\n",
              "AwAA6EvQIeZXv/qVli9frltuuUUjRlzZUuNwONTS0jLoxQEAAPQm6BDz4x//WIcOHVJKSood9QAA\n",
              "APRL0J9OGjduHAEGAACEXNAhZt68eXrxxRfV0tKitrY2fwMAABhKQb+dtHLlSklScXGxHA6HLMuS\n",
              "w+HgC+8AAMCQCjrEdHV12VEHAABAUIJ+O0m6chPIf/3Xf5Ukff7552pubh7UogAAAK5nQDeAXLx4\n",
              "sZ577jlJV+5i/Z3vfGew6wIAAOhT0CFmy5Yt+v3vf6/w8HBJUmJiov7nf/5n0AsDAADoS9AhxuVy\n",
              "adSoUQHnwsIG9MW/AAAAAxZ0iBk/frw+/vhjORwOSVe+wZdbDgAAgKE2oLtYP/zww/rzn/+sCRMm\n",
              "KDw8XHv37rWjNgAAgF4FHWKSkpL0wQcf6Pjx47Isi7tYAwCAkAg6xDQ0NEiSbrvtNkniLtYAACAk\n",
              "gg4xd999t/+bei9duqT//d//1e23385drAEAwJAKOsT85cepKysr9dFHHw1aQQAAAP0xoG/svVZu\n",
              "bq7eeOONwagFAACg34IOMdfeufrcuXN68803e72L9fLlyxUfHy+Hw6Ha2tpe5ywvL9fEiROVmJio\n",
              "goICdXZ29qsPAADcvIIOMZGRkRozZowiIyMVFRWl4uJi/cu//EuPYxcsWKCDBw8qLi6u1/lOnjyp\n",
              "VatWqbq6WnV1dTp79qy2bNly3T4AAHBzCzrEdHV1yefzqaurS52dnTp27JiysrJ6HDtr1izFxsb2\n",
              "Od/OnTuVnZ2t6OhoORwOLVmyRNu3b79uX086OjoCXilqa2uTz+cLdokAAMAAIb9fQENDQ8ArNfHx\n",
              "8f6PcffV15PS0lKtXr064Nz06dMHuWIAw0X8D+zZj+dd+4At8wIYXEG/EjNixAg5nc5u7er5UCop\n",
              "KVFra2tAy8zMDGlNAADAHkG/ErNmzRpdvHhR//RP/yRJ2rx5s0aNGqXvf//7AyrA7Xarvr7ef+z1\n",
              "ev1fnNdXX09cLpdcLlfAuVAHKwAAYI+gX4nZvXu3nn/+ecXGxio2NlY/+clPVFlZqdtuu83/Lb7B\n",
              "mD9/vqqqqnTmzBlZlqXNmzdr4cKF1+0DAAA3t6BDTHt7e8C387a0tKi9vb3HsUVFRYqNjVVTU5Pu\n",
              "v/9+JSUlSZLy8/NVVVUlSUpISNDq1as1c+ZMJSUlafz48SoqKrpuHwAAuLkF/XbSU089pdTUVM2d\n",
              "O1eS9Oabb+q5557rcWxZWVmP57du3RpwXFBQoIKCgh7H9tUHAABuXkGHmKKiIs2cOVMHDhyQJBUX\n",
              "F2vKlCmDXhgAAEBfBvQR69tvv1133XWX7rvvPl2+fFlffPGF/uqv/mqwawMAAOhV0Htidu7cqenT\n",
              "pysvL0+SdPToUc2bN2+w6wIAAOhT0CGmtLRUR44cUWRkpCQpNTVVp06dGuy6AAAA+hR0iHE6nbr9\n",
              "9tsDzvFWEgAAGGpBh5jRo0fr7NmzcjgckqS3335bY8eOHfTCAAAA+hL0xt5//ud/1pw5c/TJJ5/o\n",
              "nnvu0cmTJ/XGG/bcvwQAAKA3QYWYq3ewPnDggN577z1ZlqUZM2b498cAAAAMlaBCzIgRI1RYWKiP\n",
              "PvpIc+bMsasmAACA6wp6T8zEiRNVV1dnRy0AAAD9FvSemM8++0xpaWmaMWOGvvKVr/jPV1ZWDmph\n",
              "AAAAfel3iCksLNSWLVv0xBNPKDs7W2PGjLGzLgAAgD71O8QcPnxYkvTEE0/I4/HoyJEjthUFAABw\n",
              "PUHviZEky7IGuw4AAICg9PuVmIsXL+qPf/yjLMvSpUuX/D9fNW3aNFsKBAAA6ElQISY7O9t/fO3P\n",
              "DodDn3zyyeBWBgAA0Id+hxiv12tjGQAAAMEZ0J4YAACAUCPEAAAAIxFiAACAkQgxAADASIQYAABg\n",
              "JEIMAAAwEiEGAAAYiRADAACMRIgBAABGIsQAAAAjEWIAAICRCDEAAMBIhBgAAGAkQgwAADASIQYA\n",
              "ABiJEAMAAIxEiAEAAEYixAAAACPZGmJOnDihGTNmKDk5WRkZGTp69Gi3MRUVFUpLS/O3cePGKTc3\n",
              "V5Lk9XrldDoD+uvr6+0sGQAAGCLMzsmLiopUWFioRYsWaefOnVq0aJEOHToUMCYvL095eXn+46lT\n",
              "p+qRRx7xH48ePVq1tbV2lgkAAAxk2ysxLS0tOnz4sB599FFJ0vz589XY2Ki6urpeH/PBBx+opaVF\n",
              "2dnZA3rOjo4OtbW1BTSfzzeguQAAwPBmW4hpbGxUTEyMwsKuvNjjcDjkdrvV0NDQ62PKy8v12GOP\n",
              "6ZZbbvGfu3DhgjIyMuTxeLRmzZo+Q0lpaakiIiICWk1NzeAtCgAADBvDZmPvhQsXtGPHDj355JP+\n",
              "czExMTp9+rQOHTqk/fv3q7q6WuvWret1jpKSErW2tga0zMzMoSgfAAAMMdtCzIQJE9Tc3KzLly9L\n",
              "kizLUkNDg9xud4/jX3vtNU2ZMkWTJ0/2n3O5XIqKipIkjR07VosXL1Z1dXWvz+lyuRQeHh7QnE7n\n",
              "IK4KAAAMF7aFmKioKHk8Hm3btk2StGvXLsXGxiopKanH8eXl5QGvwkhX9tV0dnZKurLfpbKyUunp\n",
              "6XaVDAAADGLr20llZWUqKytTcnKy1q5dq4qKCklSfn6+qqqq/OOOHz+u2tpaPfTQQwGPP3jwoNLT\n",
              "05WamiqPx6Po6GitXLnSzpIBAIAhbP2IdUpKit5///1u57du3dptXHt7e7dxubm5/u+MAQAAuNaw\n",
              "2dgLAAAQDEIMAAAwEiEGAAAYiRADAACMRIgBAABGIsQAAAAjEWIAAICRCDEAAMBIhBgAAGAkQgwA\n",
              "ADASIQYAABiJEAMAAIxEiAEAAEYixAAAACMRYgAAgJEIMQAAwEiEGAAAYCRCDAAAMBIhBgAAGIkQ\n",
              "AwAAjESIAQAARiLEAAAAIxFiAACAkQgxAADASIQYAABgJEIMAAAwEiEGAAAYiRADAACMRIgBAABG\n",
              "IsQAAAAjEWIAAICRCDEAAMBIhBgAAGAkQgwAADASIQYAABjJ1hBz4sQJzZgxQ8nJycrIyNDRo0e7\n",
              "jXnnnXc0atQopaWl+dvFixf9/eXl5Zo4caISExNVUFCgzs5OO0sGAACGsDXEFBUVqbCwUB9//LGe\n",
              "eeYZLVq0qMdxKSkpqq2t9bdRo0ZJkk6ePKlVq1apurpadXV1Onv2rLZs2WJnyQAAwBC2hZiWlhYd\n",
              "PnxYjz76qCRp/vz5amxsVF1dXb/n2Llzp7KzsxUdHS2Hw6ElS5Zo+/btvY7v6OhQW1tbQPP5fF96\n",
              "LQAAYPixLcQ0NjYqJiZGYWFhkiSHwyG3262GhoZuY+vr6+XxeJSRkaFNmzb5zzc0NCguLs5/HB8f\n",
              "3+PjryotLVVERERAq6mpGcRVAQCA4SLkG3s9Ho+ampp05MgR7d69W5s3b9arr746oLlKSkrU2toa\n",
              "0DIzMwe5YgAAMBzYFmImTJig5uZmXb58WZJkWZYaGhrkdrsDxoWHhysiIkKSFBsbq4cffljV1dWS\n",
              "JLfbrVOnTvnHer3ebo+/lsvlUnh4eEBzOp2DvTQAADAM2BZioqKi5PF4tG3bNknSrl27FBsbq6Sk\n",
              "pIBxzc3N6urqkiS1t7dr7969Sk9Pl3RlH01VVZXOnDkjy7K0efNmLVy40K6SAQCAQWx9O6msrExl\n",
              "ZWVKTk7W2rVrVVFRIUnKz89XVVWVpCvh5q677lJqaqqmT5+u2bNnKy8vT5KUkJCg1atXa+bMmUpK\n",
              "StL48eNVVFRkZ8kAAMAQYXZOnpKSovfff7/b+a1bt/p/XrZsmZYtW9brHAUFBSooKLClPgAAYK6Q\n",
              "b+wFAAAYCEIMAAAwEiEGAAAYiRADAACMRIgBAABGIsQAAAAjEWIAAICRCDEAAMBIhBgAAGAkQgwA\n",
              "ADASIQYAABiJEAMAAIxEiAEAAEYixAAAACMRYgAAgJEIMQAAwEiEGAAAYCRCDAAAMBIhBgAAGIkQ\n",
              "AwAAjESIAQAARiLEAAAAIxFiAACAkQgxAADASIQYAABgJEIMAAAwEiEGAAAYiRADAACMRIgBAABG\n",
              "IsQAAAAjEWIAAICRCDEAAMBIhBgAAGAkQgwAADASIQYAABjJ1hBz4sQJzZgxQ8nJycrIyNDRo0e7\n",
              "jfnd736nzMxMTZ48WVOmTNGKFSvU1dUlSfJ6vXI6nUpLS/O3+vp6O0sGAACGsDXEFBUVqbCwUB9/\n",
              "/LGeeeYZLVq0qNuYMWPGaMeOHTp27Jg+/PBDvffee3r55Zf9/aNHj1Ztba2/JSYm2lkyAAAwhG0h\n",
              "pqWlRYcPH9ajjz4qSZo/f74aGxtVV1cXMC49PV0JCQmSpJEjRyotLU1er3dAz9nR0aG2traA5vP5\n",
              "vtQ6AADA8GRbiGlsbFRMTIzCwsIkSQ6HQ263Ww0NDb0+5syZM9q5c6e+/e1v+89duHBBGRkZ8ng8\n",
              "WrNmTZ+hpLS0VBEREQGtpqZm8BYFAACGjWGzsbetrU0PPvigVqxYoa997WuSpJiYGJ0+fVqHDh3S\n",
              "/v37VV1drXXr1vU6R0lJiVpbWwNaZmbmUC0BAAAMIdtCzIQJE9Tc3KzLly9LkizLUkNDg9xud7ex\n",
              "7e3tysrKUk5OjoqLi/3nXS6XoqKiJEljx47V4sWLVV1d3etzulwuhYeHBzSn0znIKwMAAMOBbSEm\n",
              "KipKHo9H27ZtkyTt2rVLsbGxSkpKChh3/vx5ZWVlKSsrS88++2xAX0tLizo7OyVd2e9SWVmp9PR0\n",
              "u0oGAAAGsfXtpLKyMpWVlSk5OVlr165VRUWFJCk/P19VVVWSpA0bNqimpkaVlZX+j1E///zzkqSD\n",
              "Bw8qPT1dqamp8ng8io6O1sqVK+0sGQAAGCLMzslTUlL0/vvvdzu/detW/88rV67sNZjk5uYqNzfX\n",
              "tvoAAIC5hs3GXgAAgGAQYgAAgJEIMQAAwEiEGAAAYCRCDAAAMBIhBgAAGIkQAwAAjESIAQAARiLE\n",
              "AAAAIxFiAACAkQgxAADASIQYAABgJEIMAAAwEiEGAAAYiRADAACMRIgBAABGIsQAAAAjEWIAAICR\n",
              "CDEAAMBIhBgAAGAkQgwAADASIQYAABiJEAMAAIxEiAEAAEYixAAAACMRYgAAgJEIMQAAwEiEGAAA\n",
              "YCRCDAAAMBIhBgAAGIkQAwAAjESIAQAARiLEAAAAIxFiAACAkQgxAADASLaGmBMnTmjGjBlKTk5W\n",
              "RkaGjh492uO48vJyTZw4UYmJiSooKFBnZ2e/+gAAwM3L1hBTVFSkwsJCffzxx3rmmWe0aNGibmNO\n",
              "njypVatWqbq6WnV1dTp79qy2bNly3T4AAHBzsy3EtLS06PDhw3r00UclSfPnz1djY6Pq6uoCxu3c\n",
              "uVPZ2dmKjo6Ww+HQkiVLtH379uv29aSjo0NtbW0Bzefz2bVEAAAQQmF2TdzY2KiYmBiFhV15CofD\n",
              "IbfbrYaGBiUlJfnHNTQ0KC4uzn8cHx+vhoaG6/b1pLS0VKtXrw44N2nSJBUXFw/Kmq7y+XyKqalR\n",
              "ZmamnE7noM4tScXFbw/6nMHy+XyqsXGNocb6zGfndcg1ODRu9DUOp/Xl2jCnz+fT17/+E9vWFxcX\n",
              "p+9973t9jrEtxIRCSUlJt8DicrnkcrkG9Xna2toUERGht956S+Hh4YM693Bxo6+R9ZnvRl/jjb4+\n",
              "6cZfI+uzn20hZsKECWpubtbly5cVFhYmy7LU0NAgt9sdMM7tdqu+vt5/7PV6/WP66uuJHYEFAAAM\n",
              "T7btiYmKipLH49G2bdskSbt27VJsbGzAW0nSlb0yVVVVOnPmjCzL0ubNm7Vw4cLr9gEAgJubrZ9O\n",
              "KisrU1lZmZKTk7V27VpVVFRIkvLz81VVVSVJSkhI0OrVqzVz5kwlJSVp/PjxKioqum4fAAC4udm6\n",
              "JyYlJUXvv/9+t/Nbt24NOC4oKFBBQUGPc/TVFyoul0s/+tGPbui3rm70NbI+893oa7zR1yfd+Gtk\n",
              "ffZzWJZlhezZAQAABojbDgAAACMRYgAAgJEIMQAAwEiEGAAAYCRCTB+WL1+u+Ph4ORwO1dbW9jrO\n",
              "1Dtt92d977zzjkaNGqW0tDR/u3jx4tAWOkCXLl3SvHnzlJycrNTUVM2ePbvbvbuu2rt3ryZNmqSJ\n",
              "EycqNzdXbW1tQ1xt8Pq7Pq/XK6fTGfA7vPZLJIe7b33rW5o2bZrS0tL0jW98Q3/4wx96HGfqddif\n",
              "9Zl8HV5VUVEhh8Oh3/zmNz32m3gN/qW+1mjydRgfH6+UlBR/3a+88kqP40JyDVro1X/8x39YjY2N\n",
              "VlxcnPWHP/yhxzGffPKJFRMTYzU3N1tdXV3Wgw8+aP3sZz8b2kIHqD/rO3DggJWamjqkdQ2Wixcv\n",
              "Wm+88YbV1dVlWZZlbdy40br33nu7jWtvb7eioqKs//qv/7Isy7K++93vWk8//fRQljog/V3fyZMn\n",
              "rYiIiKEtbhCdO3fO/3NlZaU1bdq0bmNMvg77sz6Tr0PLuvJv8Otf/7o1ffp0a/fu3d36Tb0Gr3W9\n",
              "NZp8Hfb1N+KqUF2DvBLTh1mzZik2NrbPMcHeaXs46c/6TDZy5EjNnTtXDodDkjR9+nR5vd5u4/bt\n",
              "26f09HRNmjRJkrR06VIjfof9XZ/pIiMj/T+3trb613stk6/D/qzPZF1dXcrPz9fGjRt7/T4RU6/B\n",
              "q/qzxhtdqK7BG+oGkKEQ7J22TVRfXy+PxyOn06m8vDwtXbo01CUNyIYNG5STk9PtfE+/w2vv+2WK\n",
              "3tYnSRcuXFBGRoZ8Pp/mzZunlStXhvyuusF4/PHHdeDAAUnSb3/72279pl+H11ufZO51uH79es2c\n",
              "OVN33313r2NMvwb7s0bJ7Ovw8ccfl2VZyszM1Nq1azV+/PiA/lBdg8P/XwdCyuPxqKmpSREREWpq\n",
              "atLcuXM1btw4/eM//mOoSwvKCy+8oLq6Or399tuhLsUWfa0vJiZGp0+fVlRUlD777DM99NBDWrdu\n",
              "nVasWBGCSgfm5ZdfliT9+te/1jPPPNPrH3pTXW99pl6Hf/rTn7Rr1y69++67oS7FNv1do8nX4bvv\n",
              "viu3263Ozk49++yzeuKJJ4bNNcjbSV+S2+3WqVOn/MfXu9O2acLDwxURESFJio2N1cMPP6zq6uoQ\n",
              "VxWcn/70p6qsrNS+fft06623duvv6XcYExNjxP8BStdfn8vlUlRUlCRp7NixWrx4sXG/w6ueeOIJ\n",
              "HThwQJ9++mnA+RvlOuxtfaZeh9XV1fJ6vZo4caLi4+P1+9//XoWFhXrppZcCxpl8DfZ3jSZfh1ev\n",
              "pVtuuUXf//73e6w7ZNeg7btubgB9bWqqr6/vtplp48aNQ1vgl9TX+v77v//b8vl8lmVZVltbmzVj\n",
              "xgyrvLx8CKv7ctatW2d5PB7rs88+63VMW1ubNX78+IBNhU899dRQlfil9Gd9Z8+etb744gvLsizr\n",
              "0qVL1oIFC6xVq1YNVYlfyrlz56zTp0/7j3fv3m3deeed/s3MV5l6HfZ3faZfh1fde++9PW56Nfka\n",
              "/Eu9rdHU6/D8+fMBm8/XrVtnfeMb3+g2LlTXICGmD4WFhdadd95pOZ1OKyoqykpMTLQsy7KefPJJ\n",
              "a8+ePf5xW7ZssRISEqyEhARr8eLF/n+ow11/1rdx40Zr8uTJ1rRp06zJkydbP/rRj7r9B3a4amxs\n",
              "tCRZCQkJVmpqqpWammplZmZalmVZq1atsl566SX/2D179lgpKSlWYmKilZOTY33++eehKrvf+ru+\n",
              "Xbt2WVOmTPH/DpctW2ZdunQplKX3m9frtTIyMqypU6da06ZNs/7u7/7OH7hvhOuwv+sz+Tq81rV/\n",
              "4G+Ea7Anva3R1Ouwvr7eSktLs+666y5r6tSpVnZ2tnXy5EnLsobHNcgNIAEAgJHYEwMAAIxEiAEA\n",
              "AEYixAAAACMRYgAAgJEIMQAAwEiEGAAAYCRCDAAAMBIhBgAAGIkQAwAAjESIAQAARvo/pgIYwZkT\n",
              "BZ8AAAAASUVORK5CYII=\n",
              "\">\n",
              "      </div>\n",
              "      <script type=\"text/javascript\">\n",
              "        (() => {\n",
              "          const chartElement = document.getElementById(\"chart-8a355eb9-991d-4297-bdc9-3615a8b2ff5d\");\n",
              "          async function getCodeForChartHandler(event) {\n",
              "            const chartCodeResponse =  await google.colab.kernel.invokeFunction(\n",
              "                'getCodeForChart', [\"chart-8a355eb9-991d-4297-bdc9-3615a8b2ff5d\"], {});\n",
              "            const responseJson = chartCodeResponse.data['application/json'];\n",
              "            await google.colab.notebook.addCell(responseJson.code, 'code');\n",
              "          }\n",
              "          chartElement.onclick = getCodeForChartHandler;\n",
              "        })();\n",
              "      </script>\n",
              "      <style>\n",
              "        .colab-quickchart-chart-with-code  {\n",
              "            display: block;\n",
              "            float: left;\n",
              "            border: 1px solid transparent;\n",
              "        }\n",
              "\n",
              "        .colab-quickchart-chart-with-code:hover {\n",
              "            cursor: pointer;\n",
              "            border: 1px solid #aaa;\n",
              "        }\n",
              "      </style>"
            ]
          },
          "metadata": {}
        },
        {
          "output_type": "display_data",
          "data": {
            "text/plain": [
              "<google.colab._quickchart_helpers.SectionTitle at 0x7ed2ff850340>"
            ],
            "text/html": [
              "<h4 class=\"colab-quickchart-section-title\">Categorical distributions</h4>\n",
              "<style>\n",
              "  .colab-quickchart-section-title {\n",
              "      clear: both;\n",
              "  }\n",
              "</style>"
            ]
          },
          "metadata": {}
        },
        {
          "output_type": "display_data",
          "data": {
            "text/plain": [
              "from matplotlib import pyplot as plt\n",
              "import seaborn as sns\n",
              "_df_1.groupby('user_id').size().plot(kind='barh', color=sns.palettes.mpl_palette('Dark2'))\n",
              "plt.gca().spines[['top', 'right',]].set_visible(False)"
            ],
            "text/html": [
              "      <div class=\"colab-quickchart-chart-with-code\" id=\"chart-8362617f-6ecd-4756-bc85-9bf20bd97ee5\">\n",
              "        <img style=\"width: 180px;\" src=\"data:image/png;base64,iVBORw0KGgoAAAANSUhEUgAAAoQAAAGZCAYAAAAQFyCXAAAAOXRFWHRTb2Z0d2FyZQBNYXRwbG90\n",
              "bGliIHZlcnNpb24zLjcuMSwgaHR0cHM6Ly9tYXRwbG90bGliLm9yZy/bCgiHAAAACXBIWXMAAA9h\n",
              "AAAPYQGoP6dpAAAyOElEQVR4nO3deVRV9f7/8dcBlSwVx8wgRBwCJ06iOSQKWeElrWulaeSIllZW\n",
              "akreb+bQYJnlUHpTOyUSFVlofs1vk4JpaWkKaphToOaQ91oCJiLC/v3hcv86gYqkHuXzfKy11+3s\n",
              "z7Df+0MrXncPB4dlWZYAAABgLC9PFwAAAADPIhACAAAYjkAIAABgOAIhAACA4QiEAAAAhiMQAgAA\n",
              "GI5ACAAAYDgCIQAAgOEIhAAAAIYjEKLUZsyY4ekSAADARUAgRKnt3r3b0yUAAICLgEAIAABgOAIh\n",
              "AACA4QiEAAAAhiMQAgAAGI5ACAAAYDgCIQAAgOEIhAAAAIYjEAIAABiOQAgAAGA4AiEAAIDhCIQA\n",
              "AACGIxACAAAYjkAIAABgOAIhAACA4QiEAAAAhiMQAgAAGM5hWZbl6SJwZWgZXU3t+9bwdBkAAJQr\n",
              "c/rs9nQJXCEEAAAwHYEQAADAcARCAAAAwxEIAQAADEcgBAAAMByBEAAAwHAEQgAAAMMRCAEAAAxH\n",
              "IAQAADAcgRAAAMBwBEIAAADDEQgBAAAMRyAEAAAwHIEQAADAcJd1IMzNzVWVKlUUGxsrSZo4caIG\n",
              "Dx5st69evVoOh0Opqan2vqFDh2rcuHGSpDvuuEMtW7aU0+lUeHi4Nm7caPcLDAxUWlpasWPeeeed\n",
              "mjJliv1548aN8vPz06FDh9z6jR8/Xg6Hw57j8OHDcjqd9takSRNVqFBBv/32myQpIiJCixcvliRN\n",
              "mDBBTz75pNt88+fP1z//+U9JUlZWlry9veV0OhUaGqqwsDClpKTY/Xx9fd2OtX79ekmSw+FQixYt\n",
              "FBoaqqZNm+qdd96x509NTZXT6TzLagMAAFNV8HQBZ5OUlKSwsDAlJydrxowZioyM1KBBg+z2lJQU\n",
              "tW3bVqmpqYqIiLD3vfnmm5KkDz/8UNWrV5ckLVq0SAMGDFB6evpZj/nWW28pLCxMd955pxo1aqR+\n",
              "/fppxowZuvbaa+0+33//vdatW6f69evb+2rVquUWMKdOnaqVK1eqZs2aZTr3qlWr2vMlJyerV69e\n",
              "diiNjIy0w+VfrVq1StWrV1d6erratGmjrl27ql69emWqAQAAmOGyvkLocrkUFxenTp06KSkpSe3a\n",
              "tdP+/fv1yy+/SDp11evZZ5+1rxAeOHBAe/bsUfv27SXJDoOSlJ2dLYfDcc5j1qtXT1OnTlW/fv00\n",
              "duxYNW/eXPfdd5/dfuzYMT322GOaM2fOOWs/fWXz7+ratav++9//6vDhw6UeExoaqho1athrBQAA\n",
              "cCaX7RXCjIwM7d27V1FRUTp58qReeuklxcbGqkOHDkpJSVGvXr2UmZmp6OhoPf744zp+/LhSUlLU\n",
              "vn17XXXVVfY8/fr1s2+3Llu2rFTHfuCBBxQfH68FCxZo27Ztbm1jxozRsGHDdMMNN5xx/Lfffqvf\n",
              "f/9d3bp1O2OfxMREt1vdv/32m1q1alVi3/fff18BAQGqXbu2pFNXQU/f/q1bt64+//zzYmNWrlyp\n",
              "2rVrKzQ09Iw1nE1+fr7y8/Pd9hUVWWWaCwAAXN4u20DocrnUr18/eXt7Kzo6Wg8//LC2bt2qyMhI\n",
              "paamqn79+rr55pslSe3atdOaNWuUmpqqyMhIt3kWLFggSYqPj1dcXFypQuH+/fu1efNmVahQQZmZ\n",
              "mapVq5Yk6csvv9Tu3bv1xhtvlKr2ChXOvLwxMTGaPn26/Xn+/Plut4Fzc3Pt0Ofn56clS5bYbWe7\n",
              "ZRweHq68vDxlZmbqo48+UqVKlc5+smcwefJkTZw40W3ftY3KNhcAALi8XZaBsKCgQAkJCapYsaLe\n",
              "e+89Sadu1bpcLt1zzz1yuVwKCAiwnxvs3LmzUlJSlJKSovnz55c4Z//+/TV06FAdPnzYDnhnEhsb\n",
              "q1GjRikgIEADBgzQhg0bVKlSJa1YsUIbNmxQYGCgJOmXX35RdHS05syZo+7du0uSjh49qg8//FDr\n",
              "1q37W2vw52cIz8fpZwjnz5+vAQMGqEOHDqpbt+55zzN27FiNHDnSbV+HXn7nPQ8AALj8XZbPEC5Z\n",
              "skRBQUHat2+fsrKylJWVpbVr1yohIUFt2rTRoUOHlJiY6BYIP/jgAx04cMC+anjkyBHt37/fnnPx\n",
              "4sWqVavWOV/ymDNnjnJzczVixAj17NlTzZo104QJEySdumr255r8/f21bNkyOwxKp16ECQ0NVXBw\n",
              "8IVdlPM0YMAAdenSRS+++GKZxvv4+KhatWpum5fXuZ/BBAAAV57L8gqhy+VSTEyM276QkBD5+fnp\n",
              "f//3f9WxY0elp6fboatJkybKzc1Vx44dVbFiRUmnXiLp2bOn8vLy5OXlpTp16mjp0qVuL5ZERUXZ\n",
              "/aVTz+qNHz9eq1evlpfXqaw8a9YshYaGqkePHmrTpk2pah8yZMjfXoML4eWXX1ZYWJjGjBkj6dRz\n",
              "mf7+/nZ7+/bttXDhQk+VBwAALhMOy7J4UwCl0jK6mtr3reHpMgAAKFfm9Nnt6RIuz1vGAAAAuHQI\n",
              "hAAAAIYjEAIAABiOQAgAAGA4AiEAAIDhCIQAAACGIxACAAAYjkAIAABgOAIhAACA4QiEAAAAhiMQ\n",
              "AgAAGI5ACAAAYDgCIQAAgOEqeLoAXDluCx6s1/q85ukyAADABcYVQgAAAMMRCAEAAAxHIAQAADAc\n",
              "gRAAAMBwBEIAAADDEQgBAAAMRyAEAAAwHIEQAADAcARCAAAAwxEIAQAADEcgBAAAMByBEAAAwHAE\n",
              "QgAAAMMRCAEAAAxHIAQAADAcgRAAAMBwBEIAAADDEQgBAAAMRyAEAAAwHIEQAADAcARCAAAAwxEI\n",
              "AQAADEcgBAAAMByBEAAAwHAEQgAAAMMRCAEAAAxHIAQAADAcgRAAAMBwBEIAAADDEQgBAAAMRyAE\n",
              "AAAwHIEQAADAcARCAAAAwxEIAQAADEcgBAAAMByBEAAAwHAVPF0Arhx/xK/Xwc9e8XQZAACUK9dl\n",
              "jPZ0CVwhBAAAMB2BEAAAwHAEQgAAAMMRCAEAAAxHIAQAADAcgRAAAMBwBEIAAADDEQgBAAAMRyAE\n",
              "AAAwHIEQAADAcARCAAAAwxEIAQAADEcgBAAAMByBEAAAwHAeCYS5ubmqUqWKYmNj7X1r1qyR0+mU\n",
              "0+lUs2bN9PDDDys/P1+SlJqaKqfTWeJcDodDLVq0UMuWLdWkSRP16dNHGRkZdvuECRNUp04dOZ1O\n",
              "hYSE6P7779fvv/8uSYqIiFCDBg3s40ZHR0uS5s+fL19fX3t/ZGSkPd9f25xOp9avX2/X8tc633nn\n",
              "HTkcDk2fPr3Y+NDQULVs2VKffPKJ3b9t27b2vM2bN5fD4dCmTZskSTt27FBkZKScTqeCg4M1atQo\n",
              "FRUVSZJmzpyp5s2b22vx7rvv2nNGR0e71et0OuXt7a2XXnqp1D8zAABQfnkkECYlJSksLEzJyck6\n",
              "evSoJCk0NFTr1q1TWlqaNm/erEOHDmn27Nmlmm/VqlXatGmTfvrpJ3Xu3Fm33HKLMjMz7faYmBil\n",
              "paVpy5YtKigo0PPPP2+3TZs2TWlpaUpLS9OyZcvs/ZGRkfb+lJQUt+P9uS0tLU2tW7e22ypUqKAf\n",
              "fvjB/vz222+7tf95fHp6uubOnavBgwfbbd99950974QJE9S8eXO1bNlSkjR69Gj16NHDbv/iiy/0\n",
              "2WefSZKaNWumb775Rps3b9ann36qJ598Urt27ZIkLVu2zK3ewYMH68Ybb9Sjjz5aqvUFAADlm0cC\n",
              "ocvlUlxcnDp16qSkpCRJ0tVXX62KFStKkk6cOKG8vDw5HI7zmtfLy0tDhw5VVFRUiWHS29tbt912\n",
              "m7Zt2/b3T+IMBg4cqLfffluStH37dhUUFKhZs2Zn7H/kyBHVqFGjxDaXy+V2FdXhcCg7O1uSlJeX\n",
              "p4KCAtWrV0+S1KVLF/n6+kqSbrjhBl133XXau3dvsTlXr16tCRMmaNGiRapatWrZThIAAJQrlzwQ\n",
              "ZmRkaO/evYqKilJsbKxcLpfdlpWVpdDQUNWuXVu+vr565JFHynSMtm3b6scffyy2Py8vT4sXL1ZY\n",
              "WJi9b8SIEfZt1FmzZtn7V69eLafTqQ4dOmjhwoVu86SkpNhjoqKi3NruueceLVu2TMePH9fbb7+t\n",
              "gQMHFqvj9PgmTZro3nvv1WuvvVasz969e7Vy5Uo9+OCD9r7p06dr4cKFuv7663X99derX79+uumm\n",
              "m4qN/eqrr/T777+rTZs2bvv379+vXr16yeVy6cYbbyw27s/y8/OVk5PjthVaRWcdAwAArkyXPBC6\n",
              "XC7169dP3t7eio6OVmZmprZu3SpJCgwMVHp6ug4ePKj8/HwlJyeX6RiWZbl9TkxM1E033aQOHTqo\n",
              "adOmevrpp+22P98yPn0LtVu3btqzZ4/S0tLkcrk0cuRIrV271h7z51vGn3/+uduxKleurKioKC1c\n",
              "uFALFy5Unz59itV3evz27dv13XffafDgwdq/f79bn/nz56tbt26qXbu2vW/27Nnq06eP9u/fr927\n",
              "dysxMVFffvml27jNmzdr4MCBSkpK0jXXXGPvP3HihO69914NHjxYd9999znXcPLkyfL19XXb0vKK\n",
              "X3EEAABXvksaCAsKCpSQkKD4+HgFBgaqUaNGOnbsmNtVQkmqUqWKevfurcTExDIdZ926dWrevLn9\n",
              "OSYmRhs3btTGjRs1ffp0Va5c+azja9eurauvvlqSFBISoujoaH3zzTelPv7AgQM1cuRIdejQQdWq\n",
              "VTtr3+bNmysgIMBtfsuy9M4777jdLpakWbNmqX///pKka6+9VtHR0UpNTbXbMzIy1K1bN7399tvq\n",
              "2LGj29jhw4erVq1amjhxYqnOYezYscrOznbbnJVvKNVYAABwZbmkgXDJkiUKCgrSvn37lJWVpays\n",
              "LK1du1YJCQnasWOHCgoKJJ26mrVo0SL7ZYrSKioq0rx58/TZZ59p2LBhZa5z37599j//+uuvWrFi\n",
              "RYm3Zs+kbdu2euaZZzR27Nhz9v3ll1+0Y8cONWnSxN63YsUKnTx5Urfffrtb36CgIPslkj/++EMp\n",
              "KSl28N26dauio6M1d+7cYuPeeustrVixQu+++26pn8v08fFRtWrV3DZvB99SBABAeVThUh7M5XIp\n",
              "JibGbV9ISIj8/Py0aNEiLViwQN7e3jp58qS6dOmicePG2f0yMjLk7+9vf27fvr39bF94eLgcDoeO\n",
              "Hz+uVq1a6ZtvvlGDBg3KXOesWbP0ySefqGLFiioqKtKIESN06623ntccTzzxxBnbTj9DKJ26avri\n",
              "iy8qNDTUbne5XBo4cKC8vNwDWHx8vB577DHNmDFDJ06c0F133aXevXtLkh5//HFlZ2crLi5OcXFx\n",
              "kqSXX35ZUVFReuyxx1SrVi1FRES4zXfXXXdp0qRJ53VeAACg/HFYf33gDjiDh2t10sS63T1dBgAA\n",
              "5cp1GaM9XQJ/qQQAAMB0BEIAAADDEQgBAAAMRyAEAAAwHIEQAADAcARCAAAAwxEIAQAADEcgBAAA\n",
              "MByBEAAAwHAEQgAAAMMRCAEAAAxHIAQAADAcgRAAAMBwFTxdAK4c1/RvreteG+3pMgAAwAXGFUIA\n",
              "AADDEQgBAAAMRyAEAAAwHIEQAADAcARCAAAAwxEIAQAADEcgBAAAMByBEAAAwHAEQgAAAMMRCAEA\n",
              "AAxHIAQAADAcgRAAAMBwBEIAAADDEQgBAAAMRyAEAAAwHIEQAADAcARCAAAAwxEIAQAADEcgBAAA\n",
              "MByBEAAAwHAEQgAAAMMRCAEAAAxHIAQAADAcgRAAAMBwBEIAAADDEQgBAAAMRyAEAAAwHIEQAADA\n",
              "cARCAAAAwxEIAQAADEcgBAAAMByBEAAAwHAEQgAAAMMRCAEAAAxHIAQAADAcgRAAAMBwDsuyLE8X\n",
              "gStD61b/1K2dB3u6DAAAypUp07p5ugRVOJ/OX3/99VnbO3Xq9LeKAQAAwKV3XoFw1KhRkqTCwkKl\n",
              "paUpKChIDodDu3btktPp1IYNGy5KkQAAALh4zusZwnXr1mndunVyOp36/PPPtXPnTu3YsUNffPGF\n",
              "WrVqdbFqBAAAwEVUppdK1q9fr9tvv93+fNttt2ndunUXrCgAAABcOmUKhN7e3kpJSbE/r1y5Ul5e\n",
              "vLAMAABwJTqvZwhPmzVrlnr37q2KFStKkk6ePKmkpKQLWhgAAAAujTIFwg4dOmjXrl366aefJEnB\n",
              "wcF2OAQAAMCV5bwC4R9//KFrrrlGOTk5kqT69etLkvLy8pSXl6dq1apd+AoBAABwUZ1XIAwPD9eG\n",
              "DRtUvXp1ORwOWZbl9r+FhYUXq04AAABcJOcVCE9/z2BRUdFZ++Xn58vHx6fsVQEAAOCSuSivBrdv\n",
              "3/5iTAsAAICL4KIEQv48MgAAwJXjogRCh8NxMaYFAADARcC3SQMAABjO47eMc3NzVaVKFcXGxtr7\n",
              "VqxYoZtvvllNmzZVs2bNNGbMGPtFlrVr1yogIEBHjhyx+/fs2VPjx4+XJE2YMEFPPvmk3bZ161bd\n",
              "eeedatiwoRo2bKhu3brZ35+4cOFCOZ1OFRQUSJIKCwvVrl07vfPOO5KkAQMGyM/PT06nU8HBwerb\n",
              "t6+OHTtmzx0YGKgbb7xRTqdTN954o1566SVJUkxMjP71r3+5needd96pqVOnnrP+oqIiDR8+XA0b\n",
              "NlSjRo30xhtv2P3+em4JCQmqX7++tmzZosGDB8vpdLptlStX1tChQzVv3jyFh4e7vQw0ZcoUdevW\n",
              "rXQ/JAAAUK6ddyAsLCzUxx9/fNY+7dq1K/V8SUlJCgsLU3Jyso4ePSpJqlGjhj744ANlZGTohx9+\n",
              "0LfffqsFCxbYcz/wwAN67LHHJEmJiYnauXOnnnnmmWJz79+/X507d1ZMTIx27dqlXbt2KSYmRhER\n",
              "ETp48KB69uyp4OBgTZw4UZL00ksvqXbt2ho4cKA9x+jRo5WWlqb09HT9/PPPbgHtdP1paWlasWKF\n",
              "Jk+erO+//15vvPGGEhMT7b/v7HK5lJOTo5EjR56z/nfffVcZGRnavn27vv/+e73yyiv68ccfi53b\n",
              "zJkz9dxzzyk1NVXNmzfXW2+9pbS0NHt77rnnVKNGDY0bN05DhgxR1apVNX36dElSRkaGZsyYobfe\n",
              "eqvUPycAAFB+nXcg9Pb21gsvvHDWPv/+979LPZ/L5VJcXJw6depk//m7m266SUFBQZKkq666Sk6n\n",
              "U1lZWfaYSZMmKT09Xa+//rpGjRql+Pj4Ev9SyuzZsxUREaEHHnjA3tenTx916tRJs2fPtvvEx8dr\n",
              "3rx5ev311zVv3rwS6/Tx8VHHjh21e/fuEtv9/PwUHBys3bt3q0aNGpozZ44GDBigHTt26Nlnn1V8\n",
              "fLz9957PVn9SUpKGDBkib29v1axZU/fff7/ef/99t2NNnDhRb7/9tr7++ms1aNCgWC3bt2/XoEGD\n",
              "lJSUJD8/P3udX3vtNWVkZKh///6aNm2arrvuuhLPRTr11UE5OTlum3WOrxsCAABXpjLdMm7VqpVW\n",
              "r179tw+ekZGhvXv3KioqSrGxsXK5XMX6HDx4UB999JHb7c1KlSpp7ty5evzxxzVs2DC1bNmyxPk3\n",
              "bNhQ4lfgtG/fXj/88IMkqWbNmpoyZYoeeughvfzyy6pXr16Jc2VnZys1NVX33ntvie0//fSTDh8+\n",
              "rIiICElS165dFR4erjZt2ujZZ5+1A+656t+zZ4/9F2CkU7el9+zZY39+99139cEHHyg1NbXEQHf0\n",
              "6FH16NFDzz77rMLDw+399erV09SpU9WhQwc1atRIvXr1KvE8Tps8ebJ8fX3dtgO/bj/rGAAAcGUq\n",
              "UyBcu3atIiIi1KRJE7Vq1crezpfL5VK/fv3k7e2t6OhoZWZmauvWrXZ7Tk6OunfvrjFjxqh169Zu\n",
              "YxctWiR/f3+lpaWV5RTcLF68WP7+/tq4cWOxtldeeUUtW7ZU3bp15e/vr8jISLf2+++/XyEhIWra\n",
              "tKmGDx+uOnXq2G2jR49WUVGRHn744WLzlrX+1q1bKycnR0uXLi2xvX///goLC9Pw4cOLtfXu3VtV\n",
              "q1bVU089dc7jjB07VtnZ2W5bvbpNzqtWAABwZShTIJw1a5aWL1+uefPmadq0afZ2PgoKCpSQkKD4\n",
              "+HgFBgaqUaNGOnbsmH2VMDc3V127dtXdd9+tkSNHuo395ptv9OGHH2rjxo3KyspSYmJiicdo1aqV\n",
              "1qxZU2z/mjVr7AD7wQcfaMeOHdqwYYOSk5O1atUqt76jR4/Wpk2btH37dq1fv15vvvmmW3tSUpK2\n",
              "bt2qL774Qk8//bQ2b95st3l7e9u3iUtbf0BAgNtt6aysLAUEBNifg4OD9dVXXykuLs5+rvK0yZMn\n",
              "KysrS3Pnzi1xPU7X5O3tfcb203x8fFStWjW3zVHCuQAAgCtfmX7Dd+7cWR06dJC/v786d+5sb+dj\n",
              "yZIlCgoK0r59+5SVlaWsrCytXbtWCQkJdhjs2rVrsZdF/vjjDw0YMEBz5sxR7dq1NX/+fI0aNUoH\n",
              "Dx4sdoxhw4YpJSVF7733nr3v/fffV2pqqh555BEdOHBAI0eOVHx8vOrUqaM333xTgwYNcnuT+LSA\n",
              "gAC9/vrrmjRpkvLy8oq133bbbRo2bFiJL7ecT/09e/bUvHnzVFhYqN9++01JSUm6//773eYICQnR\n",
              "8uXLNXbsWPuN6M8//1zTp09XcnKyrrrqqrPWAAAA8GdlCoSpqamqX7++fft03bp1evDBB89rDpfL\n",
              "pZiYGLd9ISEh8vPz08yZM/X9998rOTnZ/gqV0y+yjBkzRpGRkYqKipIkhYaG6pFHHinxtqyfn59S\n",
              "U1OVkJCgoKAgNWzYUAkJCVq5cqXq1aunIUOG6LHHHlOLFi0kSdHR0QoPD9fTTz9dYs133XWXgoOD\n",
              "7RdS/mrcuHFavXq1/XxiSc5Vf9++fRUcHKzGjRurTZs2GjlypF3fnwUHB2vFihUaN26c3nrrLT3x\n",
              "xBMqKirS3Xff7fbVM4MHDz5jLQAAAJLksMrwd+batWunxMRE3XffffZzd82aNSvx61FQfrRu9U/d\n",
              "2pmACQDAhTRlmue/F7hMVwgLCwvVsGFDt32VKlW6IAUBAADg0ipTILzqqqt09OhR+28Wb968WZUr\n",
              "V76ghQEAAODSqFCWQePGjdMdd9yhffv26cEHH9RXX33l9uIGAAAArhxlCoR33HGHGjdurM8++0yW\n",
              "ZWnixInFbiEDAADgylCmQHjixAk1aNBAw4YN088//6yMjAwFBgaW6vvtAAAAcHkp0zOEt9xyi3Jz\n",
              "c3X48GGFh4dr8uTJevTRRy90bQAAALgEyhQIT548qapVq+rTTz9V//799c033+ibb7650LUBAADg\n",
              "EihTIDxx4oSkU19Qfeutt0oSt4sBAACuUGV6hjAyMlJNmzZVYWGh5syZo99//10VKpRpKgAAAHhY\n",
              "mVLc66+/rvT0dAUFBalixYoqLCzUvHnzLnRtAAAAuATKFAj37t2rmjVr6siRIzpy5IgkqVatWhey\n",
              "LgAAAFwiZQqEYWFhcjgcsixLx48f17Fjx1SrVi0dOnToQtcHAACAi6xMgfA///mP2+fk5GSlp6df\n",
              "kIIAAABwaTksy7IuxEStW7fW+vXrL8RUuEyNHDlSr732mqfLAAAAF1iZrhDm5OTY/1xYWKjvvvvO\n",
              "bR8AAACuHGUKhNWrV7efIfT29lbjxo01c+bMC10bAAAALoEyBcKioqILXQcAAAA8pEx/qQQAAADl\n",
              "B4EQAADAcARCAAAAwxEIAQAADEcgBAAAMByBEAAAwHAEQgAAAMMRCAEAAAxHIAQAADAcgRAAAMBw\n",
              "BEIAAADDEQgBAAAMRyAEAAAwHIEQAADAcARCAAAAwxEIAQAADEcgBAAAMByBEAAAwHAEQgAAAMMR\n",
              "CAEAAAxHIAQAADAcgRAAAMBwBEIAAADDEQgBAAAMRyAEAAAwHIEQAADAcARCAAAAwxEIAQAADEcg\n",
              "BAAAMByBEAAAwHAEQgAAAMMRCAEAAAxHIAQAADCcw7Isy9NF4MowsJlDY9vw/yEAALiQmswv9HQJ\n",
              "XCEEAAAwHYEQAADAcARCAAAAwxEIAQAADEcgBAAAMByBEAAAwHAEQgAAAMMRCAEAAAxHIAQAADAc\n",
              "gRAAAMBwBEIAAADDEQgBAAAMRyAEAAAwHIEQAADAcBc9EObm5qpKlSqKjY2192VlZSkiIkK+vr5y\n",
              "Op1u/VNTU1W5cmU5nU5769GjhyRpzZo19r5mzZrp4YcfVn5+vj1269atuvPOO9WwYUM1bNhQ3bp1\n",
              "008//WS3T5gwQXXq1JHT6VRoaKjatGmjb7/91m7Pz8/XY489psaNG6tFixZ68MEH7bYTJ04oLi5O\n",
              "jRo1UkhIiJo3by6Xy+V2Tg6HQ3fffbfb+YwfP14Oh0OLFy8uVQ2BgYFKS0uTJB0/flx33323evbs\n",
              "qRMnTmjAgAHy8/OT0+lUcHCw+vbtq2PHjmnevHkKDw9XUVGRPc+UKVPUrVs3LVmyxG0tnU6n/Pz8\n",
              "dNVVV5X2RwgAAMq5ix4Ik5KSFBYWpuTkZB09elSSVK1aNT3//PN67733Shxz4403Ki0tzd4WLVok\n",
              "SQoNDdW6deuUlpamzZs369ChQ5o9e7Ykaf/+/ercubNiYmK0a9cu7dq1SzExMYqIiNDBgwftuWNi\n",
              "YpSWlqb09HSNGjVKTzzxhN329NNPy+FwaPv27dq8ebOmTp1qtw0YMEA7d+5Uenq6tm7dqqVLl2rq\n",
              "1Kn697//bffx9fXV9u3b9euvv0qSioqK9P7776tFixZu53e2Gk7Lzc3VP/7xD9WtW1dJSUmqVKmS\n",
              "JGn06NH22J9//llvvPGGhgwZoqpVq2r69OmSpIyMDM2YMUNvvfWW7rrrLre1TE1N1dVXX61Zs2aV\n",
              "7gcIAADKvYseCF0ul+Li4tSpUyclJSVJkmrWrKmOHTvqmmuuOa+5rr76alWsWFHSqSt2eXl5cjgc\n",
              "kqTZs2crIiJCDzzwgN2/T58+6tSpkx0a/yo7O1s1atSQJP3xxx9yuVx64YUX7Dmvu+46SdKOHTu0\n",
              "ePFizZ071645MDBQr776qp577jm3OR988EEtWLBAkvTVV1/ppptuUs2aNc94Tn+u4bTDhw/r1ltv\n",
              "Vdu2bTV37lx5eRX/Mfn4+Khjx47avXu3pFPr/NprrykjI0P9+/fXtGnT7PpPKyoqUkxMjLp06eJ2\n",
              "xbYk+fn5ysnJcdsKi846BAAAXKEuaiDMyMjQ3r17FRUVpdjYWLdbrGezbds2t1uco0ePttuysrIU\n",
              "Ghqq2rVry9fXV4888ogkacOGDWrfvn2xudq3b68ffvjB/pyYmCin06kGDRroX//6l1588UVJ0q5d\n",
              "u1SzZk29+OKLat26tcLDw7V8+XJJ0saNG9W4cWPVqlWr2NwHDhywrwhKUv/+/RUfHy9JevvttzVo\n",
              "0KBiNZ2phtPuv/9+3XbbbXrppZfOuEbZ2dlKTU3VvffeK0mqV6+epk6dqg4dOqhRo0bq1atXsTHj\n",
              "x4/Xb7/9ppkzZ55x3tMmT54sX19ft23Tf885DAAAXIEuaiB0uVzq16+fvL29FR0drczMTG3duvWc\n",
              "4/56y/iVV16x2wIDA5Wenq6DBw8qPz9fycnJ51XT6du1mZmZ+vDDD3XPPfcoLy9PJ0+e1O7du9W0\n",
              "aVOtX79eM2fO1P333+8W9s6kcuXK9j/7+/vL399fS5cu1Q8//KDbb7+91DWcduedd+qjjz7S3r17\n",
              "i4195ZVX1LJlS9WtW1f+/v6KjIy023r37q2qVavqqaeeKjbuk08+kcvl0scff2zffj6bsWPHKjs7\n",
              "221rWfucwwAAwBXoogXCgoICJSQkKD4+XoGBgWrUqJGOHTtW6quE51KlShX17t1biYmJkqRWrVpp\n",
              "zZo1xfqtWbNGrVq1KnGOLl266Pjx49qyZYsCAgLk5eWlmJgYSdJNN92kBg0aaPPmzbrpppu0Y8cO\n",
              "HT58uNjczZo1U7Vq1dz2Dxw4UAMHDlTv3r1LvN17phpOGzFihIYNG6aIiAjt2bPHrf/o0aO1adMm\n",
              "bd++XevXr9ebb77p1u7t7S1vb2+3fdu2bVNsbKw+/PBDXX/99Wet5zQfHx9Vq1bNbfPmnXQAAMql\n",
              "i/YrfsmSJQoKCtK+ffuUlZWlrKwsrV27VgkJCSooKCjTnDt37rTHnjhxQosWLVLLli0lScOGDVNK\n",
              "Sorbiyrvv/++UlNT7dvKf5Wenq6jR48qMDBQtWvXVpcuXfT5559LkjIzM5WZmamQkBA1btxY3bt3\n",
              "10MPPaRjx45JOnXrOi4uTq+++mqxef/5z3/qqaee0tChQ895Tn+u4c9Gjhyp4cOHKyIiwn5O8M8C\n",
              "AgL0+uuva9KkSW5XF/8qNzdXPXr00MSJE9WxY8dz1gMAAMxT4WJN7HK57Kttp4WEhMjPz08LFy7U\n",
              "mDFjlJ+fr+zsbPn7+6tv376aPHmypP//DOFpVatW1apVq7RixQrNnDlT3t7eOnnypLp06aJx48ZJ\n",
              "kvz8/JSamqqnnnpKzzzzjBwOh2688UatXLlS9erVs+dKTExUamqqLMuSw+FQQkKC6tSpI0l68803\n",
              "FRsbq7i4OHl5eWnOnDny8/OTJC1YsEDjxo1TixYt5OXlpczMTC1dulRRUVHFzt3Hx0dxcXFnXJuz\n",
              "1fBnTz75pLy8vNS5c2elpKQUa7/rrrs0bdo0zZ49W6NGjSrxWLNmzdK2bds0b948zZs3z61t2bJl\n",
              "pb5iCAAAyi+HZVmWp4u40hQVFenpp5/Wl19+qeXLl5/1LeLyZGAzh8a24b4xAAAXUpP5hZ4u4eJd\n",
              "ISzPvLy8NGXKFE+XAQAAcEFwuQcAAMBwBEIAAADDEQgBAAAMRyAEAAAwHIEQAADAcARCAAAAwxEI\n",
              "AQAADEcgBAAAMByBEAAAwHAEQgAAAMMRCAEAAAxHIAQAADBcBU8XgCtHjagRavLaa54uAwAAXGBc\n",
              "IQQAADAcgRAAAMBwBEIAAADDEQgBAAAMRyAEAAAwHIEQAADAcARCAAAAwxEIAQAADEcgBAAAMByB\n",
              "EAAAwHAEQgAAAMMRCAEAAAxHIAQAADAcgRAAAMBwBEIAAADDEQgBAAAMRyAEAAAwHIEQAADAcARC\n",
              "AAAAwxEIAQAADEcgBAAAMByBEAAAwHAEQgAAAMMRCAEAAAxHIAQAADAcgRAAAMBwBEIAAADDEQgB\n",
              "AAAMRyAEAAAwHIEQAADAcARCAAAAwxEIAQAADEcgBAAAMByBEAAAwHAEQgAAAMMRCAEAAAznsCzL\n",
              "8nQRuDJUiWqj6r27eLoMAADKlV8GvuTpErhCCAAAYDoCIQAAgOEIhAAAAIYjEAIAABiOQAgAAGA4\n",
              "AiEAAIDhCIQAAACGIxACAAAYjkAIAABgOAIhAACA4QiEAAAAhiMQAgAAGI5ACAAAYDgCIQAAgOGu\n",
              "iECYm5urKlWqKDY21t6XlZWliIgI+fr6yul0ljjunXfekcPh0KpVq9z2DxgwQH5+fnI6nXI6nRo9\n",
              "erRb2/Tp0+3PkydPVrNmzbRv3z5FRERo8eLFxeY63X/ChAl68sknJUmpqaludTkcDh05ckSSzjnP\n",
              "/Pnz7fM6va1fv96ep0WLFvb+Z5991m2erVu36uqrr7brKOmc/lorAAAwWwVPF1AaSUlJCgsLU3Jy\n",
              "smbMmKEqVaqoWrVqev7555Wdna3/+Z//KXGcy+VSly5d5HK5FB4e7tY2evTocwai0aNH6+uvv9bX\n",
              "X3+tWrVqXajTKZXIyMhiofG0VatWqXr16sX2FxQU6KGHHlKPHj0ubnEAAKBcuSKuELpcLsXFxalT\n",
              "p05KSkqSJNWsWVMdO3bUNddcU+KYbdu2KTMzUwsWLNDixYuVk5NT6uMVFhZq8ODB2rhxo5YvX37J\n",
              "w2BZTZo0ST179lTjxo3/9lz5+fnKyclx21RoXYAqAQDA5eayD4QZGRnau3evoqKiFBsbK5fLVapx\n",
              "LpdLffv21fXXX69bb71VH3zwgVv7jBkz1LJlS3Xr1k1paWlubZMnT9bOnTv16aefqkqVKhfqVNyM\n",
              "GDHC7ZbwkiVL3NpTUlLstqioKLe28PBwu+27776TJH333Xdas2aNhg8ffkHqmzx5snx9fd22E5kH\n",
              "LsjcAADg8nLZB0KXy6V+/frJ29tb0dHRyszM1NatW8865uTJk1qwYIEGDhwoSRo0aJBbkHzhhRe0\n",
              "a9cubdq0SbGxsfrHP/6ho0eP2u0RERHKyMjQ6tWr3eZ1OBwlHu9M+89m2rRpSktLs7e77rrLrT0y\n",
              "MtJu+/zzz93aVq1aZbe1bdtWx44d0yOPPKJ58+aVWEtZ6h47dqyys7PdtkoN6p33eQIAgMvfZf0M\n",
              "YUFBgRISElSxYkW99957kqRjx47J5XJp6tSpZxy3dOlSHTlyxL6yZlmW9u/fry1btqh58+by8/Oz\n",
              "+/bo0UNPP/20tm3bprCwMElSx44d9fjjj+u+++5TYmKibr/9dklSnTp1dPjwYbdj/fe//9W11157\n",
              "Qc/7fO3atUt79uxRZGSkJOnIkSMqKirS77//rvj4+DPW/ed1+CsfHx/5+Pi47/Q+/+ALAAAuf5f1\n",
              "FcIlS5YoKChI+/btU1ZWlrKysrR27VolJCSooKDgjONcLpemT59uj9m9e7dGjhxpXyX85Zdf7L5r\n",
              "167V4cOH1ahRI7c5OnXqpOTkZMXExNhX6KKiopSQkKC8vDxJ0k8//aS1a9cWe2HlUmvRooX+85//\n",
              "2Of75JNPatCgQYqPj5d0qu6FCxfqt99+kyQdOHBAn3zyiR10AQCA2S7rK4Qul0sxMTFu+0JCQuTn\n",
              "56eFCxdqzJgxys/PV3Z2tvz9/dW3b18NHz5cy5cv1/z5893GxcTEqEuXLnr55Zc1YMAA/frrr/L2\n",
              "9lblypW1cOFC+fr6Fjt+x44dtWjRIvXo0UPx8fEaOHCg9u7dq7Zt28rLy0uVKlVSQkKC/P39L+Yy\n",
              "/G1dunTR448/rsjISDkcDjkcDr3wwgtq3bq1p0sDAACXAYdlWbw6ilKpEtVG1Xt38XQZAACUK78M\n",
              "fMnTJVzet4wBAABw8REIAQAADEcgBAAAMByBEAAAwHAEQgAAAMMRCAEAAAxHIAQAADAcgRAAAMBw\n",
              "BEIAAADDEQgBAAAMRyAEAAAwHIEQAADAcARCAAAAw1XwdAG4cjzULFyvDXzJ02UAAIALjCuEAAAA\n",
              "hiMQAgAAGI5ACAAAYDgCIQAAgOEIhAAAAIYjEAIAABiOQAgAAGA4AiEAAIDhCIQAAACGIxACAAAY\n",
              "jkAIAABgOAIhAACA4QiEAAAAhiMQAgAAGI5ACAAAYDgCIQAAgOEIhAAAAIar4OkCcGXIz8/X//3f\n",
              "/6mwsFDe3t6eLscYhYWF+v7773XzzTez7pcYa+8ZrLvnsPaecSnWvX79+nriiSfO2sdhWZZ1UY6O\n",
              "ciUnJ0e+vr7Kzs5WtWrVPF2OMVh3z2HtPYN19xzW3jMul3XnljEAAIDhCIQAAACGIxACAAAYjkCI\n",
              "UvHx8dH48ePl4+Pj6VKMwrp7DmvvGay757D2nnG5rDsvlQAAABiOK4QAAACGIxACAAAYjkAIAABg\n",
              "OAIh3OzYsUMdOnRQkyZN1KZNG/34448l9nO5XGrcuLEaNmyoIUOGqKCg4BJXWr6UZt1XrFihm2++\n",
              "WU2bNlWzZs00ZswYFRUVeaDa8qO0/75LkmVZuvXWW1W9evVLV2A5Vtq137x5syIiIhQSEqKQkBAl\n",
              "Jydf4krLl9Kse1FRkUaOHKmmTZuqZcuWioyM1M6dOz1Qbfnx+OOPKzAwUA6HQ2lpaWfs59HfrRbw\n",
              "J5GRkdY777xjWZZlLVy40GrdunWxPj///LNVr14968CBA1ZRUZHVvXt364033rjElZYvpVn3DRs2\n",
              "WLt27bIsy7Ly8vKsW265xR6DsinNup/26quvWoMHD7Z8fX0vTXHlXGnW/o8//rAaNGhgrVq1yrIs\n",
              "yzp58qR16NChS1lmuVOadV+0aJF18803WydOnLAsy7Kee+45q2fPnpeyzHJn5cqV1t69e6369etb\n",
              "GzduLLGPp3+3Eghh+/XXX62qVataBQUFlmVZVlFRkVW3bl1rx44dbv2mTJliPfzww/bnTz/91Lrl\n",
              "llsuaa3lSWnX/a8effRRa/z48ZegwvLpfNZ9y5YtVnh4uLVz504C4QVQ2rWfN2+e1adPH0+UWC6V\n",
              "dt0XL15shYaGWjk5OVZRUZE1evRoa8SIEZ4oudw5WyD09O9WbhnDtnfvXtWrV08VKlSQJDkcDgUE\n",
              "BGjPnj1u/fbs2aP69evbnwMDA4v1QemVdt3/7ODBg/roo4/UrVu3S1VmuVPadS8oKNCQIUM0Z86c\n",
              "i/aH501T2rXPyMiQj4+PunXrJqfTqX79+uk///mPJ0ouF0q77t27d1dERISuu+461atXT8uXL9ek\n",
              "SZM8UbJRPP27lUAIXGFycnLUvXt3jRkzRq1bt/Z0OeXexIkTdc899ygkJMTTpRjn5MmT+uqrrzRn\n",
              "zhxt3LhRfn5+GjZsmKfLKvfWr1+vLVu2aN++fdq/f7+6dOmioUOHerosXGQEQthuuOEGHThwQCdP\n",
              "npR06iH6PXv2KCAgwK1fQECAdu/ebX/Oysoq1gelV9p1l6Tc3Fx17dpVd999t0aOHHmpSy1XSrvu\n",
              "K1eu1Ouvv67AwEB17NhROTk5CgwM5ErV33A+/62JjIyUn5+fHA6HHnzwQa1du9YTJZcLpV33BQsW\n",
              "2C9QeXl5qX///kpJSfFEyUbx9O9WAiFs1157rVq1aqV3331XkvTxxx/L399fjRo1cut37733asmS\n",
              "JTp48KAsy9Kbb76p3r17e6LkcqG063706FF17dpVXbt21TPPPOOJUsuV0q77qlWrtHv3bmVlZWn1\n",
              "6tWqVq2asrKyVKdOHU+UXS6Udu179eqldevWKScnR5K0bNkyhYaGXvJ6y4vSrntQUJBWrFihEydO\n",
              "SJKWLl2q5s2bX/J6TePx362X7GlFXBF++uknq127dlbjxo2tsLAwa9OmTZZlWVZsbKz1ySef2P3m\n",
              "zp1rBQUFWUFBQdagQYPst9FQNqVZ9+eff96qUKGCFRoaam/PP/+8J8u+4pX23/fTMjMzeankAint\n",
              "2i9YsMBq1qyZ1aJFC6tr167Wnj17PFVyuVCadT9+/Lg1ePBgKzg42GrRooV1++23299wgLJ56KGH\n",
              "LD8/P8vb29u69tprrYYNG1qWdXn9buVvGQMAABiOW8YAAACGIxACAAAYjkAIAABgOAIhAACA4QiE\n",
              "AAAAhiMQAgAAGI5ACAAAYDgCIQAAgOEIhAAAAIYjEAIAABiOQAgAAGC4/wfhAawxVWCzlwAAAABJ\n",
              "RU5ErkJggg==\n",
              "\">\n",
              "      </div>\n",
              "      <script type=\"text/javascript\">\n",
              "        (() => {\n",
              "          const chartElement = document.getElementById(\"chart-8362617f-6ecd-4756-bc85-9bf20bd97ee5\");\n",
              "          async function getCodeForChartHandler(event) {\n",
              "            const chartCodeResponse =  await google.colab.kernel.invokeFunction(\n",
              "                'getCodeForChart', [\"chart-8362617f-6ecd-4756-bc85-9bf20bd97ee5\"], {});\n",
              "            const responseJson = chartCodeResponse.data['application/json'];\n",
              "            await google.colab.notebook.addCell(responseJson.code, 'code');\n",
              "          }\n",
              "          chartElement.onclick = getCodeForChartHandler;\n",
              "        })();\n",
              "      </script>\n",
              "      <style>\n",
              "        .colab-quickchart-chart-with-code  {\n",
              "            display: block;\n",
              "            float: left;\n",
              "            border: 1px solid transparent;\n",
              "        }\n",
              "\n",
              "        .colab-quickchart-chart-with-code:hover {\n",
              "            cursor: pointer;\n",
              "            border: 1px solid #aaa;\n",
              "        }\n",
              "      </style>"
            ]
          },
          "metadata": {}
        },
        {
          "output_type": "display_data",
          "data": {
            "text/plain": [
              "<google.colab._quickchart_helpers.SectionTitle at 0x7ed2ff850490>"
            ],
            "text/html": [
              "<h4 class=\"colab-quickchart-section-title\">Values</h4>\n",
              "<style>\n",
              "  .colab-quickchart-section-title {\n",
              "      clear: both;\n",
              "  }\n",
              "</style>"
            ]
          },
          "metadata": {}
        },
        {
          "output_type": "display_data",
          "data": {
            "text/plain": [
              "from matplotlib import pyplot as plt\n",
              "_df_2['rating'].plot(kind='line', figsize=(8, 4), title='rating')\n",
              "plt.gca().spines[['top', 'right']].set_visible(False)"
            ],
            "text/html": [
              "      <div class=\"colab-quickchart-chart-with-code\" id=\"chart-2e7c0d73-f1ee-4c2a-9870-00317749ee33\">\n",
              "        <img style=\"width: 180px;\" src=\"data:image/png;base64,iVBORw0KGgoAAAANSUhEUgAAApwAAAFuCAYAAAAs+cgqAAAAOXRFWHRTb2Z0d2FyZQBNYXRwbG90\n",
              "bGliIHZlcnNpb24zLjcuMSwgaHR0cHM6Ly9tYXRwbG90bGliLm9yZy/bCgiHAAAACXBIWXMAAA9h\n",
              "AAAPYQGoP6dpAABGwUlEQVR4nO3dfXTU5Z3//9fMJJncT0hIJgRMImQCJiA3FkrFKmqJSreB6rq1\n",
              "211dW7xpl2+3x/a0h9NqxfZIf2dbt253rW3tunp212OrgDfVGrSguGvFVqCagCRIiGAyIYHcJ5PM\n",
              "zOf3x2QmCYSbSeZ+no9zcg6Z+TC55jIhb6/r87reJsMwDAEAAABhYo72AAAAAJDYKDgBAAAQVhSc\n",
              "AAAACCsKTgAAAIQVBScAAADCioITAAAAYUXBCQAAgLCi4AQAAEBYUXACAAAgrCg4ASACHnzwQdXU\n",
              "1ER7GAAQFSZaWwJAaJWXl+t73/ueNmzYEO2hAEBMYIUTAIIwPDwc7SEAQNyh4ASAc1i9erU2btyo\n",
              "W265RTNmzNDXv/513XzzzZo9e7ZycnI0f/58/fu//3vg+htuuEEtLS3auHGjsrOzVV1dLUm6//77\n",
              "dcUVV0x43X/6p3/S3/7t38pms+miiy7Sz3/+8wlf+/HHH1dFRYVycnJ04403auPGjVq9enVE3jcA\n",
              "hBIFJwCcx+OPP65bb71VnZ2d+slPfqK1a9eqvr5e3d3deuihh3TPPffolVdekSS9/PLLKi0t1b/9\n",
              "27+pr69P9fX1Z33d//zP/9SGDRt06tQp/fSnP9XGjRvV1NQkSXrjjTd0991362c/+5m6urq0YcMG\n",
              "/cd//EdE3i8AhBoFJwCcR21trdauXSuz2aysrCzdfvvtysvLk9ls1mc/+1ldf/31qqurC/p1b7rp\n",
              "Jl1zzTUym8266aablJ+frz//+c+SpCeffFLr1q3TDTfcIIvForVr12rt2rWhfmsAEBEUnABwHhdf\n",
              "fHHgzy6XS9/61rdUWVkpm82mvLw8vfzyy2pvbw/6dUtKSiZ8npWVpd7eXknS8ePHVVZWNuH58vLy\n",
              "4AcPADGAghMAzsNsHvun8qGHHtILL7ygF154QadOnVJXV5duuOEGjT/wY/z1UzV79mwdPXp0wmOn\n",
              "fw4A8YKCEwCC0N3dLavVqsLCQnm9Xv32t789Yzu9uLhYH3zwwbS+zt///d/rueee0yuvvCKPx6Pf\n",
              "//73eumll6b1mgAQLRScABCEb33rW7roootUVlamkpISvfbaa1q/fv2Ea+677z4999xzysvL06WX\n",
              "Xjqlr3PVVVfpkUce0de+9jXl5eXpF7/4hb70pS8pPT09BO8CACKLg98BIE6sX79edrtdv/jFL6I9\n",
              "FAAICiucABCjnn32WfX09GhkZERPP/20XnzxRX3pS1+K9rAAIGgp0R4AAGByL7zwgu644w4NDw+r\n",
              "rKxM//Ef/6Err7wy2sMCgKCxpQ4AAICwYksdAAAAYUXBCQAAgLCi4AQAAEBYUXACAAAgrGKy4Hz4\n",
              "4YejPQQAAACESEwWnPQLBgAASBwxWXACAAAgcVBwAgAAIKwoOAEAABBWFJwAAAAIKwpOAAAAhBUF\n",
              "JwAAAMKKghMAAABhRcEJAACAsAq64CwvL9f8+fO1ZMkSLVmyRE8//fSk1/3617+Ww+HQvHnzdMcd\n",
              "d2hkZGTagwUAAED8mdIK59NPP619+/Zp3759+sIXvnDG80eOHNG9996r3bt3q6mpSU6nU7/85S+n\n",
              "PVgAAADEn7BsqT/zzDOqra1VcXGxTCaT7r77bj311FPh+FIAAACIcSlT+Uu33nqrDMPQihUr9KMf\n",
              "/UiFhYUTnm9paVFZWVng8/LycrW0tEz6Wi6XSy6Xa8JjHo9nKsOaklfq2/Tr3Uf0ifIZ+vb1CyL2\n",
              "dQEAQHLqHhzRrg/ateuDE1pQnKO7rpoX7SGFXdAF5xtvvKHS0lKNjIzoe9/7nm677Ta99NJLUx7A\n",
              "li1btHnz5gmPrVy5csqvF6y+Ibf2NJ+UmfgUAAAIk7buIe1oaFNdg1NvHe6U22sEnvv7T5UpM21K\n",
              "a4BxI+h3V1paKklKTU3VN77xDVVWVk56zeHDhwOfNzc3B/7e6TZt2qR77rlnwmP33ntvsMOaMoc9\n",
              "W5LU1N4Xsa8JAAASm2EYOnyiT6/UO1XX4NT+j7omPO8oytaHHf3yeA11DYxQcI7X39+vkZER5eXl\n",
              "SZKeeuopLV269IzrbrrpJl1xxRW6//77Zbfb9eijj+qWW26Z9DWtVqusVuuExywWSzDDmpaKIl/B\n",
              "2dE3rJP9w8rPSovY1wYAAInD6zW096Mu1TW0aUe9Ux929AeeM5mkZaUzVFNlV011sS6emaVP/PBV\n",
              "dfS51DUwopK8jCiOPPyCKjidTqduuukmeTweGYahuXPn6sknn5QkbdiwQbW1taqtrdXcuXO1efNm\n",
              "rVq1SpK0evVq3XXXXaEffQhkpqVozowMHTs1qEZnrz45tyDaQwIAAHHC5fbo/w53qq7eqR0NTnX0\n",
              "jeVS0ixmraooUE11sa69pEhFOekT/m5eZqqv4BwcjvSwIy6ognPu3Lnau3fvpM899thjEz6/4447\n",
              "dMcdd0x9ZBHkKMr2FZztfRScAADgnHqGRrTzYLvqGpzadbBd/cNjYeec9BRds6BINVXFump+obKt\n",
              "Zy+1bBmpvtcbTPyzyhP7hoELVGnP0c4PTqjR2RvtoQAAgBjU1j2kHQecqqtv0x8/7NSIZyz0Y8+1\n",
              "qqaqWDXVdn3y4gKlpVxYEjlvtODsGqDgTAr++zgbCQ4BAABdWOinptqumqpiLZptk9lsCvpr2DJH\n",
              "C05WOJODw54jiYITAIBkdqGhnzVVds0tzJ721/NvqXdTcCYH/wrniV6XugaGlZdJUh0AgGQwPvTz\n",
              "6gGnTvReeOhnuvIyfPUGW+pJItuaotl5GTre5QsOLS/Pj/aQAABAmIwP/bz+wQn1udyB53KsKbrm\n",
              "kgsL/UxXXqZ/hZOUetJw2LN9BaeTghMAgETj7BnSjganXjlL6GdNle9+zJVzLzz0M11sqSchR1G2\n",
              "dn1wQodIqgMAkBCa2vtU19Cmunqn9p0W+qkoyg4cwn7pFEM/0xUIDbGlnjwcRb7gEC0uAQCIT16v\n",
              "oX3HulRX71RdQ5s+PDEx9LP0ojzVVBdrTZVd80IQ+pkujkVKQv6e6o3trHACABAvXG6P3jrcqboG\n",
              "X6ef00M/l1cUqKaqWJ+5pEhFuaEN/UwXB78nIX9S3dnjUvfgSOCbAAAAxJaeoRHt+uCE6urbtGuS\n",
              "0M/VC4pUU23XVZWFykmP3d/n/lNxel1ujXi8SrVE5t7RaKDgHJWTnqpZtnS1dg+pqb1Xl5URHAIA\n",
              "IFb4Qz91DU69dbgjJkI/05WbPlaG9QyOqCDbGsXRhBcF5zgOe45au4d0yNlHwQkAQJTFeuhnulIs\n",
              "ZuVYU9TrcqubgjN5OIqy9cahE2p0EhwCACDSzhX6kaRlpbEV+gkFW2aqel3uhG9vScE5jqOI4BAA\n",
              "AJE07Pbq/w53xGXoJxRsGak6dmpQ3QmeVKfgHCfQU50VTgAAwqbXH/ppcGrXwXb1xmnoJxTGug1R\n",
              "cCYNf1K9rWdIPUMjyk3wb3IAACKlvWdIOw44VVfv1P+dFvopyrGqpjr+Qj+hMNZPPbHbW1JwjmPL\n",
              "SJU91ypnj0tN7X1aVjoj2kMCACBuHT7RF7gfc29L14Tn5hVmqaa6WDVVdi2ekxeXoZ9QyA20t3Sf\n",
              "58r4RsF5mkp7jpw9LjU6eyk4AQAIgtdraP+xLtU1OFVX36bDp4V+lpbmqabKF/rx7yomO/+Wetcg\n",
              "K5xJpaIoW7sbO7iPEwCACzDs9uqtDztVV9+mHQ1OtY8L/aRaTLp83kzVVNu15hJ7QoZ+psvf3pLQ\n",
              "UJKp9AeH6KkOAMCkzhX6yfaHfqrsWj0/8UM/02XLIDSUlAJHIzk5GgkAAL/zhX7WjB7CvnJuvqwp\n",
              "liiONL6MbalTcCYVR5FvhfPj7iH1Do3wf2YAgKRF6Cf8bKTUk5MtM1VFOVa197p0+ES/llyUF+0h\n",
              "AQAQEYR+Is9GSj15OezZau916ZCzl4ITAJDQLjT085lL7LIT+gm5sYPfh2UYhkymxFwppuCchKMo\n",
              "R//b1KkmgkMAgATUOzSi1w+dUF29UzvPEfq5an4hTVDCzF9wjngMDQx7lGVNzNIsMd/VNDnsBIcA\n",
              "AImlvXdIrza0q66hTf/X1KlhjzfwHKGf6MlItSjVYtKIx1D34AgF5+kef/xxffnLX9a2bdu0fv36\n",
              "Cc81Nzdr3rx5WrRoUeCxZ599VvPmzZvyQCPJHxw6xFmcAIA49uGJvsD9mHs/6pIxFizX3JmjoZ9q\n",
              "u5YQ+okak8kkW0aaOvpc6hoYUUleRrSHFBZTKjibm5v1q1/9SitXrjzrNTk5Odq3b99UxxVV/qOR\n",
              "jncNqt/lTtj/2wAAJBav19Bfjnerrr5NdQ3OM24NW3JRXqBnOaGf2JGXmeorOBO421DQlZTX69WG\n",
              "DRv0s5/9TN/85jfDMaaom5GVppnZVnX0+XqqLyY4BACIUcNur/74YafqGnyhH2fPxNDPp+bNVE2V\n",
              "XWuqCP3EKn9SvSeBz+IMuuB86KGHtGrVKl122WXnvK6/v1/Lly+Xx+PR+vXr9d3vflcWy5n3hLhc\n",
              "LrlcrgmPeTyeYIcVco6ibHX0udRIwQkAiDHnC/2snl+omupirSb0Exf87S27Eri9ZVAF5/vvv69n\n",
              "n31Wb7zxxjmvmzVrlo4fP66ioiKdPHlSX/jCF/STn/xE3/72t8+4dsuWLdq8efOEx861VR8pDnu2\n",
              "3vqwU43tBIcAANF3rtBPoT/0U2XXp+YVEPqJM7Yk6DYUVMG5e/duNTc3y+FwSJLa2tp05513qrW1\n",
              "VV/96lcD11mtVhUVFUmS8vPz9eUvf1n/8z//M2nBuWnTJt1zzz0THrv33nuDfiOh5vD3VCc4BACI\n",
              "EkI/ySEZ+qkHVXB+9atfnVBYrl69Wt/4xjfOSKm3t7drxowZSk1Nlcvl0tatW7V06dJJX9Nqtcpq\n",
              "tU54bLKt90gL9FRnhRMAECGEfpJTXqC9JQXned13330qKSnR3XffrTfffFP33XefLBaL3G63rrnm\n",
              "Gn33u98N1ZeKCH/BeezUoAaG3cpMI6kOAAg9Qj+wZfhqjG5S6pPbtWtX4M8PPPBA4M833nijbrzx\n",
              "xum8dNQVZFtVkJWmzv5hHW7v16I5tmgPCQCQIPpcbu36oH3S0E9WmkWrFxTpOkI/SSMv07fCyZZ6\n",
              "kqooylbnkZNqbO+l4AQATEt775BeO9Cuuvo2/e9poZ+Z2f5OP3ZdTugn6QRCQ2ypJ6dKe47ePnJS\n",
              "jfRUBwBMwZGO/sD9mO+2nJoQ+rl4ZlbgfsylFxH6SWaEhpIcPdUBAMHweg29d7xbdQ1tqqt3nrFg\n",
              "sfiiPNVU2XVdtV3zCrNlMlFkYuwczm5WOJNTRSCpzgonAGByw26v3j7Sqbp6p3Y0ONXWMxR4LsVs\n",
              "0qfmFaimulhrLrGr2EboB2fy38PZ63LL7fEqxWKO8ohCj4LzHCpHz+JsOTmgoRGP0lO5pwYA4Av9\n",
              "vP7BCdU1tOkPB9vVO3Rm6Kemyq7V84sC26XA2eSmj5VjPUNu5WelRXE04UHBeQ4FWWmakZmqUwMj\n",
              "amrv08LZBIcAIFmd6HXp1QNOQj8IuRSLWTnWFPW63OoaGKbgTDYmk0mOohztaT5JwQkASYjQDyLF\n",
              "lpnqKzgTNDhEwXkeDnu29jSf1CGCQwCQ8AzD0F+OEfpB5NkyUnXs1GDCJtUpOM/DQXAIABIaoR/E\n",
              "grzMxE6qU3Ceh2M0OHR6P1sAQPzqc7n1xqETeqX+LKGf+UWqqSb0g8gZ66eemO0tKTjPw38W59HO\n",
              "fpLqABDHTvS69NoBp+oanHqzqUPD7vGhnzRf6KeqWJ+aV8C/9Yi43MDh7+7zXBmfKDjPozDbKltG\n",
              "qroHR/ThiX5VleRGe0gAgAvU3NEfuB/zz6eFfsoLMnVddbFqqu1actEMWQj9IIr8W+pdg6xwJiVf\n",
              "Uj1bfzp6So3tvRScABDDDGO000+9U3UNbTrkPC30M8emmupi1VTZVVFE6AexI9G7DVFwXgCHPcdX\n",
              "cDq5jxMAYs2Ix6u3PzypuoY27WhwqrV7ktBPlV2fqbJrli0jiiMFzi7R+6lTcF6AsaQ6RyMBQCzo\n",
              "d7n1+qETqhsN/fQQ+kGcG9tSp+BMWv4WlxyNBADRQ+gHicxGSh1jSfUBudweWpYBQIQQ+kGysJFS\n",
              "R1GOVTnpKeodcutIR78WFBMcAoBwIPSDZBU4+H1wWIZhJNz3NgXnBTCZTKq05+jPo8EhCk4ACJ0R\n",
              "j1d7jpwM9Cwn9INk5F/hHPEYGhzxKDMtsUq0xHo3YeQoyh4tOAkOAcB09Y92+qlrcOq1A84JoZ/M\n",
              "NIuuJvSDJJOZZlGqxaQRj6GugREKzmRVQU91AJiWjr7R0E+9U7snCf185hK7aqrtunzeTEI/SDom\n",
              "k0m2jDR19LnUNTCikrzEWs2n4LxAJNUBIHjNHf3a0eC7H/NPRyeGfsr8oZ8qu5aWEvoBbBkp6uhz\n",
              "JeRZnBScF8ifVG/u6New26u0FHOURwQAsccwDL1/vCeQLP/gtNuQLp1jU02VXTXVxXIQ+gEmyMtM\n",
              "k9Sv7gRsb0nBeYGKc9OVY01Rr8ut5s7+wIonACS784V+Vs4tUE21XZ+5xJ5w24RAKPnbW3YlYHtL\n",
              "Cs4LZDKZVGHP1t6WLh1y9lJwAkhq5wv9rJ5fqJqqYl09v0i2TEI/wIVI5PaWFJxBcBT5Ck56qgNI\n",
              "RucK/RRkjXb6IfQDTJktgdtbTrngfPzxx/XlL39Z27Zt0/r16894/sUXX9S3vvUteTweLVq0SP/5\n",
              "n/+p3Nz4Pr/SUeRb1WwiOAQgSRzt7A8cwk7oBwivvEB7SwpOSVJzc7N+9atfaeXKlZM+39fXp698\n",
              "5St6/fXXtWDBAm3cuFE/+MEP9M///M/TGmy0+YNDhziLE0CCIvQDRI8tw1eW9bDCKXm9Xm3YsEE/\n",
              "+9nP9M1vfnPSa15++WUtXbpUCxYskCR97WtfU01NTQIUnL4VziMd/RrxeJVqIakOIP6NeLx658hJ\n",
              "1TU4VVffpo/HhX4sZpNWzs1XTVWx1lQR+gHCyZdSl7pIqUsPPfSQVq1apcsuu+ys17S0tKisrCzw\n",
              "eXl5uVpbW+V2u5WSMvFLulwuuVyuCY95PJ5ghxURJbZ0ZaVZ1D/s0dHOflUUERwCEJ8GhkdDP/VO\n",
              "vXawfUJIITPNoqsqC1VTbdc18+2EfoAICdzDmexb6u+//76effZZvfHGGyEbwJYtW7R58+YJj51t\n",
              "qz7afEn1HO3/qEuHnH0UnADiSmefS68daFddQ5t2N3bIdVrox9/pZ1UFoR8gGkipj9q9e7eam5vl\n",
              "cDgkSW1tbbrzzjvV2tqqr371q4HrSktLtWPHjsDnzc3NmjVr1hmrm5K0adMm3XPPPRMeu/fee4N6\n",
              "E5HkKMrW/o9Gk+qLoj0aADi3o52jnX7qnfrT0ZPyjgv9lOZn6rpq3/2Yywj9AFHnP4ezO9lXOL/6\n",
              "1a9OKCxXr16tb3zjG2ek1K+//nr94z/+ow4ePKgFCxbokUce0S233DLpa1qtVlmt1gmPWSyx+3/W\n",
              "lXZ/T3WCQwBij2EYqv+4J3AI+8G2if9WLZo9FvqptBP6AWKJ/x7OXpdbbo9XKQmUFQnZOZz33Xef\n",
              "SkpKdPfddysnJ0ePPfaY1q9fL7fbrYULF+qJJ54I1ZeKKv/RSJzFCSBWXGjo5zNVds0m9APErNz0\n",
              "sbKsZ8it/Ky0KI4mtKZVcO7atSvw5wceeGDCc7W1taqtrZ3Oy8ekiiLfCueHHX0J938fAOLHuUI/\n",
              "GamjnX6q7bp6flFg1QRAbEuxmANttLsGhik4k9nsvAxlplk0MOzR0ZMDmleYHe0hAUgShH6AxGfL\n",
              "TPUVnAkWHKLgDJLZbFJFUbb+cqxbjc5eCk4AYdXSORA4hJ3QD5D4bBmpOnZqMOGS6hScUzBWcPbp\n",
              "+oXRHg2ARHK+0M/C2bmqqSpWTbVd8+05hH6ABJOXmZhJdQrOKagc7TjUSE91ACEwPvSzo8Gp412D\n",
              "gecsZpM+eXG+aqrsWlNdTOgHSHCJehYnBecUOIroqQ5genyhnw7VNbTptQNnhn4CnX4WEPoBkokt\n",
              "Y7S9JSuc8B+N9GFHP0l1ABess8+l1w62q67eqd2NJyaEfvKz0vSZS4pUU1WsKxyEfoBk5d9ST7R+\n",
              "6hScUzBnRobSU80aGvGq5eSA5hIcAnAWgdBPg1N/aj4z9OM/hP2yMkI/ANhSxzj+pPr7x3vU2N5H\n",
              "wQkgIBD6GT2EndAPgGAkantLCs4pchTl6P3jPWpq79N11dEeDYBocnu82tN8UnX15w79fKbKrjkz\n",
              "MqM4UgCxbmxLnYITkhx2gkNAMhsf+vnDwfYJN/gT+gEwVblsqWM8eqoDyYfQD4BwyyOljvEqR1c4\n",
              "D5/ok8drcLM/kKA+OjmgV+onD/1clJ+h66qKCf0ACJnAwe+DwzIMI2Hu86bgnKI5MzJlTTHL5fbq\n",
              "o5MDKp+ZFe0hAQgBQj8AosmfUh/xGBoc8SgzLTFKtcR4F1FgMZs0rzBbDa2+pDoFJxC/3B6v3mk+\n",
              "pVfq2yYN/awoz1dNtV1rCP0ACLPMNItSLSaNeAx1DYxQcMK3re4rOHu1psoe7eEACMLgsEdvNJ5Q\n",
              "Xb1Trx10TrhfKj3V7Av9VBXrmgVFmpFF6AdAZJhMJtky0tTR51LXwIhKEqSdLQXnNDjsBIeAeHKy\n",
              "f1ivHXCqrsEX+hkaGQv9zMhM1Wcu8R3CfkXFTGWkEfoBEB22jBR19LkSKqlOwTkNFaM91RvbORoJ\n",
              "iFUfnRwI3I/5zmmhnzkzMnRddbFqquy6rGwGbWoBxATfUWr96k6g9pYUnNNQObrC2dTeJ6/XkJmE\n",
              "KhB1hmGoobVHdfW+lcwDrT0Tnq8uGQv9LCgm9AMg9vi7DSXS0UgUnNNw0YwMpaX4eqofOzWo0gLC\n",
              "BEA0+EM/dQ1tqqsn9AMgviViP3UKzmlIsZg1d2aWDrb1qrG9l4ITiCBCPwASlS0B21tScE5TpT1n\n",
              "tODs07WXkFQHwonQD4BkwAonzuAooqc6EE6EfgAkG/89nN3cwwk/x2iLy6Z2jkYCQsEwDB1o7Q3c\n",
              "j9lwWuinalauaqrtqqkq1iWzCP0ASDy+lLrURUodfuPP4iSpDkyN2+PVn46eGk2Wt+nYqbHQj9kk\n",
              "rbg4XzVVxVpTZddF+dwrDSCxsaWOM5TlZyrNYtbgiEfHuwb5ZQhcoMFhj3Y3nlBdg1OvHXDq1Gmh\n",
              "nysdhaqp9oV+8gn9AEgigdAQW+rwS7GYNbfQl1Rvau+j4ATO4VT/sF472K66+ja9MUno59pL7Kqp\n",
              "suvTjkJCPwCSFvdwSqqpqVFbW5vMZrNycnL0r//6r1q6dOmEa3bt2qUbbrhB8+fPDzz21ltvKSMj\n",
              "MfqBnq6iKFsH23p1yNmrqxcURXs4QEz56OSAdjT4tsr3HDkz9OM/hP0ThH4AQNLYlnqvyy23x5sQ\n",
              "/zYGXXD+5je/UV5eniRp27Zt+od/+Aft37//jOvmz5+vffv2TXd8ccFRlCOpVY0EhwBCPwAwTf6C\n",
              "U5J6htwJcVtR0AWnv9iUpO7ubn5ZSKq0+3uqU3AiORH6AYDQSbGYlWNNUa/Lra6B4eQsOCXp1ltv\n",
              "1c6dOyVJL7300qTXHD58WMuWLZPFYtHtt9+ur33ta5Ne53K55HK5Jjzm8XimMqyoCRyN5OyVYRgU\n",
              "4UgKhH4AIHxyM1LV63InTFJ9SgXnk08+KUl64okn9J3vfOeMonPZsmU6duyYbDabjh07prVr12rm\n",
              "zJn6m7/5mzNea8uWLdq8efOEx1auXDmVYUVNWUGWUi0m9Q979HH3kGbnJea9qsC5Qj95mam6doFd\n",
              "NdV2XUnoBwCmJS8zVce7BhOmveW0Uuq33Xab7r77bnV2dqqgoCDweG5ubuDPc+bM0Re/+EXt3r17\n",
              "0oJz06ZNuueeeyY8du+9905nWBGXajHr4plZOuTsU6Ozl4ITCWV86Oed5lPyjEv9zM7LCNyPubyc\n",
              "0A8AhEpeZmIl1YMqOLu6ujQwMKCSkhJJ0vbt21VQUKD8/PwJ17W2tsput8tsNqu3t1cvvviivvKV\n",
              "r0z6mlarVVardcJjFkv8rYw4inJGC84+rZ5PUh3xyzAMHWzrDdyPWf/xxNDPJbNyVVPlW8msmpXL\n",
              "LSQAEAaJdvh7UAVnd3e3br75Zg0ODspsNquwsFAvvviiTCaTNmzYoNraWtXW1urZZ5/Vz3/+c6Wk\n",
              "pMjtduvmm2/W7bffHq73EBMqivzBIXqqI/64PV79+egpX8/yhjZ9dHJi6Gd5eb5qRnuWE/oBgPCz\n",
              "ZYy2t0zGFc6ysjLt2bNn0ucee+yxwJ83btyojRs3Tm9kcabS3+KSpDrixNCIR7sbO1RX36bXDrbr\n",
              "ZP9Yz15rillXVhaqpsquay+xE/oBgAjzb6knSj91Og2FyFhSvY+kOmLWqf5h/eFgu+oa2vTGoQ4N\n",
              "joydCDE+9PNpx0xlpvHPAwBES1JvqePsyguylGI2qdflVlvPkGbZCA4hNhw7NRr6qXdqT/NJQj8A\n",
              "EAcSrb0lBWeIpKWYVT4zS03tvuAQBSeihdAPAMS/sS11Ck6cxlGUrab2Ph1y9urKysJoDwdJxOM1\n",
              "9Kfmk4R+ACBB5LKljrNxFGXrZUlNBIcQAYR+ACBx5SVzSh3n5hhNqh9ycjQSwqNrYFivHSD0AwCJ\n",
              "zja6pd4zOJIQYWR+I4WQP6ne2E5SHaFzvtDPmtH7MVeU5xP6AYAE4Q8NDXu8GhzxxP0iQnyPPsZc\n",
              "PDNLFrNJvUNutfe6ZM9Nj/aQEIfOF/pZUJwTuB+zuoTQDwAkosw0i1ItJo14DHUNjFBwYow1xaKy\n",
              "gkx9eKJfh5y9FJy4YB6v4ev0U9+muganWk4OBJ4zm6RPlOf7kuVVxSotIPQDAInOZDLJlpGqjr5h\n",
              "dQ+OqCQvvk+/oeAMMUdRtj480a9GZ58+7SCpjrMbGvHozcYO1TW06dUDZ4Z+Pu0oVE21XdcuKFJB\n",
              "tjWKIwUARIO/4EyE4BAFZ4hV2nP0Sr2TFpeYVNfAaKefeqdeP3RiQujHlpGqay8pUk1Vsa6sJPQD\n",
              "AMkuLzNNUr+6E6C9Jb/RQqyiaDQ4RFIdo453DWrH6Fb520fOHvpZXp6vVEI/AIBRidTekoIzxBxF\n",
              "vqORSKonL8Mw9IFzLPTz/nFCPwCA4PmT6myp4wxzC7NkNvn+b+REn0tFOQSHkgGhHwBAqNkSqL0l\n",
              "BWeIpadaVFaQpSMdvuAQBWfiGh/6ee1AuzoJ/QAAQogtdZxTRVH2aMHZq1UVM6M9HIQQoR8AQKT4\n",
              "t9S72VLHZCrt2drRQFI9UZwr9FNiSw/cj7n8YkI/AIDQ8aXUpS5S6phMIDjkpOCMR4Zh6JCzT3X1\n",
              "bXrlbKGfKrtqqosJ/QAAwoYtdZyT/2ikQ+29JNXjhMdr6N2WsdDP0c6x0I/JJC0vy1dNtV1rquwq\n",
              "K8iK4kgBAMkiEBpiSx2TqSjKlsnk+wbp7B/WTAIjMWloxKP/bepQXb1Trx5wTgj9pKWYdaVjpmqq\n",
              "inXNJUX8NwQARBz3cOKc0lMtKs3P1NHOAR1y9lKsxJDugRH94QNnIPQzMHxa6GdBkWqq7fq0o1BZ\n",
              "Vn48AADR499S73W55fZ4lRLHOQF+o4aJoyhHRzsH1NTep8vnkVSPpo+7BrWjwXcI+x8/JPQDAIgP\n",
              "/oJTknqG3MrPSoviaKaHgjNMHPZsvXrAqUO0uIy48aGfugan3jvePeF5Qj8AgHiQYjErx5qiXpdb\n",
              "3YMjFJw4kyPQU52keiScL/TzibIZuq66mNAPACCu5GakqtflVtfAsKT4/f1FwRkmlXbf0UhNnMUZ\n",
              "NucL/Xy6Yqav088ldu6jBQDEpbzMVB3vGoz79pYUnGEyr9CXVO/sH1Znn4vWhiFyrtBPbnqKrr3E\n",
              "rpoqu66sJPQDAIh//vs4e5Kt4KypqVFbW5vMZrNycnL0r//6r1q6dOkZ1/3617/Wj370I3m9Xl1z\n",
              "zTV65JFHlJqaOskrJqaMNIvmzMjQRycH1djeR8E5DR93DerVA74i848fdso9LvQzy5YeuB9zBaEf\n",
              "AECCyUuQsziDLjh/85vfKC8vT5K0bds2/cM//IP2798/4ZojR47o3nvv1bvvviu73a5169bpl7/8\n",
              "pf7xH/8xJIOOF5VFOYGCc+XcgmgPJ24YhqHG9rHQz1+OTQz9zLfnqKbarpqqYi2cTegHAJC4bBmj\n",
              "7S2TreD0F5uS1N3dPekv+2eeeUa1tbUqLi6WJN1999168MEHk67grLBn67WD7WokqX5eHq+hvS2n\n",
              "VNfgVF19m5onCf3UVPlCP+Uz4/emaQAAgpEo7S2ndJPbrbfeqp07d0qSXnrppTOeb2lpUVlZWeDz\n",
              "8vJytbS0TPpaLpdLLpdrwmMej2fSa+MNPdUvzG//9JH+v98fVEcfoR8AAMYLbKkPDp/nytg2pYLz\n",
              "ySeflCQ98cQT+s53vjNp0XmhtmzZos2bN094bOXKlVN+vVhSaR89Gomk+ln1DI3oe9vfl8vtJfQD\n",
              "AMBpEqW95bQSFrfddpt27typzs7OCY+Xlpbq6NGjgc+bm5tVWlo66Wts2rRJ3d3dEz5WrFgxnWHF\n",
              "jHmFvoKzo8+lU/3x/X8m4fL799vkcntVUZStP9+7Rv/yhSW6YdEsik0AAJQ4W+pBFZxdXV36+OOP\n",
              "A59v375dBQUFys/Pn3DdTTfdpOeff15tbW0yDEOPPvqobrnllklf02q1Kjc3d8KHxWKZwluJPVnW\n",
              "FM3Oy5DEKufZbN97XJL0+aWzSZgDAHAaW2BLPb4LzqCWkbq7u3XzzTdrcHBQZrNZhYWFevHFF2Uy\n",
              "mbRhwwbV1taqtrZWc+fO1ebNm7Vq1SpJ0urVq3XXXXeF5Q3Eukp7to53DaqxvVcrLs4//19IIm3d\n",
              "Q3rrQ9/qeO3ikiiPBgCA2JOXjCn1srIy7dmzZ9LnHnvssQmf33HHHbrjjjumPrIE4bDnaOcHJwgO\n",
              "TeL5/cdlGNKK8nxdlJ8Z7eEAABBz/CucPYMjMgwjbo8CZA8zzAI91ds5Gul02/b6bs9Yv3R2lEcC\n",
              "AEBs8oeGhj1eDY7E7yk+FJxh5rBzNNJkDrb16EBrj1ItJq1dVBzt4QAAEJMy0yxKtfhWNeN5W52C\n",
              "M8wqRlc423tdcX+kQShtH13dvHp+kfIy06I8GgAAYpPJZEqIpDoFZ5hlT0iqs60uSV6voef3jaXT\n",
              "AQDA2fkLTlY4cU7+Vc5DbKtLkvY0n9TH3UPKSU/R1QuKoj0cAABimn8nsDuOuw1RcEYAwaGJ/Gdv\n",
              "rl04S+mpiXHmKgAA4cKWOi5I5WhwqInD3zU04tHv3muVRDodAIALkceWOi5Ehd2/pc4K586D7eod\n",
              "cmuWLV2f5CB8AADOy38WJyucOCf/PZzOHldcf7OEwvbRsNC6JbNlNsfn4bUAAERSIDQUxzUEBWcE\n",
              "5KanapYtXVJyb6t3DQxr58ETkkinAwBwofxb6vF8vCIFZ4T4Vzkbk3hb/aX32jTs8WpBcY7mF+dE\n",
              "ezgAAMQFttRxwRxFox2HkniF059OZ3UTAIALl5fhOxapi2ORcD6Vdv/RSMlZcB47NaA9zSdlMkm1\n",
              "S0qiPRwAAOKGf4WTlDrOy2FP7i315/b5Wll+am6BZtkyojwaAADiB+dw4oJVjG6pt3YPqXcofr9h\n",
              "psIwDG0b3U5fv4TtdAAAguEPDfUOueX2eKM8mqmh4IwQW0aq7LlWScmXVK//uEdN7X1KSzHr+kXF\n",
              "0R4OAABxxb/CKUk9Q+4ojmTqKDgjKBAcSrKe6v6w0JpL7MpNTz3P1QAAYLwUi1nZ1hRJ8butTsEZ\n",
              "QYH7OJOop7rHa+j5/b77N2llCQDA1AQOfx+Iz6Q6BWcEJePRSG8d7lR7r0t5mam6qrIw2sMBACAu\n",
              "5WXGd7chCs4IGkuqJ0/B6Q8LfXbRLKWl8O0GAMBU+Fc4eyg4cT6O0W5Dx7sG1eeKz5t+gzE47NHv\n",
              "32+VxGHvAABMR16cn8VJwRlBeZlpKsxJnqT6qwec6h/2aM6MDF1WNiPawwEAIG7Z/N2GKDhxIRxJ\n",
              "1FN9fCtLk8kU5dEAABC/4v3wdwrOCKu0+4JDib7C2dnn0uuHTkiS1nHYOwAA0zIWGiKljgtQMbrC\n",
              "eSjBVzh/916r3F5Di2bbAu8ZAABMTR6hIQQjsKWe4CucgVaWhIUAAJi2sXM4k6DgHBoa0vr161VZ\n",
              "WanFixdrzZo1ampqOuO65uZmWSwWLVmyJPBx+PDhkA06nvm31I+dGtTAcGIm1Y929mtvS5fMJulz\n",
              "i2dFezgAAMQ9W5yfw5kS7F+48847dcMNN8hkMunf/u3ftGHDBu3ateuM63JycrRv374QDDGxzMhK\n",
              "08zsNHX0DaupvU+XzsmL9pBCbvteX2ehVRUzVZSTHuXRAAAQ//JGU+pJERpKT0/X2rVrA4njlStX\n",
              "qrm5ORzjSmgVRYl7ALxhGNq+byydDgAAps+/wtk9MCLDMKI8muBN6x7Ohx9+WOvWrZv0uf7+fi1f\n",
              "vlzLli3TAw88II/HM+l1LpdLPT09Ez7Odm2i8G+rJ+J9nPuPdetIR78yUi26rro42sMBACAh+END\n",
              "wx6vBkfir06acsH54IMPqqmpSVu2bDnjuVmzZun48eN655139Oqrr2r37t36yU9+MunrbNmyRTab\n",
              "bcLHnj17pjqsuJDIZ3H6z96sqbYryxr0HRsAAGASmWkWpZh9O8zxuK0+pYLzxz/+sbZu3aqXX35Z\n",
              "mZmZZzxvtVpVVFQkScrPz9eXv/xl7d69e9LX2rRpk7q7uyd8rFixYirDihuOBF3hHPF49cJ+3/2b\n",
              "6zl7EwCAkDGZTHHd3jLoJaiHHnpITz31lF599VXl5eVNek17e7tmzJih1NRUuVwubd26VUuXLp30\n",
              "WqvVKqvVOuExi8US7LDiin+F86NTAxoc9igjLTHe75tNHersH1ZBVpqucMyM9nAAAEgotoxUdfQN\n",
              "x2XBGdQK57Fjx/TNb35TXV1duvrqq7VkyRJ98pOflCTdd999evTRRyVJb775ppYuXarFixdr2bJl\n",
              "Ki4u1ne/+93Qjz5OFWRblZ+VJsOQDp9InFVO/3b65xaXKNXCEa8AAIRSPLe3DGqFc86cOWdNRj3w\n",
              "wAOBP99444268cYbpzeyBOcoytbbR06qsb1XC2fboj2caet3uVVX75TEYe8AAIRDXqb/aKT4a2/J\n",
              "MlSUOOyJdTRSXUObBkc8unhmlhbPif8CGgCAWJMXx92GKDijxFHkCw4dSpCCc9voYe/rlpQEzmkF\n",
              "AAChkxvHW+oUnFHiX+Fsao//o5Hae4f0ZuMJSaTTAQAIl7w4bm9JwRkl/hXOoycHNBSHB7iO98L+\n",
              "VnkNaWlpnspnZkV7OAAAJCT/lno3W+q4UDOz05SXmZoQSfXnaGUJAEDYBdpbssKJC2UymVQ5usrZ\n",
              "FMcHwDe19+kvx7plMZv02UWzoj0cAAASVl6GL6XeRUodwagYvY/zUBy3uPSvbl5VWaiCbOt5rgYA\n",
              "AFNli+NOQxScUTTWUz0+VzgNw9D20YKTszcBAAiveD74nYIziirt8b2l/m7LKX10clBZaRatucQe\n",
              "7eEAAJDQ/KGh3iG3PN7JG/HEKgrOKPKvcDZ39sdlUn3baCvL6xYWJ0w/eAAAYpV/hVOSeuJslZOC\n",
              "M4oKc6zKTU+R15COdPRHezhBGXZ79eJfWiWRTgcAIBJSLGZlW31dyePtLE4KzigymUyBbfXGONtW\n",
              "f/3QCXUNjKgwx6rL582M9nAAAEgKtkB7y/hKqlNwRtlYT/X4SqpvH91OX7e4RBYzrSwBAIiEvDg9\n",
              "i5OCM8r8HYfiKaneMzSiVw84JZFOBwAgkuI1qU7BGWWBFc446qn++/fb5HJ7VVGUreqS3GgPBwCA\n",
              "pJEXp2dxUnBGmX+Fs7lzQC53fCTV/dvpn186WyYT2+kAAEQKK5yYEnuuVTnpKfJ4DTV3DER7OOfV\n",
              "1j2ktz7slCTVLi6J8mgAAEguNn97S1Y4EQyTyTTWcSgOttWf339chiGtKM/XRfmZ0R4OAABJJbCl\n",
              "Hmf91Ck4Y4B/W/1QHASHtu39WJK0bimrmwAARJp/S52D3xE0f3CoKcZXOA+29ehAa49SLSZ9dtGs\n",
              "aA8HAICkk5dBaAhT5LDHxwrn9tHVzavnFykvMy3KowEAIPnYAlvqFJwIUqCneke/ht3eKI9mcl6v\n",
              "oef3jaXTAQBA5JFSx5TNsqUr25oit9fQ0c7Y7Km+p/mkPu4eUk56iq5eUBTt4QAAkJT8O4zdAyMy\n",
              "DCPKo7lwFJwxwGQyqWJ0lTNWt9X9Z2+uXThL6amWKI8GAIDk5L+Hc9jj1eBIfJzfLVFwxoxYPhpp\n",
              "aMSj373XKolWlgAARFNmmkUpZl/TlXjaVqfgjBGVo8GhxvbYW+HcebBdvUNuzbKl65MX50d7OAAA\n",
              "JC2TyRSX7S2DKjiHhoa0fv16VVZWavHixVqzZo2ampomvfbFF1/UggUL5HA4dOONN6qnpyckA05U\n",
              "Ff6e6s7YW+HcPhoWWrdktsxmWlkCABBN8RgcCnqF884779QHH3yg/fv3a926ddqwYcMZ1/T19ekr\n",
              "X/mKtm/frsbGRpWUlOgHP/hBSAacqPwrnEc6+jXiiZ2ketfAsHYePCFJWs9h7wAARJ0tDs/iDKrg\n",
              "TE9P19q1a2Uy+Va5Vq5cqebm5jOue/nll7V06VItWLBAkvS1r31NTz311PRHm8BKbOnKSrNoxGPo\n",
              "aGfs9FR/6b02DXu8WlCcowXFudEeDgAASS+QVI+j9pbTuofz4Ycf1rp16854vKWlRWVlZYHPy8vL\n",
              "1draKrfbfca1LpdLPT09Ez48nvhJXYXK+KR6LG2r+9PpnL0JAEBsyEuGLXW/Bx98UE1NTdqyZcu0\n",
              "BrBlyxbZbLYJH3v27JnWa8YrR4wFh46dGtCe5pMymaTaJWynAwAQC3ITfUvd78c//rG2bt2ql19+\n",
              "WZmZmWc8X1paqqNHjwY+b25u1qxZs5SSknLGtZs2bVJ3d/eEjxUrVkxlWHFv7Gik2Cg4n9vna2W5\n",
              "8uICzbJlRHk0AABA0lhKPZFXOB966CE99dRT2rFjh/Ly8ia95vrrr9e7776rgwcPSpIeeeQR3XLL\n",
              "LZNea7ValZubO+HDYknOg8UdMZRUNwxD29hOBwAg5sTjlvqZS47ncOzYMX3zm9/U3LlzdfXVV0vy\n",
              "FYxvv/227rvvPpWUlOjuu+9WTk6OHnvsMa1fv15ut1sLFy7UE088EZY3kEgcRb4t9Q9P9Mvt8SrF\n",
              "Er1jUus/7lFTe5/SUsy6flFx1MYBAAAmso2ucHbH0ZZ6UAXnnDlzztq384EHHpjweW1trWpra6c+\n",
              "siQ0Oy9DGakWDY541HJyQHMLs6M2Fn9YaM0lduWmp0ZtHAAAYKK8DF9KvStZUuoILbM5Nnqqe7yG\n",
              "nt/vu3+TVpYAAMSW3DjcUqfgjDH++zibothT/a3DnWrvdSkvM1VXVRZGbRwAAOBMCd/aEuHnv48z\n",
              "miuc/rDQZxfNUloK3yIAAMQSf2iod8gtj3fyWx1jDdVEjIn20UiDwx79/v1WSaTTAQCIRf4tdUnq\n",
              "iZNtdQrOGOPvqX74RF9U/q/l1QNO9Q97NGdGhi4rmxHxrw8AAM4t1WJWttWX+46XszgpOGPMnBkZ\n",
              "Sk81a9jtVcvJyPdU96fT1y+ZLZPJFPGvDwAAzs8W6DYUH0l1Cs4YMz6pHukD4Dv7XHr90AlJ0vql\n",
              "tLIEACBW2eIsqU7BGYP8waFI38f5u/da5fYaWjTbporRMQAAgNjjT6pTcGLKorXC6U+nc/YmAACx\n",
              "Ld6ORqLgjEH+4FAkVziPdvZrb0uXzCbpc4tnRezrAgCA4LGljmnzH43U1B65pPr2vb7OQqsqZqoo\n",
              "Jz0iXxMAAEyNzd/ekhVOTNVF+Zmyppjlcnt17FT4k+qGYWj7Pt92OmdvAgAQ+7iHE9NmMZs0r9B/\n",
              "H2f4t9X3H+vWkY5+ZaRadF11cdi/HgAAmJ6xLXWORcI0+HuqR+I+Tv/ZmzXVdmWNHiQLAABiV14G\n",
              "oSGEgCNCSfURj1cv7Pfdv7l+CdvpAADEAxtb6ggFR4SS6m82daizf1gFWWm6wjEzrF8LAACERqDT\n",
              "EAUnpmN8Ut0bxqS6fzv9c4tLlGrh2wEAgHiQl+lLqXcPjMgwInOizXRQYcSo0vxMpVnMGhzx6HjX\n",
              "YFi+Rr/Lrbp6pyQOewcAIJ74VziHPV4NjXijPJrzo+CMUSkWs+YWZkmSGtvDcx9nXUObBkc8Ki/I\n",
              "1OI5trB8DQAAEHpZaRalmE2SpK44SKpTcMYw/32ch8J0NNK20cPe1y+dLZPJFJavAQAAQs9kMsVV\n",
              "e0sKzhg2llQPfcHZ3jukNxtPSCKdDgBAPMqNo/aWFJwxrNLuDw6Ffkv9hf2t8hrS0tI8lc/MCvnr\n",
              "AwCA8IqnszgpOGNYRdHY0UihTqo/N9rKktVNAADiUyCpzj2cmI7ygkylWkwaGPbo4+7QJdWb2vv0\n",
              "l2PdsphN+qtLZ4XsdQEAQOTY2FJHKKRYzJo7M/QtLv2rm1dVFqog2xqy1wUAAJFjY0sdoVJhD22L\n",
              "S8MwtN2/nc7ZmwAAxK1ASj3RVji//vWvq7y8XCaTSfv27Zv0ml27dikjI0NLliwJfAwOhufg8mRQ\n",
              "6b+PM0RJ9XdbTumjk4PKSrNozSX2kLwmAACIvHjaUk8J5uK//uu/1re//W1dccUV57xu/vz5Zy1I\n",
              "ERyHPbRb6ttGW1let7BYGWmWkLwmAACIPP8KZ3ccbKkHVXBeeeWV4RoHzmJ8T3XDMKZ1QPuw26sX\n",
              "/9IqSfo82+kAAMS1vAxfSj1pOw0dPnxYy5Yt0/Lly/XII4+c81qXy6Wenp4JHx6PJxzDikvlM7OU\n",
              "Yjapz+VWa/fQtF7r9UMn1DUwosIcqy6fNzNEIwQAANGQ1Ae/L1u2TMeOHdO7776rbdu26dFHH9Vv\n",
              "fvObs16/ZcsW2Wy2CR979uwJ9bDiVqrFrItn+nuqT29bffvodvq6xSWymGllCQBAPEvq1pa5ubmy\n",
              "2WySpDlz5uiLX/yidu/efdbrN23apO7u7gkfK1asCPWw4pojBEn1nqERvXrAKYl0OgAAicDfaah3\n",
              "yC1PiBvEhFrIC87W1lZ5vV5JUm9vr1588UUtXbr0rNdbrVbl5uZO+LBYCLOM5whBUv3377fJ5faq\n",
              "oihb1SW5oRoaAACIEv+WuiT1xPi2elAF51133aU5c+bo2LFjuu6661RRUSFJ2rBhg55//nlJ0rPP\n",
              "PqtFixZp8eLFWrlypdasWaPbb7899CNPIv4VzkPT6Knu307//NLZ0woeAQCA2JBqMSvb6st/x/pZ\n",
              "nEGl1H/xi19M+vhjjz0W+PPGjRu1cePG6Y0KE/hXOJucU0uqt3UP6a0POyVJtYtLQj4+AAAQHbaM\n",
              "VPW53DEfHKLTUBy4eGaWLGaTel1uOXtcQf/95/cfl2FIy8tn6KL8zDCMEAAARMNYe8vYPhqJgjMO\n",
              "pKWYVV7gKxQPTSE4tG3vx5IICwEAkGgCh7+zwolQqLSPBoeCPBrpYFuPDrT2KNVi0mcXzQrH0AAA\n",
              "QJTES3tLCs44MdZxKLgVzu2jq5tXzy9SXmZayMcFAACiJ17O4qTgjBMVoyuch4I4GsnrNfT8vrF0\n",
              "OgAASCw2f3tLCk6EQuW4w98N48IOd93TfFIfdw8pJz1FVy8oCufwAABAFLCljpC6eGaWzCapZ8it\n",
              "E70XllT3n725duEspadymD4AAIlmLDRESh0hYE2xqLzA11P9QrbVh0Y8+t17rZJIpwMAkKjyMriH\n",
              "EyEW6Kl+AcGhnQfb1Tvk1ixbuj55cX64hwYAAKKALXWEXKCn+gUcjbR9NCxUu6REZjOtLAEASEQ2\n",
              "f0qdghOh4hgXHDqXroFh7Tx4QhLpdAAAEpn/yMPugZELDhVHAwVnHPGvcB4a7al+Ni+916Zhj1cL\n",
              "inO0oDg3UsMDAAAR5t9SH/Z4NTTijfJozo6CM47MLfQl1bsHR9TRd/Y0mj+dzuomAACJLSvNopTR\n",
              "W+e6YjipTsEZR9JTLSrN9/VUP9u2+rFTA9rTfFImk+/+TQAAkLhMJlNc9FOn4IwzjvP0VH9un6+V\n",
              "5cqLCzTLlhGxcQEAgOjIjYOjkSg444y/p/qhSVY4DcPQNrbTAQBIKvFwFicFZ5wZO4vzzBXO+o97\n",
              "1NTep7QUs65fVBzpoQEAgCjwJ9V72FJHqPiT6k2TFJz+sNCaS+zKTU+N6LgAAEB0+JPqhIYQMvMK\n",
              "s2UySSf7h9XRN9ZT3eM19Px+3/2b6wgLAQCQNGxsqSPUMtLGJ9XHVjnfOtyp9l6X8jJTtXp+UbSG\n",
              "BwAAIoyUOsLCHxxqGtdT3R8W+uyiWUpL4T8rAADJYmxLnYITIVQxruOQJA0Oe/T791slkU4HACDZ\n",
              "BFY42VJHKFUGkuq+Fc5XDzjVP+zRnBkZuqxsRjSHBgAAIsy/wsmWOkLq9KS6P52+fslsmUymqI0L\n",
              "AABEni3DdywSKXWE1LyiLElSR9+wmtr79PqhE5Kk9UtJpwMAkGz8W+qk1BFSmWkpuijf17byX149\n",
              "JLfX0KLZtsC9nQAAIHn4t9R7h9zyeI0oj2ZyQRWcX//611VeXi6TyaR9+/ad9bpf//rXcjgcmjdv\n",
              "nu644w6NjMRuxR2v/Nvqv/uLLyzE2ZsAACQnf8EpxW63oaAKzr/+67/Wm2++qbKysrNec+TIEd17\n",
              "773avXu3mpqa5HQ69ctf/nLaA8VE/qORJMlskmoXU3ACAJCMUi1mZVtTJMXu0UhBFZxXXnml5syZ\n",
              "c85rnnnmGdXW1qq4uFgmk0l33323nnrqqWkNEmdy2Me2z1dVzFRRbnoURwMAAKIp1pPqKaF+wZaW\n",
              "lgkroOXl5WppaTnr9S6XSy6Xa8JjHo8n1MNKOONXODl7EwCA5GbLSNXxrkF1DcRmUj3qoaEtW7bI\n",
              "ZrNN+NizZ0+0hxXzHPZszchMVX5Wmmqqi6M9HAAAEEWx3t4y5AVnaWmpjh49Gvi8ublZpaWlZ71+\n",
              "06ZN6u7unvCxYsWKUA8r4WSmpeiF/3eFXvh/VwTu2wAAAMlp4zUV+tWtn9DKuQXRHsqkQl6p3HTT\n",
              "Tbriiit0//33y26369FHH9Utt9xy1uutVqusVuuExywWS6iHlZDmzMiM9hAAAEAMuHzezGgP4ZyC\n",
              "WuG86667NGfOHB07dkzXXXedKioqJEkbNmzQ888/L0maO3euNm/erFWrVqmiokKFhYW66667Qj9y\n",
              "AAAAxAWTYRgxd0LoPffco4ceeijawwAAAEAIRD00BAAAgMRGwQkAAICwouAEAABAWFFwAgAAIKwo\n",
              "OAEAABBWFJwAAAAIKwpOAAAAhBUFJwAAAMKKghMAAABhFZOdhm688UaVl5dHexhR5/F4tGfPHq1Y\n",
              "sYL+8heIOZsa5i14zFnwmLPgMWdTw7wFbypzVlZWpn/6p3+6oGtjsuCET09Pj2w2m7q7u5Wbmxvt\n",
              "4cQF5mxqmLfgMWfBY86Cx5xNDfMWvHDPGVvqAAAACCsKTgAAAIQVBScAAADCioIzhlmtVn3/+9+X\n",
              "1WqN9lDiBnM2Ncxb8Jiz4DFnwWPOpoZ5C16454zQEAAAAMKKFU4AAACEFQUnAAAAwoqCEwAAAGFF\n",
              "wRlBX//611VeXi6TyaR9+/YFHq+pqdGll16qJUuW6NOf/rT27t0rSRoaGtL69etVWVmpxYsXa82a\n",
              "NWpqagr8vfb2dl1//fVyOBxauHCh3njjjUi/pYgIdt7Ge/zxx2UymbR9+/bAY8kwb1OZM5fLpY0b\n",
              "N8rhcGjRokX6u7/7u8BzjY2Nuvzyy1VZWanly5ervr4+km8nIqYyZy+99JKWLVumJUuWaOHChXri\n",
              "iScCzyXz95lfsD9/zNnkc3b77bcHfg+sWrVK77zzTuC5gYEBffGLX1RFRYUqKyv1zDPPROBdRN5U\n",
              "5s3vD3/4gywWi376058GHkuGeZvKnBmGofvvv1+VlZVatGiRrr766sBz0/75NBAxr7/+uvHRRx8Z\n",
              "ZWVlxt69ewOPnzp1KvDnrVu3GpdeeqlhGIYxODho/O53vzO8Xq9hGIbxs5/9zLjqqqsC195+++3G\n",
              "97//fcMwDGPPnj3G7NmzjeHh4XC/jYgLdt78jhw5YnzqU58yVq5caWzbti3weDLM21Tm7Bvf+Iax\n",
              "cePGwPdba2tr4Lmrr77aePzxxw3DMIzf/va3xic+8Ymwjj8agp0zr9drzJgxw9i/f79hGL7vN6vV\n",
              "avT09BiGkdzfZ4YxtZ8/5mzyOXvuueeMkZERwzAM44UXXjDKysoCz23evNm47bbbDMMwjA8//NAo\n",
              "LCw0Ojo6wvwuIm8q82YYhtHV1WUsX77c+Ku/+ivjX/7lXwKPJ8O8TWXOfvrTnxqf//znDZfLZRjG\n",
              "xN8D0/35pOCMgsn+4/s9/vjjxuLFiyd97p133pnwD01WVtaEb4bly5cbO3bsCOFIY0sw8+bxeIxr\n",
              "r73W+NOf/mRcddVVE36gkmneLnTO+vr6jJycHKO7u/uM65xOp5GTkxP4hef1eg273W40NjaGa9hR\n",
              "daFz5vV6jfz8fOP11183DMMw9u/fb5SUlAT+oU7m77Op/vwxZ5PP2XgnTpwwUlJSAj+PVVVVxltv\n",
              "vRV4/uabbzZ+9atfhXPoURXsvP3d3/2d8dxzzxm33XbbhIIzmeYtmDmbPXu28cEHH0z6OtP9+UyZ\n",
              "4kotQuzWW2/Vzp07Jfm26Sbz8MMPa926dZKkzs5OjYyMqLi4OPB8eXm5Wlpawj/YGHK2eXvooYe0\n",
              "atUqXXbZZROuZ94mn7PDhw8rPz9fDz74oF599VVlZGTo/vvv17XXXquPPvpIs2bNUkqK758Lk8mk\n",
              "0tJStbS0qKKiImrvI5ImmzOTyaSnn35aN954o7KysnTq1Clt3bpVaWlpSf99NpWfP+Zs8jk73cMP\n",
              "P6y1a9cGfh5bWlpUVlYWeD6Z5kw697w988wzMpvNqq2t1datWyc8l8zzdrY56+npkdPp1HPPPRe4\n",
              "xeCee+7RF77whZD8fFJwxognn3xSkvTEE0/oO9/5zhlF54MPPqimpia99tpr0RhezJps3t5//309\n",
              "++yzCXn/VyhMNmdut1tHjx5VVVWVfvSjH2nv3r1as2ZNQt6rORVnm7Mf/vCH2rp1q6688kq98847\n",
              "qq2t1XvvvSeTyRTlEUcPP3/Bu9A5+6//+i/95je/YW5HnWve2tra9MMf/lC7du2K/MBi2LnmzO12\n",
              "y+12a3BwUG+//baam5t1+eWXa8GCBZozZ860vzahoRhz2223aefOners7Aw89uMf/1hbt27Vyy+/\n",
              "rMzMTElSQUGBUlJS1NbWFriuublZpaWlER9zLBg/b7t371Zzc7McDofKy8v1xz/+UXfeead+/vOf\n",
              "M2/jjJ+z0tJSmc1mfelLX5IkLV26VBdffLHee+89XXTRRWptbZXb7Zbku6m8paUl6eds3759+vjj\n",
              "j3XllVdKkpYvX645c+Zo7969Sf19NtWfP+Zs8jnze/rpp7V582bt2LFDdrs98HhpaamOHj0a+DxZ\n",
              "5kw697z9+c9/Vmtrq5YsWaLy8nI988wzeuCBB/Td735XUvLO27nmLD8/X9nZ2YHAaHl5eSCkFpKf\n",
              "z2DvBcD0jb+f4tSpU8bx48cDz23bts2YPXt2ILjxk5/8xFi2bJlx8uTJM17ntttum3ADb0lJScLd\n",
              "YD9eMPM23un3qCTTvAUzZ2vWrDF+97vfGYbhu4m+oKDAOHbsmGEYvjkcHxq67LLLIvcmIuxC56yt\n",
              "rc3Izs42GhoaDMMwjMbGRmPGjBnG0aNHDcNI3u+z0wXz88ec+Zw+Z08//bRRUVFhNDc3n3Ht97//\n",
              "/TPCLydOnAjDiGNDMPM23un3cCbTvAUzZ3fccYfx7//+74ZhGEZnZ6dRWlpqvP3224ZhTP/nk4Iz\n",
              "gu68805j9uzZhsViMYqKiox58+YZzc3NxvLly42FCxcal156qXHttdcGvjE++ugjQ5Ixd+5cY/Hi\n",
              "xcbixYuNFStWBF6vra3NWLNmjVFRUWFUVVUZf/jDH6L0zsIr2Hk73ek/UMkwb1OZs8OHDxurV68O\n",
              "PP/MM88Enjt48KCxcuVKw+FwGJdddpnxl7/8JQrvKrymMmf/8z//E3hu4cKFxn//938HnkvW77PT\n",
              "BfPzx5z5nD5nKSkpxpw5cwK/BxYvXhxIVPf19Rl/8zd/Y8ydO9dwOBzG008/Ham3ElFTmbfxTi84\n",
              "k2HepjJnHR0dxuc+9zmjurraqK6uDhSfhjH9n096qQMAACCsuIcTAAAAYUXBCQAAgLCi4AQAAEBY\n",
              "UXACAAAgrCg4AQAAEFYUnAAAAAgrCk4AAACEFQUnAAAAwoqCEwAAAGFFwQkAAICwouAEAABAWP3/\n",
              "142gNVyZa3IAAAAASUVORK5CYII=\n",
              "\">\n",
              "      </div>\n",
              "      <script type=\"text/javascript\">\n",
              "        (() => {\n",
              "          const chartElement = document.getElementById(\"chart-2e7c0d73-f1ee-4c2a-9870-00317749ee33\");\n",
              "          async function getCodeForChartHandler(event) {\n",
              "            const chartCodeResponse =  await google.colab.kernel.invokeFunction(\n",
              "                'getCodeForChart', [\"chart-2e7c0d73-f1ee-4c2a-9870-00317749ee33\"], {});\n",
              "            const responseJson = chartCodeResponse.data['application/json'];\n",
              "            await google.colab.notebook.addCell(responseJson.code, 'code');\n",
              "          }\n",
              "          chartElement.onclick = getCodeForChartHandler;\n",
              "        })();\n",
              "      </script>\n",
              "      <style>\n",
              "        .colab-quickchart-chart-with-code  {\n",
              "            display: block;\n",
              "            float: left;\n",
              "            border: 1px solid transparent;\n",
              "        }\n",
              "\n",
              "        .colab-quickchart-chart-with-code:hover {\n",
              "            cursor: pointer;\n",
              "            border: 1px solid #aaa;\n",
              "        }\n",
              "      </style>"
            ]
          },
          "metadata": {}
        },
        {
          "output_type": "display_data",
          "data": {
            "text/plain": [
              "<google.colab._quickchart_helpers.SectionTitle at 0x7ed2ff850d60>"
            ],
            "text/html": [
              "<h4 class=\"colab-quickchart-section-title\">Faceted distributions</h4>\n",
              "<style>\n",
              "  .colab-quickchart-section-title {\n",
              "      clear: both;\n",
              "  }\n",
              "</style>"
            ]
          },
          "metadata": {}
        },
        {
          "output_type": "display_data",
          "data": {
            "text/plain": [
              "from matplotlib import pyplot as plt\n",
              "import seaborn as sns\n",
              "figsize = (12, 1.2 * len(_df_3['user_id'].unique()))\n",
              "plt.figure(figsize=figsize)\n",
              "sns.violinplot(_df_3, x='rating', y='user_id', inner='stick', palette='Dark2')\n",
              "sns.despine(top=True, right=True, bottom=True, left=True)"
            ],
            "text/html": [
              "      <div class=\"colab-quickchart-chart-with-code\" id=\"chart-34ea5609-8130-42b5-890a-2fe1c8b7d1ac\">\n",
              "        <img style=\"width: 180px;\" src=\"data:image/png;base64,iVBORw0KGgoAAAANSUhEUgAABDYAAAIBCAYAAACyfD9jAAAAOXRFWHRTb2Z0d2FyZQBNYXRwbG90\n",
              "bGliIHZlcnNpb24zLjcuMSwgaHR0cHM6Ly9tYXRwbG90bGliLm9yZy/bCgiHAAAACXBIWXMAAA9h\n",
              "AAAPYQGoP6dpAAA8d0lEQVR4nO3deZhXZf0//ucw6KgpuOBC8EFEVFCBETLRQEEyDM0Fc4tEEDdM\n",
              "zTRFKtdMrMxdcxsViRQtNL/mJytlcEkMkyH7gBsxiuLy+agsKiLC/P7w4v1zZHEgYDj6eFzXuZr3\n",
              "uc99n9d539d04tm5z5TV1dXVBQAAAKCAmjR2AQAAAAArS7ABAAAAFJZgAwAAACgswQYAAABQWIIN\n",
              "AAAAoLAEGwAAAEBhCTYAAACAwhJsAAAAAIUl2AAAAAAKS7ABAAAAFJZgAwAAACgswQYAAABQWIIN\n",
              "AAAAoLAEGwAAAEBhCTYAAACAwhJsAAAAAIUl2AAAAAAKS7ABAAAAXxBDhw7N0KFDG7uMVappYxcA\n",
              "AAAArBlvvPFGY5ewynliAwAAACgswQYAAABQWIINAAAAoLAEGwAAAEBhCTYAAACAwhJsAAAAAIUl\n",
              "2AAAAAAKS7ABAAAAFJZgAwAAACgswQYAAABQWIINAAAAoLAEGwAAAEBhCTYAAACAwhJsAAAAAIUl\n",
              "2AAAAAAKS7ABAAAAFJZgAwAAACgswQYAAABQWIINAAAAoLAEGwAAAEBhCTYAAACAwhJsAAAAAIUl\n",
              "2AAAAAAKS7ABAAAAFJZgAwAAACgswQYAAABQWIINAAAAoLAEGwAAAEBhCTYAAACAwhJsAAAAAIUl\n",
              "2AAAAAAKS7ABAAAAFFajBBtz587NhhtumCFDhpT2PfHEE6msrExlZWV22mmnnHDCCZk/f36SpLq6\n",
              "OpWVlUsdq6ysLJ06dUrnzp2z/fbb58gjj8yUKVNK7eeff34233zzVFZWpmPHjjn88MPzzjvvJEl6\n",
              "9eqVbbbZpnTefv36JUluu+22NG/evLS/d+/epfE+3VZZWZmnnnqqVMun67z11ltTVlaWK664Yon+\n",
              "Xbp0SefOnfOHP/yhdPxuu+1WGnfnnXdOWVlZ/vnPfyZJXnjhhfTu3TuVlZXp0KFDzjjjjCxatChJ\n",
              "ctVVV2XnnXcufRe/+c1vSmP269evXr2VlZUpLy/PJZdc0uA5AwAAgLVRowQbY8aMSbdu3TJ27Ni8\n",
              "++67SZIuXbpk4sSJqampyTPPPJM333wz1113XYPGe/TRR/PPf/4zzz77bPbaa6987Wtfy/Tp00vt\n",
              "AwYMSE1NTf71r39lwYIFueiii0ptl19+eWpqalJTU5MHHnigtL93796l/ePGjat3vk+21dTU5Ctf\n",
              "+UqprWnTpvnHP/5R+nzLLbfUa/9k/8mTJ+fGG2/MscceW2p78sknS+Oef/752XnnndO5c+ckyZln\n",
              "npmDDz641P7nP/85f/rTn5IkO+20Ux5//PE888wz+eMf/5jTTjst06ZNS5I88MAD9eo99thjs8MO\n",
              "O+R73/teg75fAAAAWFs1SrBRVVWVYcOGZc8998yYMWOSJBtssEHWWWedJMmHH36YefPmpaysbIXG\n",
              "bdKkSU488cT07dt3qaFIeXl5vv71r+e55577zy9iGQYPHpxbbrklSfL8889nwYIF2WmnnZZ5/KxZ\n",
              "s7LJJpssta2qqqreUy1lZWWZPXt2kmTevHlZsGBBWrZsmSTp06dPmjdvniT5r//6r2y11VaZMWPG\n",
              "EmM+9thjOf/883PPPfdko402WrmLBAAAgLXEGg82pkyZkhkzZqRv374ZMmRIqqqqSm21tbXp0qVL\n",
              "WrRokebNm+ekk05aqXPstttu+Z//+Z8l9s+bNy/33ntvunXrVtr3gx/8oLQ849prry3tf+yxx1JZ\n",
              "WZk99tgjd999d71xxo0bV+rTt2/fem39+/fPAw88kA8++CC33HJLBg8evEQdi/tvv/32OeSQQ3LZ\n",
              "ZZctccyMGTMyfvz4fPe73y3tu+KKK3L33Xfny1/+cr785S9n4MCB2WWXXZbo+9e//jXvvPNOdt11\n",
              "13r7Z86cmcMOOyxVVVXZYYcdluj3SfPnz8+cOXPqbYuXBgEAAMDaYo0HG1VVVRk4cGDKy8vTr1+/\n",
              "TJ8+PVOnTk2StG3bNpMnT87rr7+e+fPnZ+zYsSt1jrq6unqfR48enV122SV77LFHdtxxx5x99tml\n",
              "tk8uRVm8NGP//ffPyy+/nJqamlRVVeX000/PhAkTSn0+uRTlwQcfrHeu9ddfP3379s3dd9+du+++\n",
              "O0ceeeQS9S3u//zzz+fJJ5/Msccem5kzZ9Y75rbbbsv++++fFi1alPZdd911OfLIIzNz5sy89NJL\n",
              "GT16dP7yl7/U6/fMM89k8ODBGTNmTL70pS+V9n/44Yc55JBDcuyxx+bAAw/8zO9wxIgRad68eb1t\n",
              "xIgRn9kPAAAA1qQ1GmwsWLAgo0aNysiRI9O2bdu0b98+77//fr2nNpJkww03zBFHHJHRo0ev1Hkm\n",
              "TpyYnXfeufR5wIABmTRpUiZNmpQrrrgi66+//nL7t2jRIhtssEGSpGPHjunXr18ef/zxBp9/8ODB\n",
              "Of3007PHHnukWbNmyz125513Tps2beqNX1dXl1tvvbXeMpQkufbaa3P00UcnSbbYYov069cv1dXV\n",
              "pfYpU6Zk//33zy233JIePXrU63vKKadks802ywUXXNCgaxg+fHhmz55dbxs+fHiD+gIAAMCaskaD\n",
              "jfvuuy/t2rXLq6++mtra2tTW1mbChAkZNWpUXnjhhSxYsCDJx08X3HPPPaWXZjbUokWLctNNN+VP\n",
              "f/pThg4dutJ1vvrqq6Wf33jjjTz88MNLXfKxLLvttlt+8pOfNCgIeOWVV/LCCy9k++23L+17+OGH\n",
              "89FHH2Wfffapd2y7du1KLwt97733Mm7cuFKAM3Xq1PTr1y833njjEv1uvvnmPPzww/nNb37T4PeW\n",
              "VFRUpFmzZvW2ioqKBvUFAACANaXpmjxZVVVVBgwYUG9fx44d06pVq9xzzz25/fbbU15eno8++ih9\n",
              "+vTJOeecUzpuypQpad26denz7rvvXnr3Rc+ePVNWVpYPPvggXbt2zeOPP55tttlmpeu89tpr84c/\n",
              "/CHrrLNOFi1alB/84AfZe++9V2iM73//+8tsW/yOjeTjp1guvvjidOnSpdReVVWVwYMHp0mT+rnT\n",
              "yJEjc/LJJ+fKK6/Mhx9+mAMOOCBHHHFEkuTUU0/N7NmzM2zYsAwbNixJ8vOf/zx9+/bNySefnM02\n",
              "2yy9evWqN94BBxyQCy+8cIWuCwAAANYmZXWffiEFAAAA8LnUv3//JFnpd1qujRrlz70CAAAArAqC\n",
              "DQAAAKCwBBsAAABAYQk2AAAAgMISbAAAAACFJdgAAAAACkuwAQAAABSWYAMAAAAoLMEGAAAAUFiC\n",
              "DQAAAKCwBBsAAABAYQk2AAAAgMISbAAAAACFJdgAAAAACkuwAQAAABSWYAMAAAAoLMEGAAAAUFiC\n",
              "DQAAAKCwBBsAAABAYQk2AAAAgMISbAAAAACFJdgAAAAACkuwAQAAABSWYAMAAAAoLMEGAAAAUFiC\n",
              "DQAAAKCwBBsAAABAYQk2AAAAgMISbAAAAACFJdgAAAAACkuwAQAAABSWYAMAAAAorKaNXQAAAACw\n",
              "Zmy55ZaNXcIqV1ZXV1fX2EUAAAAArAxLUQAAAIDCEmwAAAAAhSXYAAAAAApLsAEAAAAUlmADAAAA\n",
              "KCzBBgAAAFBYgg0AAACgsAQbAAAAQGEJNgAAAIDCEmwAAAAAhSXYAAAAAApLsAEAAAAUlmADAAAA\n",
              "KCzBBgAAAFBYgg0AAACgsAQbAAAAQGEJNvhcGTp0aIYOHdrYZQAAALCGNG3sAmBVeuONNxq7BAAA\n",
              "ANYgT2wAAAAAhSXYAAAAAApLsAEAAAAUlmADAAAAKCzBBgAAAFBYgg0AAACgsAQbAAAAQGEJNgAA\n",
              "AIDCEmwAAAAAhSXYAAAAAApLsAEAAAAUlmADAAAAKCzBBgAAAFBYgg0AAACgsAQbAAAAQGEJNgAA\n",
              "AIDCEmwAAAAAhSXYAAAAAApLsAEAAAAUlmADAAAAKCzBBgAAAFBYgg0AAACgsAQbAAAAQGEJNgAA\n",
              "AIDCEmwAAAAAhSXYAAAAAApLsAEAAAAUlmADAAAAKCzBBgAAAFBYgg0AAACgsAQbAAAAQGEJNgAA\n",
              "AIDCKkSwMXfu3Gy44YYZMmRIaV9tbW169eqV5s2bp7Kycqn9br311pSVleXRRx+tt3/QoEFp1apV\n",
              "KisrU1lZmTPPPLNe2xVXXFH6PGLEiOy000559dVX06tXr9x7771LjLX4+PPPPz+nnXZakqS6urpe\n",
              "XWVlZZk1a1aSfOY4t912W+m6Fm9PPfVUaZxOnTqV9p977rn1xpk6dWo22GCDUh1Lu6ZP1woAAABF\n",
              "1bSxC2iIMWPGpFu3bhk7dmyuvPLKbLjhhmnWrFkuuuiizJ49Oz/+8Y+X2q+qqip9+vRJVVVVevbs\n",
              "Wa/tzDPP/Mx/2J955pl55JFH8sgjj2SzzTZbVZfTIL17914i/Fjs0UcfzcYbb7zE/gULFuT444/P\n",
              "wQcfvHqLAwAAgLVEIZ7YqKqqyrBhw7LnnntmzJgxSZJNN900PXr0yJe+9KWl9nnuuecyffr03H77\n",
              "7bn33nszZ86cBp9v4cKFOfbYYzNp0qQ89NBDazzUWFkXXnhhDj300Gy33Xb/8Vjz58/PnDlz6m3z\n",
              "589fBVUCAADAqrPWBxtTpkzJjBkz0rdv3wwZMiRVVVUN6ldVVZWjjjoqX/7yl7P33nvnzjvvrNd+\n",
              "5ZVXpnPnztl///1TU1NTr23EiBF58cUX88c//jEbbrjhqrqUen7wgx/UW2py33331WsfN25cqa1v\n",
              "37712nr27Flqe/LJJ5MkTz75ZJ544omccsopq6S+ESNGpHnz5vW2ESNGrJKxAQAAYFVZ65eiVFVV\n",
              "ZeDAgSkvL0+/fv1ywgknZOrUqenYseMy+3z00Ue5/fbbM378+CTJMccck5/+9Kc5/vjjkyQ/+9nP\n",
              "0rJlyzRp0iT33HNPvvnNb+aFF14ohRi9evXKI488ksceeyx9+vQpjVtWVrbU8y1r//JcfvnlOeig\n",
              "g0qfBw0aVK99RZaivP/++znppJPyu9/9bqm1rEzdw4cPz+mnn15vX0VFxTKPBwAAgMawVgcbCxYs\n",
              "yKhRo7LOOuvkt7/9bZKP/xFfVVWVSy+9dJn97r///syaNav0pENdXV1mzpyZf/3rX9l5553TqlWr\n",
              "0rEHH3xwzj777Dz33HPp1q1bkqRHjx459dRT8+1vfzujR4/OPvvskyTZfPPN89Zbb9U71//93/9l\n",
              "iy22WKXXvaKmTZuWl19+Ob17906SzJo1K4sWLco777yTkSNHLrPuT34Pn1ZRUSHIAAAAYK23Vi9F\n",
              "ue+++9KuXbu8+uqrqa2tTW1tbSZMmJBRo0ZlwYIFy+xXVVWVK664otTnpZdeyumnn15axvLKK6+U\n",
              "jp0wYULeeuuttG/fvt4Ye+65Z8aOHZsBAwbkwQcfTJL07ds3o0aNyrx585Ikzz77bCZMmLDEi0nX\n",
              "tE6dOuV///d/S9d72mmn5ZhjjsnIkSOTfFz33XffnbfffjtJ8tprr+UPf/hDKbABAACAolqrn9io\n",
              "qqrKgAED6u3r2LFjWrVqlbvvvjtnnXVW5s+fn9mzZ6d169Y56qijcsopp+Shhx7KbbfdVq/fgAED\n",
              "0qdPn/z85z/PoEGD8sYbb6S8vDzrr79+7r777jRv3nyJ8/fo0SP33HNPDj744IwcOTKDBw/OjBkz\n",
              "sttuu6VJkyZZd911M2rUqLRu3Xp1fg3/sT59+uTUU09N7969U1ZWlrKysvzsZz/LV77ylcYuDQAA\n",
              "AP4jZXV1dXWNXQSsKv3790+SjB07tpErAQAAYE1Yq5eiAAAAACyPYAMAAAAoLMEGAAAAUFiCDQAA\n",
              "AKCwBBsAAABAYQk2AAAAgMISbAAAAACFJdgAAAAACkuwAQAAABSWYAMAAAAoLMEGAAAAUFiCDQAA\n",
              "AKCwBBsAAABAYQk2AAAAgMISbAAAAACFJdgAAAAACkuwAQAAABSWYAMAAAAoLMEGAAAAUFiCDQAA\n",
              "AKCwBBsAAABAYQk2AAAAgMISbAAAAACFJdgAAAAACkuwAQAAABSWYAMAAAAoLMEGAAAAUFiCDQAA\n",
              "AKCwBBsAAABAYQk2AAAAgMISbAAAAACF1bSxC4BVacstt2zsEgAAAFiDyurq6uoauwgAAACAlWEp\n",
              "CgAAAFBYgg0AAACgsAQbAAAAQGEJNgAAAIDCEmwAAAAAhSXYAAAAAApLsAEAAAAUlmADAAAAKCzB\n",
              "BgAAAFBYgg0AAACgsAQbAAAAQGEJNgAAAIDCEmwAAAAAhSXYAAAAAApLsAEAAAAUlmADAAAAKCzB\n",
              "BgDAajR06NAMHTq0scsAgM+tpo1dAADA59kbb7zR2CUAwOeaJzYAAACAwhJsAAAAAIUl2AAAAAAK\n",
              "S7ABAAAAFJZgAwAAACgswQYAAABQWIINAAAAoLAEGwAAAEBhCTYAAACAwhJsAAAAAIUl2AAAAAAK\n",
              "S7ABAAAAFJZgAwAAACgswQYAAABQWIINAAAAoLAEGwAAAEBhCTYAAACAwhJsAAAAAIXVdEUOfuSR\n",
              "R5bbvueee/5HxQAAAACsiBUKNs4444wkycKFC1NTU5N27dqlrKws06ZNS2VlZZ5++unVUiQAAADA\n",
              "0qzQUpSJEydm4sSJqayszIMPPpgXX3wxL7zwQv785z+na9euq6tGAAAAgKVaqXdsPPXUU9lnn31K\n",
              "n7/+9a9n4sSJq6woAAAAgIZYqWCjvLw848aNK30eP358mjTxHlIAAABgzVqhd2wsdu211+aII47I\n",
              "OuuskyT56KOPMmbMmFVaGAAAAMBnWalgY4899si0adPy7LPPJkk6dOhQCjkAAAAA1pQVCjbee++9\n",
              "fOlLX8qcOXOSJFtvvXWSZN68eZk3b16aNWu26isEAAAAWIYVCjZ69uyZp59+OhtvvHHKyspSV1dX\n",
              "7z8XLly4uuoEAAAAWMIKBRtPP/10kmTRokXLPW7+/PmpqKhY+aoAAAAAGmC1/CmT3XfffXUMCwAA\n",
              "AFDPagk26urqVsewAAAAAPWslmCjrKxsdQwLAAAAUM9qCTYAAAAA1oRGX4oyd+7cbLjhhhkyZEhp\n",
              "38MPP5yvfvWr2XHHHbPTTjvlrLPOKr2wdMKECWnTpk1mzZpVOv7QQw/NeeedlyQ5//zzc9ppp5Xa\n",
              "pk6dmv322y/bbrtttt122+y///559tlnkyR33313Kisrs2DBgiTJwoUL071799x6661JkkGDBqVV\n",
              "q1aprKxMhw4dctRRR+X9998vjd22bdvssMMOqayszA477JBLLrkkSTJgwID86Ec/qned++23Xy69\n",
              "9NLPrH/RokU55ZRTsu2226Z9+/a55pprSsd9+tpGjRqVrbfeOv/6179y7LHHprKyst62/vrr58QT\n",
              "T8xNN92Unj171nvp6y9+8Yvsv//+DZskAAAAWEutcLCxcOHC/P73v1/uMd27d2/weGPGjEm3bt0y\n",
              "duzYvPvuu0mSTTbZJHfeeWemTJmSf/zjH/nb3/6W22+/vTT2d77znZx88slJktGjR+fFF1/MT37y\n",
              "kyXGnjlzZvbaa68MGDAg06ZNy7Rp0zJgwID06tUrr7/+eg499NB06NAhF1xwQZLkkksuSYsWLTJ4\n",
              "8ODSGGeeeWZqamoyefLk/Pvf/64XNCyuv6amJg8//HBGjBiRv//977nmmmsyevToTJw4MUlSVVWV\n",
              "OXPm5PTTT//M+n/zm99kypQpef755/P3v/89v/zlL/M///M/S1zbVVddlZ/+9Keprq7OzjvvnJtv\n",
              "vjk1NTWl7ac//Wk22WSTnHPOOTnuuOOy0UYb5YorrkiSTJkyJVdeeWVuvvnmBs8TAAAArI1WONgo\n",
              "Ly/Pz372s+Ue8+tf/7rB41VVVWXYsGHZc889M2bMmCTJLrvsknbt2iVJ1ltvvVRWVqa2trbU58IL\n",
              "L8zkyZNz9dVX54wzzsjIkSOzzjrrLDH2ddddl169euU73/lOad+RRx6ZPffcM9ddd13pmJEjR+am\n",
              "m27K1VdfnZtuummpdVZUVKRHjx556aWXltreqlWrdOjQIS+99FI22WST3HDDDRk0aFBeeOGFnHvu\n",
              "uRk5cmSaNGnymfWPGTMmxx13XMrLy7Ppppvm8MMPzx133FHvXBdccEFuueWWPPLII9lmm22WqOX5\n",
              "55/PMccckzFjxqRVq1al7/myyy7LlClTcvTRR+fyyy/PVltttdRrAQAAgKJYqaUoXbt2zWOPPfYf\n",
              "n3zKlCmZMWNG+vbtmyFDhqSqqmqJY15//fX87ne/q7dsYt11182NN96YU089NUOHDk3nzp2XOv7T\n",
              "Tz+91D89u/vuu+cf//hHkmTTTTfNL37xixx//PH5+c9/npYtWy51rNmzZ6e6ujqHHHLIUtufffbZ\n",
              "vPXWW+nVq1eSZN99903Pnj2z66675txzzy0FNZ9V/8svv5ytt9669Llt27Z5+eWXS59/85vf5M47\n",
              "70x1dfVSg4l33303Bx98cM4999z07NmztL9ly5a59NJLs8cee6R9+/Y57LDDlnodi82fPz9z5syp\n",
              "t82fP3+5fQAAAGBNW6lgY8KECenVq1e23377dO3atbStqKqqqgwcODDl5eXp169fpk+fnqlTp5ba\n",
              "58yZk29961s566yz8pWvfKVe33vuuSetW7dOTU3NylxCPffee29at26dSZMmLdH2y1/+Mp07d86W\n",
              "W26Z1q1bp3fv3vXaDz/88HTs2DE77rhjTjnllGy++ealtjPPPDOLFi3KCSecsMS4K1v/V77ylcyZ\n",
              "Myf333//UtuPPvrodOvWLaeccsoSbUcccUQ22mij/PCHP/zM84wYMSLNmzevt40YMWKFagUAAIDV\n",
              "baWCjWuvvTYPPfRQbrrpplx++eWlbUUsWLAgo0aNysiRI9O2bdu0b98+77//fumpjblz52bffffN\n",
              "gQcemNNPP71e38cffzx33XVXJk2alNra2owePXqp5+jatWueeOKJJfY/8cQTpSDmzjvvzAsvvJCn\n",
              "n346Y8eOzaOPPlrv2DPPPDP//Oc/8/zzz+epp57K9ddfX699zJgxmTp1av785z/n7LPPzjPPPFNq\n",
              "Ky8vLy0/aWj9bdq0qbfcpba2Nm3atCl97tChQ/76179m2LBhpfeOLDZixIjU1tbmxhtvXOr3sbim\n",
              "8vLyZbYvNnz48MyePbveNnz48M/sBwAAAGvSSgUbe+21V/bYY4+0bt06e+21V2lbEffdd1/atWuX\n",
              "V199NbW1tamtrc2ECRMyatSoUqix7777LvFS0Pfeey+DBg3KDTfckBYtWuS2227LGWeckddff32J\n",
              "cwwdOjTjxo3Lb3/729K+O+64I9XV1TnppJPy2muv5fTTT8/IkSOz+eab5/rrr88xxxxT7y+fLNam\n",
              "TZtcffXVufDCCzNv3rwl2r/+9a9n6NChS32J6YrUf+ihh+amm27KwoUL8/bbb2fMmDE5/PDD643R\n",
              "sWPHPPTQQxk+fHjpL7g8+OCDueKKKzJ27Nist956y62hISoqKtKsWbN6W0VFxX88LgAAAKxKKxVs\n",
              "VFdXZ+utty4ty5g4cWK++93vrtAYVVVVGTBgQL19HTt2TKtWrXLVVVfl73//e8aOHVv606WLX1h6\n",
              "1llnpXfv3unbt2+SpEuXLjnppJOWutyjVatWqa6uzqhRo9KuXbtsu+22GTVqVMaPH5+WLVvmuOOO\n",
              "y8knn5xOnTolSfr165eePXvm7LPPXmrNBxxwQDp06FB68einnXPOOXnsscdK7+9Yms+q/6ijjkqH\n",
              "Dh2y3XbbZdddd83pp59equ+TOnTokIcffjjnnHNObr755nz/+9/PokWLcuCBB9b7k6/HHnvsMmsB\n",
              "AACAoiurq6urW9FO3bt3z+jRo/Ptb3+79F6KnXbaaal/lhQA4Iusf//+SZKxY8c2ciUA8Pm0Uk9s\n",
              "LFy4MNtuu229feuuu+4qKQgAAACgoVYq2FhvvfXy7rvvpqysLEnyzDPPZP3111+lhQEAAAB8lqYr\n",
              "0+mcc87JN77xjbz66qv57ne/m7/+9a/1XtAJAAAAsCasVLDxjW98I9ttt13+9Kc/pa6uLhdccMES\n",
              "S1MAAAAAVreVCjY+/PDDbLPNNhk6dGj+/e9/Z8qUKWnbtm3Ky8tXdX0AAAAAy7RS79j42te+lrlz\n",
              "5+att95Kz549M2LEiHzve99b1bUBAAAALNdKBRsfffRRNtpoo/zxj3/M0UcfnccffzyPP/74qq4N\n",
              "AAAAYLlWKtj48MMPkyTV1dXZe++9k8QyFAAAAGCNW6l3bPTu3Ts77rhjFi5cmBtuuCHvvPNOmjZd\n",
              "qaEAAAAAVtpKpRFXX311Jk+enHbt2mWdddbJwoULc9NNN63q2gAAAACWa6WCjRkzZmTTTTfNrFmz\n",
              "MmvWrCTJZptttirrAgAAAPhMKxVsdOvWLWVlZamrq8sHH3yQ999/P5tttlnefPPNVV0fAAAAwDKt\n",
              "VLDxv//7v/U+jx07NpMnT14lBQEAAAA01Er9VZRP69+/f/74xz+uiqEAAAAAGmylntiYM2dO6eeF\n",
              "CxfmySefrLcPAAAAYE1YqWBj4403Lr1jo7y8PNttt12uuuqqVV0bAAAAwHKtVLCxaNGiVV0HAAAA\n",
              "wApbJe/YAAAAAGgMgg0AAACgsAQbAAAAQGEJNgAAAIDCEmwAAAAAhSXYAAAAAApLsAEAAAAUlmAD\n",
              "AAAAKCzBBgAAAFBYgg0AAACgsAQbAAAAQGEJNgAAAIDCEmwAAAAAhSXYAAAAAApLsAEAAAAUVtPG\n",
              "LgAA4PNsyy23bOwSAOBzrayurq6usYsAAAAAWBmWogAAAACFJdgAAAAACkuwAQAAABSWYAMAAAAo\n",
              "LMEGAAAAUFiCDQAAAKCwBBsAAABAYQk2AAAAgMISbAAAAACFJdgAAAAACkuwAQAAABSWYAMAAAAo\n",
              "LMEGAAAAUFiCDQAAAKCwBBsAAABAYQk2AAAA4Ati6NChGTp0aGOXsUo1bewCAAAAgDXjjTfeaOwS\n",
              "VjlPbAAAAACFJdgAAAAACkuwAQAAABSWYAMAAAAoLMEGAAAAUFiCDQAAAKCwBBsAAABAYQk2AAAA\n",
              "gMISbAAAAACFJdgAAAAACkuwAQAAABSWYAMAAAAoLMEGAAAAUFiCDQAAAKCwBBsAAABAYQk2AAAA\n",
              "gMISbAAAAACFJdgAAAAACkuwAQAAABSWYAMAAAAoLMEGAAAAUFiCDQAAAKCwBBsAAABAYQk2AAAA\n",
              "gMISbAAAAACFJdgAAAAACkuwAQAAABSWYAMAAAAoLMEGAAAAUFiCDQAAAKCwBBsAAABAYQk2AAAA\n",
              "gMJaq4ONuXPnZsMNN8yQIUOSJBdccEGOPfbYUvtjjz2WsrKyVFdXl/adeOKJOeecc5Ik3/jGN9K5\n",
              "c+dUVlamZ8+emTRpUum4tm3bpqamZolz7rfffvnFL35R+jxp0qS0atUqb775Zr3jzjvvvJSVlZXG\n",
              "eOutt1JZWVnatt9++zRt2jRvv/12kqRXr1659957kyTnn39+TjvttHrj3XbbbTnooIOSJLW1tSkv\n",
              "L09lZWW6dOmSbt26Zdy4caXjmjdvXu9cTz31VJKkrKwsnTp1SpcuXbLjjjvm1ltvLY1fXV2dysrK\n",
              "5XzbAAAAUDxNG7uA5RkzZky6deuWsWPH5sorr0zv3r1zzDHHlNrHjRuX3XbbLdXV1enVq1dp3/XX\n",
              "X58kueuuu7LxxhsnSe65554MGjQokydPXu45b7755nTr1i377bdf2rdvn4EDB+bKK6/MFltsUTrm\n",
              "73//eyZOnJitt966tG+zzTarF5RceumlGT9+fDbddNOVuvaNNtqoNN7YsWNz2GGHlcKV3r17l0KS\n",
              "T3v00Uez8cYbZ/Lkydl1112z7777pmXLlitVAwAAAKzt1uonNqqqqjJs2LDsueeeGTNmTLp3756Z\n",
              "M2fmlVdeSfLxUwjnnntu6YmN1157LS+//HJ23333JCmFGkkye/bslJWVfeY5W7ZsmUsvvTQDBw7M\n",
              "8OHDs/POO+fb3/52qf3999/PySefnBtuuOEza1/8pMl/at99983//d//5a233mpwny5dumSTTTYp\n",
              "fVcAAADwebTWPrExZcqUzJgxI3379s1HH32USy65JEOGDMkee+yRcePG5bDDDsv06dPTr1+/nHrq\n",
              "qfnggw8ybty47L777llvvfVK4wwcOLC0jOOBBx5o0Lm/853vZOTIkbn99tvz3HPP1Ws766yzMnTo\n",
              "0PzXf/3XMvv/7W9/yzvvvJP9999/mceMHj263hKat99+O127dl3qsXfccUfatGmTFi1aJPn4qZTF\n",
              "y0q23HLLPPjgg0v0GT9+fFq0aJEuXboss4blmT9/fubPn19vX0VFRSoqKlZqPAAAAFgd1tonNqqq\n",
              "qjJw4MCUl5enX79+mT59eqZOnZrevXunuro6Tz75ZL761a8mSbp3754nnngi1dXV6d27d71xbr/9\n",
              "9syYMSMXXXRRhg0b1qBzz5w5M88880yaNm2a6dOnl/b/5S9/yUsvvZTBgwc3qPamTZedGw0YMCA1\n",
              "NTWl7cILL6zXPnfu3NI7NMaOHZv77ruv1Na7d+9Sv0+HGj179kz79u2z995756KLLsq6667boGv+\n",
              "tBEjRqR58+b1thEjRqzUWAAAALC6rJVPbCxYsCCjRo3KOuusk9/+9rdJPl4CUlVVlf79+6eqqipt\n",
              "2rQpvVdjr732yrhx4zJu3LjcdtttSx3z6KOPzoknnpi33norm2222XLPP2TIkJxxxhlp06ZNBg0a\n",
              "lKeffjrrrrtuHn744Tz99NNp27ZtkuSVV15Jv379csMNN+Rb3/pWkuTdd9/NXXfdlYkTJ/5H38En\n",
              "37GxIha/Y+O2227LoEGDsscee2TLLbdc4XGGDx+e008/vd4+T2sAAACwtlkrn9i477770q5du7z6\n",
              "6qupra1NbW1tJkyYkFGjRmXXXXfNm2++mdGjR9cLNu6888689tprpac4Zs2alZkzZ5bGvPfee7PZ\n",
              "Zpt95ss8b7jhhsydOzc/+MEPcuihh2annXbK+eefn+Tjpxg+WVPr1q3zwAMPlEKN5OMXnnbp0iUd\n",
              "OnRYtV/KCho0aFD69OmTiy++eKX6V1RUpFmzZvU2wQYAAABrm7XyiY2qqqoMGDCg3r6OHTumVatW\n",
              "+X//7/+lR48emTx5cik82H777TN37tz06NEj66yzTpKPXxZ66KGHZt68eWnSpEk233zz3H///fVe\n",
              "INq3b9/S8cnH77I477zz8thjj6VJk48zn2uvvTZdunTJwQcfnF133bVBtR933HH/8XewKvz85z9P\n",
              "t27dctZZZyX5+L0lrVu3LrXvvvvuufvuuxurPAAAAPiPldXV1dU1dhEAAADA6te/f/8kydixYxu5\n",
              "klVnrVyKAgAAANAQgg0AAACgsAQbAAAAQGEJNgAAAIDCEmwAAAAAhSXYAAAAAApLsAEAAAAUlmAD\n",
              "AAAAKCzBBgAAAFBYgg0AAACgsAQbAAAAQGEJNgAAAIDCEmwAAAAAhSXYAAAAAApLsAEAAAAUlmAD\n",
              "AAAAKCzBBgAAAFBYgg0AAACgsAQbAAAAQGEJNgAAAIDCEmwAAAAAhSXYAAAAAApLsAEAAAAUlmAD\n",
              "AAAAKCzBBgAAAFBYgg0AAACgsAQbAAAAQGEJNgAAAIDCEmwAAAAAhSXYAAAAAApLsAEAAAAUlmAD\n",
              "AAAAKKymjV0AAAAAsGZsueWWjV3CKldWV1dX19hFAAAAAKwMS1EAAACAwhJsAAAAAIUl2AAAAAAK\n",
              "S7ABAAAAFJZgAwAAACgswQYAAABQWIINAAAAoLAEGwAAAEBhCTYAAACAwhJsAAAAAIUl2AAAAAAK\n",
              "S7ABAAAAFJZgAwAAACgswQYAAABQWIINAAAAoLAEGwAAAEBhCTb4XBk6dGiGDh3a2GUAAACwhjRt\n",
              "7AJgVXrjjTcauwQAAADWIE9sAAAAAIUl2AAAAAAKS7ABAAAAFJZgAwAAACgswQYAAABQWIINAAAA\n",
              "oLAEGwAAAEBhCTYAAACAwhJsAAAAAIUl2AAAAAAKS7ABAAAAFJZgAwAAACgswQYAAABQWIINAAAA\n",
              "oLAEGwAAAEBhCTYAAACAwhJsAAAAAIUl2AAAAAAKS7ABAAAAFJZgAwAAACgswQYAAABQWIINAAAA\n",
              "oLAEGwAAAEBhCTYAAACAwhJsAAAAAIUl2AAAAAAKS7ABAAAAFJZgAwAAACgswQYAAABQWIINAAAA\n",
              "oLAEGwAAAEBhCTYAAACAwlrtwcbcuXOz4YYbZsiQIaV9tbW16dWrV5o3b57Kysp6x1dXV2f99ddP\n",
              "ZWVlaTv44IOTJE888URp30477ZQTTjgh8+fPL/WdOnVq9ttvv2y77bbZdttts//+++fZZ58ttZ9/\n",
              "/vnZfPPNU1lZmS5dumTXXXfN3/72t1L7/Pnzc/LJJ2e77bZLp06d8t3vfrfU9uGHH2bYsGFp3759\n",
              "OnbsmJ133jlVVVX1rqmsrCwHHnhgves577zzUlZWlnvvvbdBNbRt2zY1NTVJkg8++CAHHnhgDj30\n",
              "0Hz44YcZNGhQWrVqlcrKynTo0CFHHXVU3n///dx0003p2bNnFi1aVBrnF7/4Rfbff//cd9999b7L\n",
              "ysrKtGrVKuutt15DpxAAAADWWqs92BgzZky6deuWsWPH5t13302SNGvWLBdddFF++9vfLrXPDjvs\n",
              "kJqamtJ2zz33JEm6dOmSiRMnpqamJs8880zefPPNXHfddUmSmTNnZq+99sqAAQMybdq0TJs2LQMG\n",
              "DEivXr3y+uuvl8YeMGBAampqMnny5Jxxxhn5/ve/X2o7++yzU1ZWlueffz7PPPNMLr300lLboEGD\n",
              "8uKLL2by5MmZOnVq7r///lx66aX59a9/XTqmefPmef755/PGG28kSRYtWpQ77rgjnTp1qnd9y6th\n",
              "sblz5+ab3/xmttxyy4wZMybrrrtukuTMM88s9f33v/+da665Jscdd1w22mijXHHFFUmSKVOm5Mor\n",
              "r8zNN9+cAw44oN53WV1dnQ022CDXXnttwyYQAAAA1mKrPdioqqrKsGHDsueee2bMmDFJkk033TQ9\n",
              "evTIl770pRUaa4MNNsg666yT5OMnKObNm5eysrIkyXXXXZdevXrlO9/5Tun4I488MnvuuWcp/Pi0\n",
              "2bNnZ5NNNkmSvPfee6mqqsrPfvaz0phbbbVVkuSFF17IvffemxtvvLFUc9u2bfOrX/0qP/3pT+uN\n",
              "+d3vfje33357kuSvf/1rdtlll2y66abLvKZP1rDYW2+9lb333ju77bZbbrzxxjRpsuQ0VVRUpEeP\n",
              "HnnppZeSfPw9X3bZZZkyZUqOPvroXH755aX6F1u0aFEGDBiQPn361HuCBgAAAIpqtQYbU6ZMyYwZ\n",
              "M9K3b98MGTKk3tKN5XnuuefqLZ0488wzS221tbXp0qVLWrRokebNm+ekk05Kkjz99NPZfffdlxhr\n",
              "9913zz/+8Y/S59GjR6eysjLbbLNNfvSjH+Xiiy9OkkybNi2bbrppLr744nzlK19Jz54989BDDyVJ\n",
              "Jk2alO222y6bbbbZEmO/9tprpSc0kuToo4/OyJEjkyS33HJLjjnmmCVqWlYNix1++OH5+te/nksu\n",
              "uWSZ39Hs2bNTXV2dQw45JEnSsmXLXHrppdljjz3Svn37HHbYYUv0Oe+88/L222/nqquuWua4i82f\n",
              "Pz9z5sypt31y2Q8AAACsDVZrsFFVVZWBAwemvLw8/fr1y/Tp0zN16tTP7PfppSi//OUvS21t27bN\n",
              "5MmT8/rrr2f+/PkZO3bsCtW0eBnI9OnTc9ddd6V///6ZN29ePvroo7z00kvZcccd89RTT+Wqq67K\n",
              "4YcfXi+0WJb111+/9HPr1q3TunXr3H///fnHP/6RffbZp8E1LLbffvvld7/7XWbMmLFE31/+8pfp\n",
              "3Llzttxyy7Ru3Tq9e/cutR1xxBHZaKON8sMf/nCJfn/4wx9SVVWV3//+96VlLcszYsSING/evN42\n",
              "YsSIz+wHAAAAa9JqCzYWLFiQUaNGZeTIkWnbtm3at2+f999/v8FPbXyWDTfcMEcccURGjx6dJOna\n",
              "tWueeOKJJY574okn0rVr16WO0adPn3zwwQf517/+lTZt2qRJkyYZMGBAkmSXXXbJNttsk2eeeSa7\n",
              "7LJLXnjhhbz11ltLjL3TTjulWbNm9fYPHjw4gwcPzhFHHLHUZSTLqmGxH/zgBxk6dGh69eqVl19+\n",
              "ud7xZ555Zv75z3/m+eefz1NPPZXrr7++Xnt5eXnKy8vr7XvuuecyZMiQ3HXXXfnyl7+83HoWGz58\n",
              "eGbPnl1vGz58eIP6AgAAwJqy2oKN++67L+3atcurr76a2tra1NbWZsKECRk1alQWLFiwUmO++OKL\n",
              "pb4ffvhh7rnnnnTu3DlJMnTo0IwbN67eC0nvuOOOVFdXl5arfNrkyZPz7rvvpm3btmnRokX69OmT\n",
              "Bx98MEkyffr0TJ8+PR07dsx2222Xb33rWzn++OPz/vvvJ/l4ScywYcPyq1/9aolxDzrooPzwhz/M\n",
              "iSee+JnX9MkaPun000/PKaeckl69epXeo/FJbdq0ydVXX50LL7yw3tMenzZ37twcfPDBueCCC9Kj\n",
              "R4/PrGexioqKNGvWrN5WUVHR4P4AAACwJjRdXQNXVVWVnn5YrGPHjmnVqlXuvvvunHXWWZk/f35m\n",
              "z56d1q1b56ijjiotdVj8jo3FNtpoozz66KN5+OGHc9VVV6W8vDwfffRR+vTpk3POOSdJ0qpVq1RX\n",
              "V+eHP/xhfvKTn6SsrCw77LBDxo8fn5YtW5bGGj16dKqrq1NXV5eysrKMGjUqm2++eZLk+uuvz5Ah\n",
              "QzJs2LA0adIkN9xwQ1q1apUkuf3223POOeekU6dOadKkSaZPn577778/ffv2XeLaKyoqMmzYsGV+\n",
              "N8ur4ZNOO+20NGnSJHvttVfGjRu3RPsBBxyQyy+/PNddd13OOOOMpZ7r2muvzXPPPZebbropN910\n",
              "U722Bx54oMFPcAAAAMDaqKyurq6usYsomkWLFuXss8/OX/7ylzz00EPL/asnrFn9+/dPkhV+9woA\n",
              "AADFtNqe2Pg8a9KkSX7xi180dhkAAADwhbda/yoKAAAAwOok2AAAAAAKS7ABAAAAFJZgAwAAACgs\n",
              "wQYAAABQWIINAAAAoLAEGwAAAEBhCTYAAACAwhJsAAAAAIUl2AAAAAAKS7ABAAAAFJZgAwAAACgs\n",
              "wQYAAABQWIINAAAAoLAEGwAAAEBhCTYAAACAwhJsAAAAAIUl2AAAAAAKS7ABAAAAFJZgAwAAACgs\n",
              "wQYAAABQWIINAAAAoLAEGwAAAEBhCTYAAACAwhJsAAAAAIUl2AAAAAAKS7ABAAAAFJZgAwAAACgs\n",
              "wQYAAABQWIINAAAAoLAEGwAAAEBhNW3sAmBV2nLLLRu7BAAAANagsrq6urrGLgIAAABgZViKAgAA\n",
              "ABSWYAMAAAAoLMEGAAAAUFiCDQAAAKCwBBsAAABAYQk2AAAAgMISbAAAAACFJdjgc2X+/Pk5//zz\n",
              "M3/+/MYuheUwT2s/c1QM5qkYzNPazxwVg3kqBvO09vs8zlFZXV1dXWMXAavKnDlz0rx588yePTvN\n",
              "mjVr7HJYBvO09jNHxWCeisE8rf3MUTGYp2IwT2u/z+MceWIDAAAAKCzBBgAAAFBYgg0AAACgsAQb\n",
              "fK5UVFTkvPPOS0VFRWOXwnKYp7WfOSoG81QM5mntZ46KwTwVg3la+30e58jLQwEAAIDC8sQGAAAA\n",
              "UFiCDQAAAKCwBBsAAABAYQk2KJxTTz01bdu2TVlZWWpqapZ5XFVVVbbbbrtsu+22Oe6447JgwYI1\n",
              "VyQNmqfq6uqsv/76qaysLG3z5s1bs4V+gX3wwQc56KCDsv3226dLly7ZZ5998uKLLy712Pvvvz8d\n",
              "OnTIdtttl/79+2fOnDlruNovrobOU21tbcrLy+v9Pk2bNq0RKv7i+sY3vpHOnTunsrIyPXv2zKRJ\n",
              "k5Z6nPtT42nIHLk3rT1uvfXWlJWV5d57711qu3tT41veHLkvNb62bdtmhx12KH3/Y8aMWepxn4v7\n",
              "Uh0UzPjx4+tmzJhRt/XWW9dNmjRpqcf8+9//rmvZsmXda6+9Vrdo0aK6b33rW3XXXHPNmi30C64h\n",
              "8zRu3Li6Ll26rNG6+P/Nmzev7o9//GPdokWL6urq6uquvvrqur322muJ4+bOnVu3xRZb1E2dOrWu\n",
              "rq6u7nvf+17dD3/4wzVZ6hdaQ+dp+vTpdc2bN1+zxVHPO++8U/p57NixdZ07d17iGPenxtWQOXJv\n",
              "WjtMnz69bvfdd6/r3r173T333LNEu3tT4/usOXJfanzL+9/hi31e7kue2KBw9txzz7Ru3Xq5x/zu\n",
              "d7/LAQcckK222iplZWU58cQTc8cdd6yhCkkaNk80rvXWWy/9+vVLWVlZkqR79+6pra1d4rj//u//\n",
              "zi677JIOHTokSU466SS/T2tQQ+eJxrfxxhuXfp49e3Zpzj7J/alxNWSOaHyLFi3Ksccem6uvvnqZ\n",
              "f47SvalxNWSOKIbPy32paWMXAKvDyy+/nK233rr0uW3btnn55ZcbsSKWZdq0aenatWvKy8szePDg\n",
              "nHTSSY1d0hfWlVdemQMPPHCJ/Uv7fXrttdfy0UcfpWlTt5E1bVnzlCTvvfdedt111yxcuDAHHXRQ\n",
              "fvzjH6e8vHwNV/jFNnDgwIwbNy5J8sADDyzR7v7U+D5rjhL3psZ22WWX5Wtf+1q6deu2zGPcmxpX\n",
              "Q+YocV9aGwwcODB1dXX56le/mksuuSSbb755vfbPy33Jbz3QaLp27ZpXXnklzZs3zyuvvJJ+/fql\n",
              "RYsWOeywwxq7tC+ciy++OC+++GIeeuihxi6F5VjePLVs2TKvvvpqtthii7z99ts5/PDD86tf/Spn\n",
              "nXVWI1T6xXX77bcnSUaOHJlhw4Yt8x/ONJ7PmiP3psb1r3/9K7///e/zyCOPNHYpLEND58h9qfE9\n",
              "8sgjadOmTRYsWJCf/OQnOfrooz+39yVLUfhcatOmTV566aXS59ra2rRp06YRK2JpmjVrlubNmydJ\n",
              "WrdunSOPPDKPPvpoI1f1xXPppZdm7Nix+e///u9ssMEGS7Qv7fepZcuW/h+xNeyz5qmioiJbbLFF\n",
              "kmTTTTfNMccc4/epER199NEZN25c3nrrrXr73Z/WHsuaI/emxvXoo4+mtrY22223Xdq2bZsJEybk\n",
              "+OOPz69//et6x7k3NZ6GzpH7UuNbfH9ZZ511ctpppy31+/+83JcEG3wuHXLIIbnvvvvy+uuvp66u\n",
              "Ltdff32OOOKIxi6LT3nttdeyaNGiJMncuXNz//33Z5dddmnkqr5YLrvsstxxxx35y1/+Um/t+Sft\n",
              "u+++efrpp/Pss88mSa677jq/T2tYQ+bpzTffLL3FfP78+Rk7dqzfpzVo1qxZmTlzZunzvffem802\n",
              "2yybbrppvePcnxpPQ+fIvalxDR06NK+99lpqa2tTW1ub7t2758Ybb8zQoUPrHefe1HgaOkfuS43r\n",
              "vffey6xZs0qf77jjjqV+/5+X+5Jgg8I54YQT0rp167zyyivp27dv2rdvnyQ59thjc9999yVJ2rVr\n",
              "lwsuuCBf+9rX0r59+2y++eY54YQTGrPsL5yGzNPvf//7dOrUKV26dEn37t2zzz77ZPDgwY1Z9hfK\n",
              "K6+8kjPOOCOzZs1K7969U1lZmd122y1Jcu655+b6669Pkmy00Ua5+eabc9BBB6V9+/Z55ZVXcs45\n",
              "5zRm6V8oDZ2nxx57LLvssku6dOmSrl27ZquttsqPf/zjxiz9C2X27Nk56KCDSv+dds011+T+++9P\n",
              "WVmZ+9NaoqFz5N609nJvWvu5L6093njjjfTu3TudO3dOp06dMn78+NJSvM/jfamsrq6urrGLAAAA\n",
              "AFgZntgAAAAACkuwAQAAABSWYAMAYBWqrq7On/70p9LnmTNnpmfPno1YEQB8vgk2AABWwEcffbTc\n",
              "9k8HG1/+8pf9iUMAWI0EGwAAn6GsrCznnXdedt111wwfPjzPPPNMevToka5du2bHHXfMRRddlCSp\n",
              "qanJ9ddfn9GjR6eysjIXXnhhamtr6/2Z3rKyslx88cX56le/mm222Sa33nprqe1vf/tbKisr06lT\n",
              "pxxzzDHp0qVLqqur1/DVAkCxNG3sAgAAiqC8vDwTJ05MksydOzcPPfRQKioqMm/evOyxxx75+te/\n",
              "nu7du+fEE0/MrFmzcsUVVyRJamtrlxiroqIif//73/Pss89m1113zVFHHZVFixbl8MMPz+23357e\n",
              "vXtn3Lhx9UIPAGDpBBsAAA1wzDHHlH6eN29eTjrppNTU1KRJkyaZMWNGampq0r179waNNWDAgCRJ\n",
              "hw4d0rRp07z++ut5++2307Rp0/Tu3TtJ0rt372y77bar/kIA4HNGsAEA0AAbbrhh6ecf/ehHadGi\n",
              "RSZNmpSmTZumf//++eCDDxo81nrrrVf6uby8fJnv7SgrK1v5ggHgC8I7NgAAVtA777yT1q1bp2nT\n",
              "pnnuuefyl7/8pdTWrFmzzJ49e4XH3GGHHbJgwYKMHz8+STJ+/Pi8+OKLq6xmAPi88sQGAMAK+slP\n",
              "fpKjjjoqI0eOzLbbbpu999671HbwwQdn1KhRqaysTP/+/TNw4MAGjVlRUZE777wz3/ve97Jo0aJ0\n",
              "69YtO+ywQ70XjwIASyqrq6ura+wiAAD4+KWkG220UZJk4sSJOeCAAzJt2rRssMEGjVwZAKy9PLEB\n",
              "ALCW+P3vf5/LL788dXV1adq0aUaNGiXUAIDP4IkNAAAAoLC8PBQAAAAoLMEGAAAAUFiCDQAAAKCw\n",
              "BBsAAABAYQk2AAAAgMISbAAAAACFJdgAAAAACkuwAQAAABSWYAMAAAAorP8PedNY02W1sFQAAAAA\n",
              "SUVORK5CYII=\n",
              "\">\n",
              "      </div>\n",
              "      <script type=\"text/javascript\">\n",
              "        (() => {\n",
              "          const chartElement = document.getElementById(\"chart-34ea5609-8130-42b5-890a-2fe1c8b7d1ac\");\n",
              "          async function getCodeForChartHandler(event) {\n",
              "            const chartCodeResponse =  await google.colab.kernel.invokeFunction(\n",
              "                'getCodeForChart', [\"chart-34ea5609-8130-42b5-890a-2fe1c8b7d1ac\"], {});\n",
              "            const responseJson = chartCodeResponse.data['application/json'];\n",
              "            await google.colab.notebook.addCell(responseJson.code, 'code');\n",
              "          }\n",
              "          chartElement.onclick = getCodeForChartHandler;\n",
              "        })();\n",
              "      </script>\n",
              "      <style>\n",
              "        .colab-quickchart-chart-with-code  {\n",
              "            display: block;\n",
              "            float: left;\n",
              "            border: 1px solid transparent;\n",
              "        }\n",
              "\n",
              "        .colab-quickchart-chart-with-code:hover {\n",
              "            cursor: pointer;\n",
              "            border: 1px solid #aaa;\n",
              "        }\n",
              "      </style>"
            ]
          },
          "metadata": {}
        }
      ],
      "source": [
        "df_final.head()"
      ]
    },
    {
      "source": [
        "from matplotlib import pyplot as plt\n",
        "import seaborn as sns\n",
        "figsize = (12, 1.2 * len(_df_3['user_id'].unique()))\n",
        "plt.figure(figsize=figsize)\n",
        "sns.violinplot(_df_3, x='rating', y='user_id', inner='stick', palette='Dark2')\n",
        "sns.despine(top=True, right=True, bottom=True, left=True)"
      ],
      "cell_type": "code",
      "metadata": {
        "colab": {
          "base_uri": "https://localhost:8080/",
          "height": 542
        },
        "id": "k3JYKzRFvv3l",
        "outputId": "3d3456b1-cbef-4991-c569-1f1a45a539c0"
      },
      "execution_count": 54,
      "outputs": [
        {
          "output_type": "display_data",
          "data": {
            "text/plain": [
              "<Figure size 1200x600 with 1 Axes>"
            ],
            "image/png": "[encoded data removed]"
          },
          "metadata": {}
        }
      ]
    },
    {
      "source": [
        "from matplotlib import pyplot as plt\n",
        "_df_2['rating'].plot(kind='line', figsize=(8, 4), title='rating')\n",
        "plt.gca().spines[['top', 'right']].set_visible(False)"
      ],
      "cell_type": "code",
      "metadata": {
        "colab": {
          "base_uri": "https://localhost:8080/",
          "height": 391
        },
        "id": "sfnMYqLFvuDE",
        "outputId": "9d87cbec-cbfa-4de9-dc03-9aa512d8176c"
      },
      "execution_count": 53,
      "outputs": [
        {
          "output_type": "display_data",
          "data": {
            "text/plain": [
              "<Figure size 800x400 with 1 Axes>"
            ],
            "image/png": "[encoded data removed]"
          },
          "metadata": {}
        }
      ]
    },
    {
      "cell_type": "markdown",
      "metadata": {
        "id": "GuPoy_XfxhXZ"
      },
      "source": [
        "## **Exploratory Data Analysis**"
      ]
    },
    {
      "cell_type": "markdown",
      "metadata": {
        "id": "s0d0bWeG-sVB"
      },
      "source": [
        "### **Shape of the data**"
      ]
    },
    {
      "cell_type": "markdown",
      "metadata": {
        "id": "qyBVTRDTyek0"
      },
      "source": [
        "### **Check the number of rows and columns and provide observations.**"
      ]
    },
    {
      "cell_type": "code",
      "execution_count": 113,
      "metadata": {
        "id": "fJ4eQKaY5JtQ",
        "colab": {
          "base_uri": "https://localhost:8080/"
        },
        "outputId": "da286499-4b11-450e-afbf-6f5dc986434e"
      },
      "outputs": [
        {
          "output_type": "stream",
          "name": "stdout",
          "text": [
            "No of rows:  65290\n",
            "No of columns:  3\n"
          ]
        }
      ],
      "source": [
        "rows, columns = df_final.shape\n",
        "print(\"No of rows: \", rows)\n",
        "print(\"No of columns: \", columns)"
      ]
    },
    {
      "cell_type": "markdown",
      "metadata": {
        "id": "Slp-fgWQ-sVD"
      },
      "source": [
        "**Write your observations here:______**"
      ]
    },
    {
      "cell_type": "markdown",
      "metadata": {
        "id": "lAMWm0nC-sVF"
      },
      "source": [
        "### **Data types**"
      ]
    },
    {
      "cell_type": "code",
      "execution_count": 115,
      "metadata": {
        "id": "SVrgMkye5JtQ",
        "colab": {
          "base_uri": "https://localhost:8080/"
        },
        "outputId": "7d0dd1f3-2cfd-4579-f674-9d3ef2ac98e4"
      },
      "outputs": [
        {
          "output_type": "execute_result",
          "data": {
            "text/plain": [
              "user_id     object\n",
              "prod_id     object\n",
              "rating     float64\n",
              "dtype: object"
            ]
          },
          "metadata": {},
          "execution_count": 115
        }
      ],
      "source": [
        "df_final.dtypes"
      ]
    },
    {
      "cell_type": "markdown",
      "metadata": {
        "id": "z4fOE02D-sVF"
      },
      "source": [
        "**Write your observations here:______**"
      ]
    },
    {
      "cell_type": "markdown",
      "metadata": {
        "id": "lTMpOROT-sVG"
      },
      "source": [
        "### **Checking for missing values**"
      ]
    },
    {
      "cell_type": "code",
      "execution_count": 117,
      "metadata": {
        "id": "vt-VEjMA5JtQ",
        "colab": {
          "base_uri": "https://localhost:8080/"
        },
        "outputId": "453bc481-bb4e-4f91-86cf-559178de41dc"
      },
      "outputs": [
        {
          "output_type": "execute_result",
          "data": {
            "text/plain": [
              "user_id    0\n",
              "prod_id    0\n",
              "rating     0\n",
              "dtype: int64"
            ]
          },
          "metadata": {},
          "execution_count": 117
        }
      ],
      "source": [
        "df_final.isnull().sum()"
      ]
    },
    {
      "cell_type": "markdown",
      "metadata": {
        "id": "qMWuBNhI5JtR"
      },
      "source": [
        "**Write your observations here:______**"
      ]
    },
    {
      "cell_type": "markdown",
      "metadata": {
        "id": "wETrCg48-sVG"
      },
      "source": [
        "### **Summary Statistics**"
      ]
    },
    {
      "cell_type": "code",
      "execution_count": 118,
      "metadata": {
        "id": "tYm30MXR5JtR",
        "colab": {
          "base_uri": "https://localhost:8080/"
        },
        "outputId": "c3d017f6-2324-4f86-889d-630a85e04f61"
      },
      "outputs": [
        {
          "output_type": "execute_result",
          "data": {
            "text/plain": [
              "count    65290.000000\n",
              "mean         4.294808\n",
              "std          0.988915\n",
              "min          1.000000\n",
              "25%          4.000000\n",
              "50%          5.000000\n",
              "75%          5.000000\n",
              "max          5.000000\n",
              "Name: rating, dtype: float64"
            ]
          },
          "metadata": {},
          "execution_count": 118
        }
      ],
      "source": [
        "df_final.rating.describe()"
      ]
    },
    {
      "cell_type": "markdown",
      "metadata": {
        "id": "VqW50EIJxhXc"
      },
      "source": [
        "**Write your observations here:______**"
      ]
    },
    {
      "cell_type": "markdown",
      "metadata": {
        "id": "ywyFrZIf5JtR"
      },
      "source": [
        "### **Checking the rating distribution**"
      ]
    },
    {
      "cell_type": "code",
      "execution_count": 119,
      "metadata": {
        "id": "QbqhbEVe-sVH",
        "colab": {
          "base_uri": "https://localhost:8080/",
          "height": 455
        },
        "outputId": "4d39d340-ff4c-41c2-8201-39d63d636fb5"
      },
      "outputs": [
        {
          "output_type": "execute_result",
          "data": {
            "text/plain": [
              "<Axes: >"
            ]
          },
          "metadata": {},
          "execution_count": 119
        },
        {
          "output_type": "display_data",
          "data": {
            "text/plain": [
              "<Figure size 640x480 with 1 Axes>"
            ],
            "image/png": "[encoded data removed]"
          },
          "metadata": {}
        }
      ],
      "source": [
        "df_final.rating.value_counts().plot(kind='bar')\n",
        "\n"
      ]
    },
    {
      "cell_type": "markdown",
      "metadata": {
        "id": "t0jONrQv-sVH"
      },
      "source": [
        "**Write your observations here:________**"
      ]
    },
    {
      "cell_type": "markdown",
      "metadata": {
        "id": "HefpLdLJxhXd"
      },
      "source": [
        "### **Checking the number of unique users and items in the dataset**"
      ]
    },
    {
      "cell_type": "code",
      "execution_count": 58,
      "metadata": {
        "id": "NbSom7195JtR",
        "colab": {
          "base_uri": "https://localhost:8080/"
        },
        "outputId": "6d135a82-8fd3-4d78-9be3-303a77af39a7"
      },
      "outputs": [
        {
          "output_type": "stream",
          "name": "stdout",
          "text": [
            "The number of observations in the final data =  65290\n",
            "Number of unique USERS in Raw data =  <bound method NDFrame._add_numeric_operations.<locals>.sum of 1310       A3LDPF5FMB782Z\n",
            "1322       A1A5KUIIIHFF4U\n",
            "1335       A2XIOXRRYX0KZY\n",
            "1451        AW3LX47IHPFRL\n",
            "1456       A1E3OB6QMBKRYZ\n",
            "                ...      \n",
            "7824423    A34BZM6S9L7QI4\n",
            "7824424    A1G650TTTHEAL5\n",
            "7824425    A25C2M3QF9G7OQ\n",
            "7824426     A1E1LEVQ9VQNK\n",
            "7824427    A2NYK9KWFMJV4Y\n",
            "Name: user_id, Length: 65290, dtype: object>\n",
            "Number of unique ITEMS in Raw data =  <bound method NDFrame._add_numeric_operations.<locals>.sum of 1310       1400501466\n",
            "1322       1400501466\n",
            "1335       1400501466\n",
            "1451       1400501466\n",
            "1456       1400501466\n",
            "              ...    \n",
            "7824423    B00LGQ6HL8\n",
            "7824424    B00LGQ6HL8\n",
            "7824425    B00LGQ6HL8\n",
            "7824426    B00LGQ6HL8\n",
            "7824427    B00LGQ6HL8\n",
            "Name: prod_id, Length: 65290, dtype: object>\n"
          ]
        }
      ],
      "source": [
        "\n",
        "print('The number of observations in the final data = ', len(df_final))\n",
        "print('Number of unique USERS in Raw data = ', df_final['user_id'].sum)\n",
        "print('Number of unique ITEMS in Raw data = ', df_final['prod_id'].sum)"
      ]
    },
    {
      "cell_type": "markdown",
      "metadata": {
        "id": "Qwgz6CUt-sVI"
      },
      "source": [
        "**Write your observations here:_______**"
      ]
    },
    {
      "cell_type": "markdown",
      "metadata": {
        "id": "RfDnhSS4-sVI"
      },
      "source": [
        "### **Users with the most number of ratings**"
      ]
    },
    {
      "cell_type": "code",
      "source": [
        "most_rated = df_final.groupby('user_id').size().sort_values(ascending = False)[:10]\n",
        "most_rated"
      ],
      "metadata": {
        "colab": {
          "base_uri": "https://localhost:8080/"
        },
        "id": "2G1BVj_TjVMH",
        "outputId": "b60090d9-7661-49d9-a07c-ffd6bb911e22"
      },
      "execution_count": 120,
      "outputs": [
        {
          "output_type": "execute_result",
          "data": {
            "text/plain": [
              "user_id\n",
              "ADLVFFE4VBT8      295\n",
              "A3OXHLG6DIBRW8    230\n",
              "A1ODOGXEYECQQ8    217\n",
              "A36K2N527TXXJN    212\n",
              "A25C2M3QF9G7OQ    203\n",
              "A680RUE1FDO8B     196\n",
              "A22CW0ZHY3NJH8    193\n",
              "A1UQBFCERIP7VJ    193\n",
              "AWPODHOB4GFWL     184\n",
              "A3LGT6UZL99IW1    179\n",
              "dtype: int64"
            ]
          },
          "metadata": {},
          "execution_count": 120
        }
      ]
    },
    {
      "cell_type": "code",
      "execution_count": 121,
      "metadata": {
        "id": "n7MX452q5JtR",
        "colab": {
          "base_uri": "https://localhost:8080/"
        },
        "outputId": "ffcab614-c7c9-45fc-a181-b0f147bcd6c6"
      },
      "outputs": [
        {
          "output_type": "execute_result",
          "data": {
            "text/plain": [
              "user_id\n",
              "ADLVFFE4VBT8      295\n",
              "A3OXHLG6DIBRW8    230\n",
              "A1ODOGXEYECQQ8    217\n",
              "A36K2N527TXXJN    212\n",
              "A25C2M3QF9G7OQ    203\n",
              "A680RUE1FDO8B     196\n",
              "A22CW0ZHY3NJH8    193\n",
              "A1UQBFCERIP7VJ    193\n",
              "AWPODHOB4GFWL     184\n",
              "A3LGT6UZL99IW1    179\n",
              "Name: rating, dtype: int64"
            ]
          },
          "metadata": {},
          "execution_count": 121
        }
      ],
      "source": [
        "df_final.groupby('user_id')['rating'].count().sort_values(ascending=False).head(10)"
      ]
    },
    {
      "cell_type": "markdown",
      "metadata": {
        "id": "1X2w_jt9-sVI"
      },
      "source": [
        "**Write your observations here:_______**"
      ]
    },
    {
      "cell_type": "markdown",
      "metadata": {
        "id": "EnYTx-Ol-sVg"
      },
      "source": [
        "**Now that we have explored and prepared the data, let's build the first recommendation system.**"
      ]
    },
    {
      "cell_type": "markdown",
      "metadata": {
        "id": "6xYGrGVy5JtS"
      },
      "source": [
        "## **Model 1: Rank Based Recommendation System**"
      ]
    },
    {
      "cell_type": "code",
      "execution_count": 122,
      "metadata": {
        "id": "yxZTj1UPxhXh",
        "scrolled": true,
        "colab": {
          "base_uri": "https://localhost:8080/",
          "height": 206
        },
        "outputId": "f249225f-b71f-4d6a-cf08-9540c644bd55"
      },
      "outputs": [
        {
          "output_type": "execute_result",
          "data": {
            "text/plain": [
              "     average_rating  count_rating\n",
              "0               5.0           206\n",
              "225             5.0            31\n",
              "233             5.0            31\n",
              "232             5.0            31\n",
              "231             5.0            31"
            ],
            "text/html": [
              "\n",
              "  <div id=\"df-c78bb7d5-923d-4373-b6c4-f9bf330a0797\" class=\"colab-df-container\">\n",
              "    <div>\n",
              "<style scoped>\n",
              "    .dataframe tbody tr th:only-of-type {\n",
              "        vertical-align: middle;\n",
              "    }\n",
              "\n",
              "    .dataframe tbody tr th {\n",
              "        vertical-align: top;\n",
              "    }\n",
              "\n",
              "    .dataframe thead th {\n",
              "        text-align: right;\n",
              "    }\n",
              "</style>\n",
              "<table border=\"1\" class=\"dataframe\">\n",
              "  <thead>\n",
              "    <tr style=\"text-align: right;\">\n",
              "      <th></th>\n",
              "      <th>average_rating</th>\n",
              "      <th>count_rating</th>\n",
              "    </tr>\n",
              "  </thead>\n",
              "  <tbody>\n",
              "    <tr>\n",
              "      <th>0</th>\n",
              "      <td>5.0</td>\n",
              "      <td>206</td>\n",
              "    </tr>\n",
              "    <tr>\n",
              "      <th>225</th>\n",
              "      <td>5.0</td>\n",
              "      <td>31</td>\n",
              "    </tr>\n",
              "    <tr>\n",
              "      <th>233</th>\n",
              "      <td>5.0</td>\n",
              "      <td>31</td>\n",
              "    </tr>\n",
              "    <tr>\n",
              "      <th>232</th>\n",
              "      <td>5.0</td>\n",
              "      <td>31</td>\n",
              "    </tr>\n",
              "    <tr>\n",
              "      <th>231</th>\n",
              "      <td>5.0</td>\n",
              "      <td>31</td>\n",
              "    </tr>\n",
              "  </tbody>\n",
              "</table>\n",
              "</div>\n",
              "    <div class=\"colab-df-buttons\">\n",
              "\n",
              "  <div class=\"colab-df-container\">\n",
              "    <button class=\"colab-df-convert\" onclick=\"convertToInteractive('df-c78bb7d5-923d-4373-b6c4-f9bf330a0797')\"\n",
              "            title=\"Convert this dataframe to an interactive table.\"\n",
              "            style=\"display:none;\">\n",
              "\n",
              "  <svg xmlns=\"http://www.w3.org/2000/svg\" height=\"24px\" viewBox=\"0 -960 960 960\">\n",
              "    <path d=\"M120-120v-720h720v720H120Zm60-500h600v-160H180v160Zm220 220h160v-160H400v160Zm0 220h160v-160H400v160ZM180-400h160v-160H180v160Zm440 0h160v-160H620v160ZM180-180h160v-160H180v160Zm440 0h160v-160H620v160Z\"/>\n",
              "  </svg>\n",
              "    </button>\n",
              "\n",
              "  <style>\n",
              "    .colab-df-container {\n",
              "      display:flex;\n",
              "      gap: 12px;\n",
              "    }\n",
              "\n",
              "    .colab-df-convert {\n",
              "      background-color: #E8F0FE;\n",
              "      border: none;\n",
              "      border-radius: 50%;\n",
              "      cursor: pointer;\n",
              "      display: none;\n",
              "      fill: #1967D2;\n",
              "      height: 32px;\n",
              "      padding: 0 0 0 0;\n",
              "      width: 32px;\n",
              "    }\n",
              "\n",
              "    .colab-df-convert:hover {\n",
              "      background-color: #E2EBFA;\n",
              "      box-shadow: 0px 1px 2px rgba(60, 64, 67, 0.3), 0px 1px 3px 1px rgba(60, 64, 67, 0.15);\n",
              "      fill: #174EA6;\n",
              "    }\n",
              "\n",
              "    .colab-df-buttons div {\n",
              "      margin-bottom: 4px;\n",
              "    }\n",
              "\n",
              "    [theme=dark] .colab-df-convert {\n",
              "      background-color: #3B4455;\n",
              "      fill: #D2E3FC;\n",
              "    }\n",
              "\n",
              "    [theme=dark] .colab-df-convert:hover {\n",
              "      background-color: #434B5C;\n",
              "      box-shadow: 0px 1px 3px 1px rgba(0, 0, 0, 0.15);\n",
              "      filter: drop-shadow(0px 1px 2px rgba(0, 0, 0, 0.3));\n",
              "      fill: #FFFFFF;\n",
              "    }\n",
              "  </style>\n",
              "\n",
              "    <script>\n",
              "      const buttonEl =\n",
              "        document.querySelector('#df-c78bb7d5-923d-4373-b6c4-f9bf330a0797 button.colab-df-convert');\n",
              "      buttonEl.style.display =\n",
              "        google.colab.kernel.accessAllowed ? 'block' : 'none';\n",
              "\n",
              "      async function convertToInteractive(key) {\n",
              "        const element = document.querySelector('#df-c78bb7d5-923d-4373-b6c4-f9bf330a0797');\n",
              "        const dataTable =\n",
              "          await google.colab.kernel.invokeFunction('convertToInteractive',\n",
              "                                                    [key], {});\n",
              "        if (!dataTable) return;\n",
              "\n",
              "        const docLinkHtml = 'Like what you see? Visit the ' +\n",
              "          '<a target=\"_blank\" href=https://colab.research.google.com/notebooks/data_table.ipynb>data table notebook</a>'\n",
              "          + ' to learn more about interactive tables.';\n",
              "        element.innerHTML = '';\n",
              "        dataTable['output_type'] = 'display_data';\n",
              "        await google.colab.output.renderOutput(dataTable, element);\n",
              "        const docLink = document.createElement('div');\n",
              "        docLink.innerHTML = docLinkHtml;\n",
              "        element.appendChild(docLink);\n",
              "      }\n",
              "    </script>\n",
              "  </div>\n",
              "\n",
              "\n",
              "<div id=\"df-87f50a90-28fe-44a4-a80d-5e0fc00f1796\">\n",
              "  <button class=\"colab-df-quickchart\" onclick=\"quickchart('df-87f50a90-28fe-44a4-a80d-5e0fc00f1796')\"\n",
              "            title=\"Suggest charts\"\n",
              "            style=\"display:none;\">\n",
              "\n",
              "<svg xmlns=\"http://www.w3.org/2000/svg\" height=\"24px\"viewBox=\"0 0 24 24\"\n",
              "     width=\"24px\">\n",
              "    <g>\n",
              "        <path d=\"M19 3H5c-1.1 0-2 .9-2 2v14c0 1.1.9 2 2 2h14c1.1 0 2-.9 2-2V5c0-1.1-.9-2-2-2zM9 17H7v-7h2v7zm4 0h-2V7h2v10zm4 0h-2v-4h2v4z\"/>\n",
              "    </g>\n",
              "</svg>\n",
              "  </button>\n",
              "\n",
              "<style>\n",
              "  .colab-df-quickchart {\n",
              "      --bg-color: #E8F0FE;\n",
              "      --fill-color: #1967D2;\n",
              "      --hover-bg-color: #E2EBFA;\n",
              "      --hover-fill-color: #174EA6;\n",
              "      --disabled-fill-color: #AAA;\n",
              "      --disabled-bg-color: #DDD;\n",
              "  }\n",
              "\n",
              "  [theme=dark] .colab-df-quickchart {\n",
              "      --bg-color: #3B4455;\n",
              "      --fill-color: #D2E3FC;\n",
              "      --hover-bg-color: #434B5C;\n",
              "      --hover-fill-color: #FFFFFF;\n",
              "      --disabled-bg-color: #3B4455;\n",
              "      --disabled-fill-color: #666;\n",
              "  }\n",
              "\n",
              "  .colab-df-quickchart {\n",
              "    background-color: var(--bg-color);\n",
              "    border: none;\n",
              "    border-radius: 50%;\n",
              "    cursor: pointer;\n",
              "    display: none;\n",
              "    fill: var(--fill-color);\n",
              "    height: 32px;\n",
              "    padding: 0;\n",
              "    width: 32px;\n",
              "  }\n",
              "\n",
              "  .colab-df-quickchart:hover {\n",
              "    background-color: var(--hover-bg-color);\n",
              "    box-shadow: 0 1px 2px rgba(60, 64, 67, 0.3), 0 1px 3px 1px rgba(60, 64, 67, 0.15);\n",
              "    fill: var(--button-hover-fill-color);\n",
              "  }\n",
              "\n",
              "  .colab-df-quickchart-complete:disabled,\n",
              "  .colab-df-quickchart-complete:disabled:hover {\n",
              "    background-color: var(--disabled-bg-color);\n",
              "    fill: var(--disabled-fill-color);\n",
              "    box-shadow: none;\n",
              "  }\n",
              "\n",
              "  .colab-df-spinner {\n",
              "    border: 2px solid var(--fill-color);\n",
              "    border-color: transparent;\n",
              "    border-bottom-color: var(--fill-color);\n",
              "    animation:\n",
              "      spin 1s steps(1) infinite;\n",
              "  }\n",
              "\n",
              "  @keyframes spin {\n",
              "    0% {\n",
              "      border-color: transparent;\n",
              "      border-bottom-color: var(--fill-color);\n",
              "      border-left-color: var(--fill-color);\n",
              "    }\n",
              "    20% {\n",
              "      border-color: transparent;\n",
              "      border-left-color: var(--fill-color);\n",
              "      border-top-color: var(--fill-color);\n",
              "    }\n",
              "    30% {\n",
              "      border-color: transparent;\n",
              "      border-left-color: var(--fill-color);\n",
              "      border-top-color: var(--fill-color);\n",
              "      border-right-color: var(--fill-color);\n",
              "    }\n",
              "    40% {\n",
              "      border-color: transparent;\n",
              "      border-right-color: var(--fill-color);\n",
              "      border-top-color: var(--fill-color);\n",
              "    }\n",
              "    60% {\n",
              "      border-color: transparent;\n",
              "      border-right-color: var(--fill-color);\n",
              "    }\n",
              "    80% {\n",
              "      border-color: transparent;\n",
              "      border-right-color: var(--fill-color);\n",
              "      border-bottom-color: var(--fill-color);\n",
              "    }\n",
              "    90% {\n",
              "      border-color: transparent;\n",
              "      border-bottom-color: var(--fill-color);\n",
              "    }\n",
              "  }\n",
              "</style>\n",
              "\n",
              "  <script>\n",
              "    async function quickchart(key) {\n",
              "      const quickchartButtonEl =\n",
              "        document.querySelector('#' + key + ' button');\n",
              "      quickchartButtonEl.disabled = true;  // To prevent multiple clicks.\n",
              "      quickchartButtonEl.classList.add('colab-df-spinner');\n",
              "      try {\n",
              "        const charts = await google.colab.kernel.invokeFunction(\n",
              "            'suggestCharts', [key], {});\n",
              "      } catch (error) {\n",
              "        console.error('Error during call to suggestCharts:', error);\n",
              "      }\n",
              "      quickchartButtonEl.classList.remove('colab-df-spinner');\n",
              "      quickchartButtonEl.classList.add('colab-df-quickchart-complete');\n",
              "    }\n",
              "    (() => {\n",
              "      let quickchartButtonEl =\n",
              "        document.querySelector('#df-87f50a90-28fe-44a4-a80d-5e0fc00f1796 button');\n",
              "      quickchartButtonEl.style.display =\n",
              "        google.colab.kernel.accessAllowed ? 'block' : 'none';\n",
              "    })();\n",
              "  </script>\n",
              "</div>\n",
              "\n",
              "    </div>\n",
              "  </div>\n"
            ]
          },
          "metadata": {},
          "execution_count": 122
        }
      ],
      "source": [
        "average_rating = df_final.groupby('prod_id')['rating'].mean().sort_values(ascending=False)\n",
        "count_rating = df_final.groupby('prod_id')['rating'].count().sort_values(ascending=False)\n",
        "final_rating = pd.DataFrame(list(zip(average_rating, count_rating)), columns=['average_rating', 'count_rating'])\n",
        "final_rating = final_rating.sort_values('average_rating', ascending=False)\n",
        "\n",
        "final_rating.head()"
      ]
    },
    {
      "cell_type": "code",
      "execution_count": 62,
      "metadata": {
        "id": "zKU__5s1xhXi"
      },
      "outputs": [],
      "source": [
        "\n",
        "def top_n_products(final_rating, n, min_interaction):\n",
        "\n",
        "    recommendations = final_rating[final_rating['count_rating'] >= min_interaction]\n",
        "\n",
        "\n",
        "    recommendations = recommendations.sort_values('average_rating', ascending=False)\n",
        "\n",
        "    return recommendations.index[:n]"
      ]
    },
    {
      "cell_type": "markdown",
      "metadata": {
        "id": "F8l6373PxhXi"
      },
      "source": [
        "### **Recommending top 5 products with 50 minimum interactions based on popularity**"
      ]
    },
    {
      "cell_type": "code",
      "execution_count": 63,
      "metadata": {
        "id": "dBxdLiM_xhXi",
        "colab": {
          "base_uri": "https://localhost:8080/"
        },
        "outputId": "ab988dfc-8f48-4811-ac69-a278f8bb4f46"
      },
      "outputs": [
        {
          "output_type": "stream",
          "name": "stdout",
          "text": [
            "Top 5 products based on popularity:\n",
            " Int64Index([0, 8, 20, 19, 3], dtype='int64')\n"
          ]
        }
      ],
      "source": [
        "top_5_products = top_n_products(final_rating, 5, 50)\n",
        "print(\"Top 5 products based on popularity:\\n\", top_5_products)\n"
      ]
    },
    {
      "cell_type": "markdown",
      "metadata": {
        "id": "l9_xW_UMxhXj"
      },
      "source": [
        "### **Recommending top 5 products with 100 minimum interactions based on popularity**"
      ]
    },
    {
      "cell_type": "code",
      "execution_count": 64,
      "metadata": {
        "id": "dZgGZCUoxhXj",
        "colab": {
          "base_uri": "https://localhost:8080/"
        },
        "outputId": "9c32b4a4-14a8-4182-e154-d23d94170302"
      },
      "outputs": [
        {
          "output_type": "stream",
          "name": "stdout",
          "text": [
            "Top 5 products based on popularity:\n",
            " Int64Index([0, 1, 11, 15, 14], dtype='int64')\n"
          ]
        }
      ],
      "source": [
        "top_5_products = top_n_products(final_rating, 5, 100)\n",
        "print(\"Top 5 products based on popularity:\\n\", top_5_products)\n"
      ]
    },
    {
      "cell_type": "markdown",
      "metadata": {
        "id": "BL-m68a15JtT",
        "outputId": "69132b0f-8d3f-4798-f6a0-249e17a3c822"
      },
      "source": [
        "We have recommended the **top 5** products by using the popularity recommendation system. Now, let's build a recommendation system using **collaborative filtering.**"
      ]
    },
    {
      "cell_type": "markdown",
      "metadata": {
        "id": "sJI5kiiGvOOK"
      },
      "source": [
        "## **Model 2: Collaborative Filtering Recommendation System**"
      ]
    },
    {
      "cell_type": "markdown",
      "metadata": {
        "id": "skzc0N1_nVNB"
      },
      "source": [
        "### **Building a baseline user-user similarity based recommendation system**"
      ]
    },
    {
      "cell_type": "markdown",
      "metadata": {
        "id": "d4Uo_MYMnVNB"
      },
      "source": [
        "- Below, we are building **similarity-based recommendation systems** using `cosine` similarity and using **KNN to find similar users** which are the nearest neighbor to the given user.  \n",
        "- We will be using a new library, called `surprise`, to build the remaining models. Let's first import the necessary classes and functions from this library."
      ]
    },
    {
      "cell_type": "code",
      "execution_count": 123,
      "metadata": {
        "id": "UJ1wEylUpexj"
      },
      "outputs": [],
      "source": [
        "from surprise import accuracy\n",
        "\n",
        "from surprise.reader import Reader\n",
        "\n",
        "from surprise.dataset import Dataset\n",
        "\n",
        "from surprise.model_selection import GridSearchCV\n",
        "\n",
        "from surprise.model_selection import train_test_split\n",
        "\n",
        "from surprise.prediction_algorithms.knns import KNNBasic\n",
        "\n",
        "from surprise.prediction_algorithms.matrix_factorization import SVD\n",
        "\n",
        "from surprise.model_selection import KFold\n",
        "\n",
        "from surprise import CoClustering"
      ]
    },
    {
      "cell_type": "markdown",
      "metadata": {
        "id": "54MqVAtDTsnl"
      },
      "source": [
        "**Before building the recommendation systems, let's  go over some basic terminologies we are going to use:**"
      ]
    },
    {
      "cell_type": "markdown",
      "metadata": {
        "id": "Qsxb3xhnTsnl"
      },
      "source": [
        "**Relevant item:** An item (product in this case) that is actually **rated higher than the threshold rating** is relevant, if the **actual rating is below the threshold then it is a non-relevant item**.  \n",
        "\n",
        "**Recommended item:** An item that's **predicted rating is higher than the threshold is a recommended item**, if the **predicted rating is below the threshold then that product will not be recommended to the user**.  \n"
      ]
    },
    {
      "cell_type": "markdown",
      "metadata": {
        "id": "moyLUHCuTsnl"
      },
      "source": [
        "**False Negative (FN):** It is the **frequency of relevant items that are not recommended to the user**. If the relevant items are not recommended to the user, then the user might not buy the product/item. This would result in the **loss of opportunity for the service provider**, which they would like to minimize.\n",
        "\n",
        "**False Positive (FP):** It is the **frequency of recommended items that are actually not relevant**. In this case, the recommendation system is not doing a good job of finding and recommending the relevant items to the user. This would result in **loss of resources for the service provider**, which they would also like to minimize."
      ]
    },
    {
      "cell_type": "markdown",
      "metadata": {
        "id": "Yuvc2VaZTsnl"
      },
      "source": [
        "**Recall:** It is the **fraction of actually relevant items that are recommended to the user**, i.e., if out of 10 relevant products, 6 are recommended to the user then recall is 0.60. Higher the value of recall better is the model. It is one of the metrics to do the performance assessment of classification models.\n",
        "\n",
        "**Precision:** It is the **fraction of recommended items that are relevant actually**, i.e., if out of 10 recommended items, 6 are found relevant by the user then precision is 0.60. The higher the value of precision better is the model. It is one of the metrics to do the performance assessment of classification models."
      ]
    },
    {
      "cell_type": "markdown",
      "metadata": {
        "id": "8NLc36Y8Tsnm"
      },
      "source": [
        "**While making a recommendation system, it becomes customary to look at the performance of the model. In terms of how many recommendations are relevant and vice-versa, below are some most used performance metrics used in the assessment of recommendation systems.**"
      ]
    },
    {
      "cell_type": "markdown",
      "metadata": {
        "id": "cqF8fRBqTsnm"
      },
      "source": [
        "### **Precision@k, Recall@ k, and F1-score@k**"
      ]
    },
    {
      "cell_type": "markdown",
      "metadata": {
        "id": "imMJNF0HTsnm"
      },
      "source": [
        "**Precision@k** - It is the **fraction of recommended items that are relevant in `top k` predictions**. The value of k is the number of recommendations to be provided to the user. One can choose a variable number of recommendations to be given to a unique user.  \n",
        "\n",
        "\n",
        "**Recall@k** - It is the **fraction of relevant items that are recommended to the user in `top k` predictions**.\n",
        "\n",
        "**F1-score@k** - It is the **harmonic mean of Precision@k and Recall@k**. When **precision@k and recall@k both seem to be important** then it is useful to use this metric because it is representative of both of them."
      ]
    },
    {
      "cell_type": "markdown",
      "metadata": {
        "id": "jBW4BUhWTsnm"
      },
      "source": [
        "### **Some useful functions**"
      ]
    },
    {
      "cell_type": "markdown",
      "metadata": {
        "id": "QOBHKh0eTsnm"
      },
      "source": [
        "- Below function takes the **recommendation model** as input and gives the **precision@k, recall@k, and F1-score@k** for that model.  \n",
        "- To compute **precision and recall**, **top k** predictions are taken under consideration for each user.\n",
        "- We will use the precision and recall to compute the F1-score."
      ]
    },
    {
      "cell_type": "code",
      "execution_count": 124,
      "metadata": {
        "id": "Rxn-GahOTsnm"
      },
      "outputs": [],
      "source": [
        "def precision_recall_at_k(model, k = 10, threshold = 3.5):\n",
        "    \"\"\"Return precision and recall at k metrics for each user\"\"\"\n",
        "\n",
        "    user_est_true = defaultdict(list)\n",
        "\n",
        "    predictions = model.test(testset)\n",
        "\n",
        "    for uid, _, true_r, est, _ in predictions:\n",
        "        user_est_true[uid].append((est, true_r))\n",
        "\n",
        "    precisions = dict()\n",
        "    recalls = dict()\n",
        "    for uid, user_ratings in user_est_true.items():\n",
        "\n",
        "        user_ratings.sort(key = lambda x: x[0], reverse = True)\n",
        "\n",
        "        n_rel = sum((true_r >= threshold) for (_, true_r) in user_ratings)\n",
        "\n",
        "        n_rec_k = sum((est >= threshold) for (est, _) in user_ratings[:k])\n",
        "\n",
        "        n_rel_and_rec_k = sum(((true_r >= threshold) and (est >= threshold))\n",
        "                              for (est, true_r) in user_ratings[:k])\n",
        "\n",
        "\n",
        "        precisions[uid] = n_rel_and_rec_k / n_rec_k if n_rec_k != 0 else 0\n",
        "\n",
        "\n",
        "\n",
        "        recalls[uid] = n_rel_and_rec_k / n_rel if n_rel != 0 else 0\n",
        "\n",
        "    precision = round((sum(prec for prec in precisions.values()) / len(precisions)), 3)\n",
        "\n",
        "    recall = round((sum(rec for rec in recalls.values()) / len(recalls)), 3)\n",
        "\n",
        "    accuracy.rmse(predictions)\n",
        "\n",
        "    print('Precision: ', precision)\n",
        "\n",
        "    print('Recall: ', recall)\n",
        "\n",
        "    print('F_1 score: ', round((2*precision*recall)/(precision+recall), 3)) # Formula to compute the F-1 score"
      ]
    },
    {
      "cell_type": "markdown",
      "metadata": {
        "id": "_ZmsamDVyek-"
      },
      "source": [
        "**Hints:**\n",
        "\n",
        "- To compute **precision and recall**, a **threshold of 3.5 and k value of 10 can be considered for the recommended and relevant ratings**.\n",
        "- Think about the performance metric to choose."
      ]
    },
    {
      "cell_type": "markdown",
      "metadata": {
        "id": "8hxjJMTwnVNB"
      },
      "source": [
        "Below we are loading the **`rating` dataset**, which is a **pandas DataFrame**, into a **different format called `surprise.dataset.DatasetAutoFolds`**, which is required by this library. To do this, we will be **using the classes `Reader` and `Dataset`.**"
      ]
    },
    {
      "cell_type": "code",
      "source": [
        "df_final.head()"
      ],
      "metadata": {
        "colab": {
          "base_uri": "https://localhost:8080/",
          "height": 206
        },
        "id": "tM83Gn1Fk-4C",
        "outputId": "4240eb51-d87d-4d2d-a681-12d2da1631e9"
      },
      "execution_count": 125,
      "outputs": [
        {
          "output_type": "execute_result",
          "data": {
            "text/plain": [
              "             user_id     prod_id  rating\n",
              "1310  A3LDPF5FMB782Z  1400501466     5.0\n",
              "1322  A1A5KUIIIHFF4U  1400501466     1.0\n",
              "1335  A2XIOXRRYX0KZY  1400501466     3.0\n",
              "1451   AW3LX47IHPFRL  1400501466     5.0\n",
              "1456  A1E3OB6QMBKRYZ  1400501466     1.0"
            ],
            "text/html": [
              "\n",
              "  <div id=\"df-2f0f831f-931d-4614-ade6-fdfe6178aa96\" class=\"colab-df-container\">\n",
              "    <div>\n",
              "<style scoped>\n",
              "    .dataframe tbody tr th:only-of-type {\n",
              "        vertical-align: middle;\n",
              "    }\n",
              "\n",
              "    .dataframe tbody tr th {\n",
              "        vertical-align: top;\n",
              "    }\n",
              "\n",
              "    .dataframe thead th {\n",
              "        text-align: right;\n",
              "    }\n",
              "</style>\n",
              "<table border=\"1\" class=\"dataframe\">\n",
              "  <thead>\n",
              "    <tr style=\"text-align: right;\">\n",
              "      <th></th>\n",
              "      <th>user_id</th>\n",
              "      <th>prod_id</th>\n",
              "      <th>rating</th>\n",
              "    </tr>\n",
              "  </thead>\n",
              "  <tbody>\n",
              "    <tr>\n",
              "      <th>1310</th>\n",
              "      <td>A3LDPF5FMB782Z</td>\n",
              "      <td>1400501466</td>\n",
              "      <td>5.0</td>\n",
              "    </tr>\n",
              "    <tr>\n",
              "      <th>1322</th>\n",
              "      <td>A1A5KUIIIHFF4U</td>\n",
              "      <td>1400501466</td>\n",
              "      <td>1.0</td>\n",
              "    </tr>\n",
              "    <tr>\n",
              "      <th>1335</th>\n",
              "      <td>A2XIOXRRYX0KZY</td>\n",
              "      <td>1400501466</td>\n",
              "      <td>3.0</td>\n",
              "    </tr>\n",
              "    <tr>\n",
              "      <th>1451</th>\n",
              "      <td>AW3LX47IHPFRL</td>\n",
              "      <td>1400501466</td>\n",
              "      <td>5.0</td>\n",
              "    </tr>\n",
              "    <tr>\n",
              "      <th>1456</th>\n",
              "      <td>A1E3OB6QMBKRYZ</td>\n",
              "      <td>1400501466</td>\n",
              "      <td>1.0</td>\n",
              "    </tr>\n",
              "  </tbody>\n",
              "</table>\n",
              "</div>\n",
              "    <div class=\"colab-df-buttons\">\n",
              "\n",
              "  <div class=\"colab-df-container\">\n",
              "    <button class=\"colab-df-convert\" onclick=\"convertToInteractive('df-2f0f831f-931d-4614-ade6-fdfe6178aa96')\"\n",
              "            title=\"Convert this dataframe to an interactive table.\"\n",
              "            style=\"display:none;\">\n",
              "\n",
              "  <svg xmlns=\"http://www.w3.org/2000/svg\" height=\"24px\" viewBox=\"0 -960 960 960\">\n",
              "    <path d=\"M120-120v-720h720v720H120Zm60-500h600v-160H180v160Zm220 220h160v-160H400v160Zm0 220h160v-160H400v160ZM180-400h160v-160H180v160Zm440 0h160v-160H620v160ZM180-180h160v-160H180v160Zm440 0h160v-160H620v160Z\"/>\n",
              "  </svg>\n",
              "    </button>\n",
              "\n",
              "  <style>\n",
              "    .colab-df-container {\n",
              "      display:flex;\n",
              "      gap: 12px;\n",
              "    }\n",
              "\n",
              "    .colab-df-convert {\n",
              "      background-color: #E8F0FE;\n",
              "      border: none;\n",
              "      border-radius: 50%;\n",
              "      cursor: pointer;\n",
              "      display: none;\n",
              "      fill: #1967D2;\n",
              "      height: 32px;\n",
              "      padding: 0 0 0 0;\n",
              "      width: 32px;\n",
              "    }\n",
              "\n",
              "    .colab-df-convert:hover {\n",
              "      background-color: #E2EBFA;\n",
              "      box-shadow: 0px 1px 2px rgba(60, 64, 67, 0.3), 0px 1px 3px 1px rgba(60, 64, 67, 0.15);\n",
              "      fill: #174EA6;\n",
              "    }\n",
              "\n",
              "    .colab-df-buttons div {\n",
              "      margin-bottom: 4px;\n",
              "    }\n",
              "\n",
              "    [theme=dark] .colab-df-convert {\n",
              "      background-color: #3B4455;\n",
              "      fill: #D2E3FC;\n",
              "    }\n",
              "\n",
              "    [theme=dark] .colab-df-convert:hover {\n",
              "      background-color: #434B5C;\n",
              "      box-shadow: 0px 1px 3px 1px rgba(0, 0, 0, 0.15);\n",
              "      filter: drop-shadow(0px 1px 2px rgba(0, 0, 0, 0.3));\n",
              "      fill: #FFFFFF;\n",
              "    }\n",
              "  </style>\n",
              "\n",
              "    <script>\n",
              "      const buttonEl =\n",
              "        document.querySelector('#df-2f0f831f-931d-4614-ade6-fdfe6178aa96 button.colab-df-convert');\n",
              "      buttonEl.style.display =\n",
              "        google.colab.kernel.accessAllowed ? 'block' : 'none';\n",
              "\n",
              "      async function convertToInteractive(key) {\n",
              "        const element = document.querySelector('#df-2f0f831f-931d-4614-ade6-fdfe6178aa96');\n",
              "        const dataTable =\n",
              "          await google.colab.kernel.invokeFunction('convertToInteractive',\n",
              "                                                    [key], {});\n",
              "        if (!dataTable) return;\n",
              "\n",
              "        const docLinkHtml = 'Like what you see? Visit the ' +\n",
              "          '<a target=\"_blank\" href=https://colab.research.google.com/notebooks/data_table.ipynb>data table notebook</a>'\n",
              "          + ' to learn more about interactive tables.';\n",
              "        element.innerHTML = '';\n",
              "        dataTable['output_type'] = 'display_data';\n",
              "        await google.colab.output.renderOutput(dataTable, element);\n",
              "        const docLink = document.createElement('div');\n",
              "        docLink.innerHTML = docLinkHtml;\n",
              "        element.appendChild(docLink);\n",
              "      }\n",
              "    </script>\n",
              "  </div>\n",
              "\n",
              "\n",
              "<div id=\"df-5c12f45b-0530-460d-a6b3-45440c1d2a1c\">\n",
              "  <button class=\"colab-df-quickchart\" onclick=\"quickchart('df-5c12f45b-0530-460d-a6b3-45440c1d2a1c')\"\n",
              "            title=\"Suggest charts\"\n",
              "            style=\"display:none;\">\n",
              "\n",
              "<svg xmlns=\"http://www.w3.org/2000/svg\" height=\"24px\"viewBox=\"0 0 24 24\"\n",
              "     width=\"24px\">\n",
              "    <g>\n",
              "        <path d=\"M19 3H5c-1.1 0-2 .9-2 2v14c0 1.1.9 2 2 2h14c1.1 0 2-.9 2-2V5c0-1.1-.9-2-2-2zM9 17H7v-7h2v7zm4 0h-2V7h2v10zm4 0h-2v-4h2v4z\"/>\n",
              "    </g>\n",
              "</svg>\n",
              "  </button>\n",
              "\n",
              "<style>\n",
              "  .colab-df-quickchart {\n",
              "      --bg-color: #E8F0FE;\n",
              "      --fill-color: #1967D2;\n",
              "      --hover-bg-color: #E2EBFA;\n",
              "      --hover-fill-color: #174EA6;\n",
              "      --disabled-fill-color: #AAA;\n",
              "      --disabled-bg-color: #DDD;\n",
              "  }\n",
              "\n",
              "  [theme=dark] .colab-df-quickchart {\n",
              "      --bg-color: #3B4455;\n",
              "      --fill-color: #D2E3FC;\n",
              "      --hover-bg-color: #434B5C;\n",
              "      --hover-fill-color: #FFFFFF;\n",
              "      --disabled-bg-color: #3B4455;\n",
              "      --disabled-fill-color: #666;\n",
              "  }\n",
              "\n",
              "  .colab-df-quickchart {\n",
              "    background-color: var(--bg-color);\n",
              "    border: none;\n",
              "    border-radius: 50%;\n",
              "    cursor: pointer;\n",
              "    display: none;\n",
              "    fill: var(--fill-color);\n",
              "    height: 32px;\n",
              "    padding: 0;\n",
              "    width: 32px;\n",
              "  }\n",
              "\n",
              "  .colab-df-quickchart:hover {\n",
              "    background-color: var(--hover-bg-color);\n",
              "    box-shadow: 0 1px 2px rgba(60, 64, 67, 0.3), 0 1px 3px 1px rgba(60, 64, 67, 0.15);\n",
              "    fill: var(--button-hover-fill-color);\n",
              "  }\n",
              "\n",
              "  .colab-df-quickchart-complete:disabled,\n",
              "  .colab-df-quickchart-complete:disabled:hover {\n",
              "    background-color: var(--disabled-bg-color);\n",
              "    fill: var(--disabled-fill-color);\n",
              "    box-shadow: none;\n",
              "  }\n",
              "\n",
              "  .colab-df-spinner {\n",
              "    border: 2px solid var(--fill-color);\n",
              "    border-color: transparent;\n",
              "    border-bottom-color: var(--fill-color);\n",
              "    animation:\n",
              "      spin 1s steps(1) infinite;\n",
              "  }\n",
              "\n",
              "  @keyframes spin {\n",
              "    0% {\n",
              "      border-color: transparent;\n",
              "      border-bottom-color: var(--fill-color);\n",
              "      border-left-color: var(--fill-color);\n",
              "    }\n",
              "    20% {\n",
              "      border-color: transparent;\n",
              "      border-left-color: var(--fill-color);\n",
              "      border-top-color: var(--fill-color);\n",
              "    }\n",
              "    30% {\n",
              "      border-color: transparent;\n",
              "      border-left-color: var(--fill-color);\n",
              "      border-top-color: var(--fill-color);\n",
              "      border-right-color: var(--fill-color);\n",
              "    }\n",
              "    40% {\n",
              "      border-color: transparent;\n",
              "      border-right-color: var(--fill-color);\n",
              "      border-top-color: var(--fill-color);\n",
              "    }\n",
              "    60% {\n",
              "      border-color: transparent;\n",
              "      border-right-color: var(--fill-color);\n",
              "    }\n",
              "    80% {\n",
              "      border-color: transparent;\n",
              "      border-right-color: var(--fill-color);\n",
              "      border-bottom-color: var(--fill-color);\n",
              "    }\n",
              "    90% {\n",
              "      border-color: transparent;\n",
              "      border-bottom-color: var(--fill-color);\n",
              "    }\n",
              "  }\n",
              "</style>\n",
              "\n",
              "  <script>\n",
              "    async function quickchart(key) {\n",
              "      const quickchartButtonEl =\n",
              "        document.querySelector('#' + key + ' button');\n",
              "      quickchartButtonEl.disabled = true;  // To prevent multiple clicks.\n",
              "      quickchartButtonEl.classList.add('colab-df-spinner');\n",
              "      try {\n",
              "        const charts = await google.colab.kernel.invokeFunction(\n",
              "            'suggestCharts', [key], {});\n",
              "      } catch (error) {\n",
              "        console.error('Error during call to suggestCharts:', error);\n",
              "      }\n",
              "      quickchartButtonEl.classList.remove('colab-df-spinner');\n",
              "      quickchartButtonEl.classList.add('colab-df-quickchart-complete');\n",
              "    }\n",
              "    (() => {\n",
              "      let quickchartButtonEl =\n",
              "        document.querySelector('#df-5c12f45b-0530-460d-a6b3-45440c1d2a1c button');\n",
              "      quickchartButtonEl.style.display =\n",
              "        google.colab.kernel.accessAllowed ? 'block' : 'none';\n",
              "    })();\n",
              "  </script>\n",
              "</div>\n",
              "\n",
              "    </div>\n",
              "  </div>\n"
            ]
          },
          "metadata": {},
          "execution_count": 125
        }
      ]
    },
    {
      "cell_type": "code",
      "execution_count": 126,
      "metadata": {
        "id": "rGfYDiOCpe4X"
      },
      "outputs": [],
      "source": [
        "reader = Reader(rating_scale = (0, 5))\n",
        "\n",
        "data = Dataset.load_from_df(df_final[['user_id', 'prod_id', 'rating']], reader)\n",
        "\n",
        "trainset, testset = train_test_split(data, test_size = 0.2, random_state = 42)"
      ]
    },
    {
      "cell_type": "markdown",
      "metadata": {
        "id": "DmHTEt7TnVNC"
      },
      "source": [
        "Now, we are **ready to build the first baseline similarity-based recommendation system** using the cosine similarity."
      ]
    },
    {
      "cell_type": "markdown",
      "metadata": {
        "id": "SVDfVHB4tQfU"
      },
      "source": [
        "### **Building the user-user Similarity-based Recommendation System**"
      ]
    },
    {
      "cell_type": "code",
      "execution_count": 127,
      "metadata": {
        "id": "vO3FL7iape8A",
        "scrolled": false,
        "colab": {
          "base_uri": "https://localhost:8080/"
        },
        "outputId": "a70401c7-e4ca-44cf-b783-90bb9d92bf34"
      },
      "outputs": [
        {
          "output_type": "stream",
          "name": "stdout",
          "text": [
            "RMSE: 1.0183\n",
            "Precision:  0.856\n",
            "Recall:  0.854\n",
            "F_1 score:  0.855\n"
          ]
        }
      ],
      "source": [
        "sim_options = {'name': 'cosine',\n",
        "               'user_based': True}\n",
        "\n",
        "sim_user_user = KNNBasic(k = 5, min_k = 1, sim_options = sim_options, verbose = False, random_state = 1)\n",
        "\n",
        "sim_user_user.fit(trainset)\n",
        "\n",
        "precision_recall_at_k(sim_user_user, k = 10, threshold = 3.5)"
      ]
    },
    {
      "cell_type": "markdown",
      "metadata": {
        "id": "nEuJK_A9Tsnn"
      },
      "source": [
        "**Write your observations here:__________**"
      ]
    },
    {
      "cell_type": "markdown",
      "metadata": {
        "id": "reFD0-nsnVNC"
      },
      "source": [
        "Let's now **predict rating for a user with `userId=A3LDPF5FMB782Z` and `productId=1400501466`** as shown below. Here the user has already interacted or watched the product with productId '1400501466' and given a rating of 5."
      ]
    },
    {
      "cell_type": "code",
      "execution_count": 128,
      "metadata": {
        "id": "Sxd23bZ9pe_x",
        "colab": {
          "base_uri": "https://localhost:8080/"
        },
        "outputId": "4c02fefc-9863-400d-da27-6fd0badca816"
      },
      "outputs": [
        {
          "output_type": "stream",
          "name": "stdout",
          "text": [
            "user: A3LDPF5FMB782Z item: 1400501466 r_ui = 5.00   est = 3.40   {'actual_k': 5, 'was_impossible': False}\n"
          ]
        },
        {
          "output_type": "execute_result",
          "data": {
            "text/plain": [
              "Prediction(uid='A3LDPF5FMB782Z', iid='1400501466', r_ui=5, est=3.4, details={'actual_k': 5, 'was_impossible': False})"
            ]
          },
          "metadata": {},
          "execution_count": 128
        }
      ],
      "source": [
        "sim_user_user.predict(\"A3LDPF5FMB782Z\", \"1400501466\", r_ui = 5, verbose = True)\n"
      ]
    },
    {
      "cell_type": "markdown",
      "metadata": {
        "id": "ENJcqG_wemRH"
      },
      "source": [
        "**Write your observations here:__________**"
      ]
    },
    {
      "cell_type": "markdown",
      "metadata": {
        "id": "cj6ecbglTsno"
      },
      "source": [
        "Below is the function to find the **list of users who have not seen the product with product id \"1400501466\"**."
      ]
    },
    {
      "cell_type": "code",
      "execution_count": 129,
      "metadata": {
        "id": "C-U6v3hqhYaO"
      },
      "outputs": [],
      "source": [
        "def n_users_not_interacted_with(n, data, prod_id):\n",
        "    users_interacted_with_product = set(data[data['prod_id'] == prod_id]['user_id'])\n",
        "    all_users = set(data['user_id'])\n",
        "    return list(all_users.difference(users_interacted_with_product))[:n]"
      ]
    },
    {
      "cell_type": "code",
      "execution_count": 130,
      "metadata": {
        "id": "xCRBMD-RTsno",
        "colab": {
          "base_uri": "https://localhost:8080/"
        },
        "outputId": "4b49c662-0e8c-4220-d547-9ecd21001c32"
      },
      "outputs": [
        {
          "output_type": "execute_result",
          "data": {
            "text/plain": [
              "['A34BZM6S9L7QI4',\n",
              " 'AFM2J3HJNPIHV',\n",
              " 'A2WB7LZ595CR50',\n",
              " 'ABQWMANK4AR63',\n",
              " 'ATFBVUXDIRXT6']"
            ]
          },
          "metadata": {},
          "execution_count": 130
        }
      ],
      "source": [
        "n_users_not_interacted_with(5, df_final, '1400501466')"
      ]
    },
    {
      "cell_type": "markdown",
      "metadata": {
        "id": "KT42ecaSTsno"
      },
      "source": [
        "* It can be observed from the above list that **user \"A2UOHALGF2X77Q\" has not seen the product with productId \"1400501466\"** as this user id is a part of the above list."
      ]
    },
    {
      "cell_type": "markdown",
      "metadata": {
        "id": "EXSgq8OEnVNE"
      },
      "source": [
        "**Below we are predicting rating for `userId=A2UOHALGF2X77Q` and `prod_id=1400501466`.**"
      ]
    },
    {
      "cell_type": "code",
      "execution_count": 131,
      "metadata": {
        "id": "PbFcBj1PpfEV",
        "colab": {
          "base_uri": "https://localhost:8080/"
        },
        "outputId": "dd26e783-461c-4419-c95a-2e9266867bb6"
      },
      "outputs": [
        {
          "output_type": "stream",
          "name": "stdout",
          "text": [
            "user: A2UOHALGF2X77Q item: 1400501466 r_ui = 5.00   est = 5.00   {'actual_k': 1, 'was_impossible': False}\n"
          ]
        },
        {
          "output_type": "execute_result",
          "data": {
            "text/plain": [
              "Prediction(uid='A2UOHALGF2X77Q', iid='1400501466', r_ui=5, est=5, details={'actual_k': 1, 'was_impossible': False})"
            ]
          },
          "metadata": {},
          "execution_count": 131
        }
      ],
      "source": [
        "sim_user_user.predict(\"A2UOHALGF2X77Q\", \"1400501466\", r_ui = 5, verbose = True)\n"
      ]
    },
    {
      "cell_type": "markdown",
      "metadata": {
        "id": "02rwld8yemRI"
      },
      "source": [
        "**Write your observations here:__________**"
      ]
    },
    {
      "cell_type": "markdown",
      "metadata": {
        "id": "ejjof6csnVNF"
      },
      "source": [
        "### **Improving similarity-based recommendation system by tuning its hyperparameters**"
      ]
    },
    {
      "cell_type": "markdown",
      "metadata": {
        "id": "p2j4VvfQnVNF"
      },
      "source": [
        "Below, we will be tuning hyperparameters for the `KNNBasic` algorithm. Let's try to understand some of the hyperparameters of the KNNBasic algorithm:\n",
        "\n",
        "- **k** (int) – The (max) number of neighbors to take into account for aggregation. Default is 40.\n",
        "- **min_k** (int) – The minimum number of neighbors to take into account for aggregation. If there are not enough neighbors, the prediction is set to the global mean of all ratings. Default is 1.\n",
        "- **sim_options** (dict) – A dictionary of options for the similarity measure. And there are four similarity measures available in surprise -\n",
        "    - cosine\n",
        "    - msd (default)\n",
        "    - Pearson\n",
        "    - Pearson baseline"
      ]
    },
    {
      "cell_type": "code",
      "source": [
        "param_grid = {'k': [10, 20, 30, 40, 50], 'min_k': [1, 2, 3, 4, 5], 'sim_options': {'name': ['cosine', 'msd', 'pearson', 'pearson_baseline']}}\n",
        "gs = GridSearchCV(KNNBasic, param_grid, measures=['RMSE'], cv=3)\n",
        "gs.fit(data)\n",
        "print(gs.best_score['rmse'])\n",
        "print(gs.best_params['rmse'])\n"
      ],
      "metadata": {
        "colab": {
          "base_uri": "https://localhost:8080/"
        },
        "id": "cN4zzwV47Zp1",
        "outputId": "bb7ca1e9-d978-4089-cc26-520595ff8fb9"
      },
      "execution_count": null,
      "outputs": [
        {
          "output_type": "stream",
          "name": "stdout",
          "text": [
            "Computing the cosine similarity matrix...\n",
            "Done computing similarity matrix.\n",
            "Computing the cosine similarity matrix...\n",
            "Done computing similarity matrix.\n",
            "Computing the cosine similarity matrix...\n",
            "Done computing similarity matrix.\n",
            "Computing the msd similarity matrix...\n",
            "Done computing similarity matrix.\n",
            "Computing the msd similarity matrix...\n",
            "Done computing similarity matrix.\n",
            "Computing the msd similarity matrix...\n",
            "Done computing similarity matrix.\n",
            "Computing the pearson similarity matrix...\n",
            "Done computing similarity matrix.\n",
            "Computing the pearson similarity matrix...\n",
            "Done computing similarity matrix.\n",
            "Computing the pearson similarity matrix...\n",
            "Done computing similarity matrix.\n",
            "Estimating biases using als...\n",
            "Computing the pearson_baseline similarity matrix...\n",
            "Done computing similarity matrix.\n",
            "Estimating biases using als...\n",
            "Computing the pearson_baseline similarity matrix...\n",
            "Done computing similarity matrix.\n",
            "Estimating biases using als...\n",
            "Computing the pearson_baseline similarity matrix...\n",
            "Done computing similarity matrix.\n",
            "Computing the cosine similarity matrix...\n",
            "Done computing similarity matrix.\n",
            "Computing the cosine similarity matrix...\n",
            "Done computing similarity matrix.\n",
            "Computing the cosine similarity matrix...\n",
            "Done computing similarity matrix.\n",
            "Computing the msd similarity matrix...\n",
            "Done computing similarity matrix.\n",
            "Computing the msd similarity matrix...\n",
            "Done computing similarity matrix.\n",
            "Computing the msd similarity matrix...\n",
            "Done computing similarity matrix.\n",
            "Computing the pearson similarity matrix...\n",
            "Done computing similarity matrix.\n",
            "Computing the pearson similarity matrix...\n",
            "Done computing similarity matrix.\n",
            "Computing the pearson similarity matrix...\n",
            "Done computing similarity matrix.\n",
            "Estimating biases using als...\n",
            "Computing the pearson_baseline similarity matrix...\n",
            "Done computing similarity matrix.\n",
            "Estimating biases using als...\n",
            "Computing the pearson_baseline similarity matrix...\n",
            "Done computing similarity matrix.\n",
            "Estimating biases using als...\n",
            "Computing the pearson_baseline similarity matrix...\n",
            "Done computing similarity matrix.\n",
            "Computing the cosine similarity matrix...\n",
            "Done computing similarity matrix.\n",
            "Computing the cosine similarity matrix...\n",
            "Done computing similarity matrix.\n",
            "Computing the cosine similarity matrix...\n",
            "Done computing similarity matrix.\n",
            "Computing the msd similarity matrix...\n",
            "Done computing similarity matrix.\n",
            "Computing the msd similarity matrix...\n",
            "Done computing similarity matrix.\n",
            "Computing the msd similarity matrix...\n",
            "Done computing similarity matrix.\n",
            "Computing the pearson similarity matrix...\n",
            "Done computing similarity matrix.\n",
            "Computing the pearson similarity matrix...\n",
            "Done computing similarity matrix.\n",
            "Computing the pearson similarity matrix...\n",
            "Done computing similarity matrix.\n",
            "Estimating biases using als...\n",
            "Computing the pearson_baseline similarity matrix...\n",
            "Done computing similarity matrix.\n",
            "Estimating biases using als...\n",
            "Computing the pearson_baseline similarity matrix...\n",
            "Done computing similarity matrix.\n",
            "Estimating biases using als...\n",
            "Computing the pearson_baseline similarity matrix...\n",
            "Done computing similarity matrix.\n",
            "Computing the cosine similarity matrix...\n",
            "Done computing similarity matrix.\n",
            "Computing the cosine similarity matrix...\n",
            "Done computing similarity matrix.\n",
            "Computing the cosine similarity matrix...\n",
            "Done computing similarity matrix.\n",
            "Computing the msd similarity matrix...\n",
            "Done computing similarity matrix.\n",
            "Computing the msd similarity matrix...\n",
            "Done computing similarity matrix.\n",
            "Computing the msd similarity matrix...\n",
            "Done computing similarity matrix.\n",
            "Computing the pearson similarity matrix...\n",
            "Done computing similarity matrix.\n",
            "Computing the pearson similarity matrix...\n",
            "Done computing similarity matrix.\n",
            "Computing the pearson similarity matrix...\n",
            "Done computing similarity matrix.\n",
            "Estimating biases using als...\n",
            "Computing the pearson_baseline similarity matrix...\n",
            "Done computing similarity matrix.\n",
            "Estimating biases using als...\n",
            "Computing the pearson_baseline similarity matrix...\n",
            "Done computing similarity matrix.\n",
            "Estimating biases using als...\n",
            "Computing the pearson_baseline similarity matrix...\n",
            "Done computing similarity matrix.\n",
            "Computing the cosine similarity matrix...\n",
            "Done computing similarity matrix.\n",
            "Computing the cosine similarity matrix...\n",
            "Done computing similarity matrix.\n",
            "Computing the cosine similarity matrix...\n",
            "Done computing similarity matrix.\n",
            "Computing the msd similarity matrix...\n",
            "Done computing similarity matrix.\n",
            "Computing the msd similarity matrix...\n",
            "Done computing similarity matrix.\n",
            "Computing the msd similarity matrix...\n",
            "Done computing similarity matrix.\n",
            "Computing the pearson similarity matrix...\n",
            "Done computing similarity matrix.\n",
            "Computing the pearson similarity matrix...\n",
            "Done computing similarity matrix.\n",
            "Computing the pearson similarity matrix...\n",
            "Done computing similarity matrix.\n",
            "Estimating biases using als...\n",
            "Computing the pearson_baseline similarity matrix...\n",
            "Done computing similarity matrix.\n",
            "Estimating biases using als...\n",
            "Computing the pearson_baseline similarity matrix...\n",
            "Done computing similarity matrix.\n",
            "Estimating biases using als...\n",
            "Computing the pearson_baseline similarity matrix...\n",
            "Done computing similarity matrix.\n",
            "Computing the cosine similarity matrix...\n",
            "Done computing similarity matrix.\n",
            "Computing the cosine similarity matrix...\n",
            "Done computing similarity matrix.\n",
            "Computing the cosine similarity matrix...\n",
            "Done computing similarity matrix.\n",
            "Computing the msd similarity matrix...\n",
            "Done computing similarity matrix.\n",
            "Computing the msd similarity matrix...\n",
            "Done computing similarity matrix.\n",
            "Computing the msd similarity matrix...\n",
            "Done computing similarity matrix.\n",
            "Computing the pearson similarity matrix...\n",
            "Done computing similarity matrix.\n",
            "Computing the pearson similarity matrix...\n",
            "Done computing similarity matrix.\n",
            "Computing the pearson similarity matrix...\n",
            "Done computing similarity matrix.\n",
            "Estimating biases using als...\n",
            "Computing the pearson_baseline similarity matrix...\n",
            "Done computing similarity matrix.\n",
            "Estimating biases using als...\n",
            "Computing the pearson_baseline similarity matrix...\n",
            "Done computing similarity matrix.\n",
            "Estimating biases using als...\n",
            "Computing the pearson_baseline similarity matrix...\n",
            "Done computing similarity matrix.\n",
            "Computing the cosine similarity matrix...\n",
            "Done computing similarity matrix.\n",
            "Computing the cosine similarity matrix...\n",
            "Done computing similarity matrix.\n",
            "Computing the cosine similarity matrix...\n",
            "Done computing similarity matrix.\n",
            "Computing the msd similarity matrix...\n",
            "Done computing similarity matrix.\n",
            "Computing the msd similarity matrix...\n",
            "Done computing similarity matrix.\n",
            "Computing the msd similarity matrix...\n",
            "Done computing similarity matrix.\n",
            "Computing the pearson similarity matrix...\n",
            "Done computing similarity matrix.\n",
            "Computing the pearson similarity matrix...\n"
          ]
        }
      ]
    },
    {
      "cell_type": "code",
      "execution_count": 133,
      "metadata": {
        "id": "9LmPbSUSTsnp",
        "colab": {
          "base_uri": "https://localhost:8080/"
        },
        "outputId": "9662a2e1-ab24-4a6e-8c49-5367e3b7b175"
      },
      "outputs": [
        {
          "output_type": "stream",
          "name": "stdout",
          "text": [
            "RMSE: 0.9726\n",
            "Precision:  0.838\n",
            "Recall:  0.892\n",
            "F_1 score:  0.864\n"
          ]
        }
      ],
      "source": [
        "sim_options =  {'name': 'pearson_baseline'}\n",
        "\n",
        "sim_user_user_optimized = KNNBasic(sim_options = sim_options, k = 40, min_k = 5, random_state = 1, verbose = False)\n",
        "sim_user_user_optimized.fit(trainset)\n",
        "\n",
        "precision_recall_at_k(sim_user_user_optimized, k = 10, threshold = 3.5)"
      ]
    },
    {
      "cell_type": "markdown",
      "metadata": {
        "id": "L2fHNvu7nVNF"
      },
      "source": [
        "Once the grid search is **complete**, we can get the **optimal values for each of those hyperparameters**."
      ]
    },
    {
      "cell_type": "markdown",
      "metadata": {
        "id": "NHWgxu_YnVNG"
      },
      "source": [
        "Now, let's build the **final model by using tuned values of the hyperparameters**, which we received by using **grid search cross-validation**."
      ]
    },
    {
      "cell_type": "code",
      "source": [
        "sim_user_user_optimized = KNNBasic(sim_options = sim_options, k = 40, min_k = 5, random_state = 1, verbose = False)\n",
        "sim_user_user_optimized.fit(trainset)\n",
        "precision_recall_at_k(sim_user_user_optimized, k = 10, threshold = 3.5)\n"
      ],
      "metadata": {
        "id": "v7jUDS3Tl8Iq",
        "colab": {
          "base_uri": "https://localhost:8080/"
        },
        "outputId": "97f36bae-2320-47db-9474-ee725ac8129c"
      },
      "execution_count": 134,
      "outputs": [
        {
          "output_type": "stream",
          "name": "stdout",
          "text": [
            "RMSE: 0.9726\n",
            "Precision:  0.838\n",
            "Recall:  0.892\n",
            "F_1 score:  0.864\n"
          ]
        }
      ]
    },
    {
      "cell_type": "code",
      "execution_count": 135,
      "metadata": {
        "id": "PujRJA8X_JEJ",
        "colab": {
          "base_uri": "https://localhost:8080/"
        },
        "outputId": "44194696-b1a2-4f6b-e79d-d99a1de1e080"
      },
      "outputs": [
        {
          "output_type": "stream",
          "name": "stdout",
          "text": [
            "user: A3LDPF5FMB782Z item: 1400501466 r_ui = 5.00   est = 4.29   {'was_impossible': True, 'reason': 'Not enough neighbors.'}\n",
            "RMSE: 0.9726\n",
            "Precision:  0.838\n",
            "Recall:  0.892\n",
            "F_1 score:  0.864\n"
          ]
        }
      ],
      "source": [
        "sim_options =  {'name': 'pearson_baseline'}\n",
        "\n",
        "sim_user_user_optimized = KNNBasic(sim_options = sim_options, k = 40, min_k = 5, random_state = 1, verbose = False)\n",
        "sim_user_user_optimized.fit(trainset)\n",
        "\n",
        "sim_user_user_optimized.predict(\"A3LDPF5FMB782Z\", \"1400501466\", r_ui = 5, verbose = True)\n",
        "\n",
        "precision_recall_at_k(sim_user_user_optimized, k = 10, threshold = 3.5)\n"
      ]
    },
    {
      "cell_type": "markdown",
      "metadata": {
        "id": "yHsWvFjKTsnp"
      },
      "source": [
        "**Write your observations here:__________**"
      ]
    },
    {
      "cell_type": "markdown",
      "metadata": {
        "id": "YhcAXK0CnVNG"
      },
      "source": [
        "### **Steps:**\n",
        "- **Predict rating for the user with `userId=\"A3LDPF5FMB782Z\"`, and `prod_id= \"1400501466\"` using the optimized model**\n",
        "- **Predict rating for `userId=\"A2UOHALGF2X77Q\"` who has not interacted with `prod_id =\"1400501466\"`, by using the optimized model**\n",
        "- **Compare the output with the output from the baseline model**"
      ]
    },
    {
      "cell_type": "code",
      "source": [
        "sim_user_user_optimized.predict(\"A3LDPF5FMB782Z\", \"1400501466\", r_ui = 5, verbose = True)\n"
      ],
      "metadata": {
        "colab": {
          "base_uri": "https://localhost:8080/"
        },
        "id": "9AnoyR5Y6XI-",
        "outputId": "d845f8cc-38c2-4885-eab1-0663fa86e654"
      },
      "execution_count": 136,
      "outputs": [
        {
          "output_type": "stream",
          "name": "stdout",
          "text": [
            "user: A3LDPF5FMB782Z item: 1400501466 r_ui = 5.00   est = 4.29   {'was_impossible': True, 'reason': 'Not enough neighbors.'}\n"
          ]
        },
        {
          "output_type": "execute_result",
          "data": {
            "text/plain": [
              "Prediction(uid='A3LDPF5FMB782Z', iid='1400501466', r_ui=5, est=4.292024046561495, details={'was_impossible': True, 'reason': 'Not enough neighbors.'})"
            ]
          },
          "metadata": {},
          "execution_count": 136
        }
      ]
    },
    {
      "cell_type": "markdown",
      "metadata": {
        "id": "s5i-OPprNF2e"
      },
      "source": [
        "**Write your observations here:**____________"
      ]
    },
    {
      "cell_type": "markdown",
      "metadata": {
        "id": "op_zwO_FnVNH"
      },
      "source": [
        "### **Identifying similar users to a given user (nearest neighbors)**"
      ]
    },
    {
      "cell_type": "markdown",
      "metadata": {
        "id": "o2QsfqhanVNH"
      },
      "source": [
        "We can also find out **similar users to a given user** or its **nearest neighbors** based on this KNNBasic algorithm. Below, we are finding the 5 most similar users to the first user in the list with internal id 0, based on the `msd` distance metric."
      ]
    },
    {
      "cell_type": "code",
      "source": [
        "sim_user_user_optimized.get_neighbors(0, k=5)\n"
      ],
      "metadata": {
        "colab": {
          "base_uri": "https://localhost:8080/"
        },
        "id": "E0F6oK9cy7uR",
        "outputId": "e28cd1c3-0213-4dce-b5a3-3f5b151e125d"
      },
      "execution_count": 86,
      "outputs": [
        {
          "output_type": "execute_result",
          "data": {
            "text/plain": [
              "[472, 162, 625, 29, 408]"
            ]
          },
          "metadata": {},
          "execution_count": 86
        }
      ]
    },
    {
      "cell_type": "markdown",
      "metadata": {
        "id": "Z0NsrX_anVNH"
      },
      "source": [
        "### **Implementing the recommendation algorithm based on optimized KNNBasic model**"
      ]
    },
    {
      "cell_type": "code",
      "execution_count": 84,
      "metadata": {
        "id": "vW9V1Tk65HlY"
      },
      "outputs": [],
      "source": [
        "def get_recommendations(data, user_id, top_n, algo):\n",
        "\n",
        "    recommendations = []\n",
        "\n",
        "    user_item_interactions_matrix = data.pivot(index = 'user_id', columns = 'prod_id', values = 'rating')\n",
        "\n",
        "    non_interacted_products = user_item_interactions_matrix.loc[user_id][user_item_interactions_matrix.loc[user_id].isnull()].index.tolist()\n",
        "\n",
        "    for item_id in non_interacted_products:\n",
        "\n",
        "        est = algo.predict(user_id, item_id).est\n",
        "\n",
        "        recommendations.append((item_id, est))\n",
        "\n",
        "    recommendations.sort(key = lambda x: x[1], reverse = True)\n",
        "\n",
        "    return recommendations[:top_n]"
      ]
    },
    {
      "cell_type": "markdown",
      "metadata": {
        "id": "Oj_S7kh4nVNI"
      },
      "source": [
        "**Predicting top 5 products for userId = \"A3LDPF5FMB782Z\" with similarity based recommendation system**"
      ]
    },
    {
      "cell_type": "code",
      "source": [
        "\n",
        "recommendations_user_user = get_recommendations(df_final, 'A3LDPF5FMB782Z', 5, sim_user_user_optimized)\n",
        "print(recommendations_user_user)\n"
      ],
      "metadata": {
        "colab": {
          "base_uri": "https://localhost:8080/"
        },
        "id": "1dWbJ-NgzIOU",
        "outputId": "edc04cc7-04e7-43c4-d57f-34de7ed15e02"
      },
      "execution_count": 89,
      "outputs": [
        {
          "output_type": "stream",
          "name": "stdout",
          "text": [
            "[('1400532655', 4.292024046561495), ('1400599997', 4.292024046561495), ('9983891212', 4.292024046561495), ('B00000DM9W', 4.292024046561495), ('B00000J1V5', 4.292024046561495)]\n"
          ]
        }
      ]
    },
    {
      "cell_type": "code",
      "source": [
        "df_recommendations_user_user = pd.DataFrame(recommendations_user_user, columns = ['prod_id', 'predicted_ratings'])\n"
      ],
      "metadata": {
        "id": "I4f6RU9CzPVQ"
      },
      "execution_count": 91,
      "outputs": []
    },
    {
      "cell_type": "markdown",
      "metadata": {
        "id": "QgbzJKk7Tsnr"
      },
      "source": [
        "### **Item-Item Similarity-based Collaborative Filtering Recommendation System**"
      ]
    },
    {
      "cell_type": "markdown",
      "metadata": {
        "id": "qTJu_2hcTsnr"
      },
      "source": [
        "* Above we have seen **similarity-based collaborative filtering** where similarity is calculated **between users**. Now let us look into similarity-based collaborative filtering where similarity is seen **between items**."
      ]
    },
    {
      "cell_type": "code",
      "source": [
        "sim_options = {'name': 'cosine',\n",
        "               'user_based': False}\n",
        "\n",
        "sim_item_item = KNNBasic(k = 5, min_k = 1, sim_options = sim_options, verbose = False, random_state = 1)\n",
        "\n",
        "sim_item_item.fit(trainset)\n",
        "\n",
        "precision_recall_at_k(sim_item_item, k = 10, threshold = 3.5)\n"
      ],
      "metadata": {
        "colab": {
          "base_uri": "https://localhost:8080/"
        },
        "id": "prdOBtpFzZih",
        "outputId": "325b3093-5eb6-4c10-c91a-28847889385b"
      },
      "execution_count": 93,
      "outputs": [
        {
          "output_type": "stream",
          "name": "stdout",
          "text": [
            "RMSE: 1.0216\n",
            "Precision:  0.837\n",
            "Recall:  0.835\n",
            "F_1 score:  0.836\n"
          ]
        }
      ]
    },
    {
      "cell_type": "markdown",
      "metadata": {
        "id": "ni9LoeUVTsns"
      },
      "source": [
        "**Write your observations here:**____________"
      ]
    },
    {
      "cell_type": "markdown",
      "metadata": {
        "id": "jFbcDQmxTsns"
      },
      "source": [
        "Let's now **predict a rating for a user with `userId = A3LDPF5FMB782Z` and `prod_Id = 1400501466`** as shown below. Here the user has already interacted or watched the product with productId \"1400501466\"."
      ]
    },
    {
      "cell_type": "code",
      "execution_count": 94,
      "metadata": {
        "id": "JsF-aaWYTsns",
        "colab": {
          "base_uri": "https://localhost:8080/"
        },
        "outputId": "cfc86181-1d34-4570-f8ec-e27c38f7b338"
      },
      "outputs": [
        {
          "output_type": "stream",
          "name": "stdout",
          "text": [
            "user: A3LDPF5FMB782Z item: 1400501466 r_ui = 5.00   est = 4.20   {'actual_k': 5, 'was_impossible': False}\n"
          ]
        },
        {
          "output_type": "execute_result",
          "data": {
            "text/plain": [
              "Prediction(uid='A3LDPF5FMB782Z', iid='1400501466', r_ui=5, est=4.2, details={'actual_k': 5, 'was_impossible': False})"
            ]
          },
          "metadata": {},
          "execution_count": 94
        }
      ],
      "source": [
        "\n",
        "sim_item_item.predict(\"A3LDPF5FMB782Z\", \"1400501466\", r_ui = 5, verbose = True)\n"
      ]
    },
    {
      "cell_type": "markdown",
      "metadata": {
        "id": "2h0OyDMFTsns"
      },
      "source": [
        "**Write your observations here:**____________"
      ]
    },
    {
      "cell_type": "markdown",
      "metadata": {
        "id": "BqKGZoAtTsns"
      },
      "source": [
        "Below we are **predicting rating for the `userId = A2UOHALGF2X77Q` and `prod_id = 1400501466`**."
      ]
    },
    {
      "cell_type": "code",
      "execution_count": 95,
      "metadata": {
        "id": "5yILOxXRTsns",
        "colab": {
          "base_uri": "https://localhost:8080/"
        },
        "outputId": "ccc59a3c-7a77-40a3-9194-9c402bdd390c"
      },
      "outputs": [
        {
          "output_type": "stream",
          "name": "stdout",
          "text": [
            "user: A2UOHALGF2X77Q item: 1400501466 r_ui = 5.00   est = 4.00   {'actual_k': 1, 'was_impossible': False}\n"
          ]
        },
        {
          "output_type": "execute_result",
          "data": {
            "text/plain": [
              "Prediction(uid='A2UOHALGF2X77Q', iid='1400501466', r_ui=5, est=4.0, details={'actual_k': 1, 'was_impossible': False})"
            ]
          },
          "metadata": {},
          "execution_count": 95
        }
      ],
      "source": [
        "sim_item_item.predict(\"A2UOHALGF2X77Q\", \"1400501466\", r_ui = 5, verbose = True)\n"
      ]
    },
    {
      "cell_type": "markdown",
      "metadata": {
        "id": "sDKaAveJTsns"
      },
      "source": [
        "**Write your observations here:**____________"
      ]
    },
    {
      "cell_type": "markdown",
      "metadata": {
        "id": "meSvpNLj_EjD"
      },
      "source": [
        "### **Hyperparameter tuning the item-item similarity-based model**\n",
        "- Use the following values for the param_grid and tune the model.\n",
        "  - 'k': [10, 20, 30]\n",
        "  - 'min_k': [3, 6, 9]\n",
        "  - 'sim_options': {'name': ['msd', 'cosine']\n",
        "  - 'user_based': [False]\n",
        "- Use GridSearchCV() to tune the model using the 'rmse' measure\n",
        "- Print the best score and best parameters"
      ]
    },
    {
      "cell_type": "code",
      "source": [
        "param_grid = {'k': [10, 20, 30], 'min_k': [3, 6, 9], 'sim_options': {'name': ['msd', 'cosine']}, 'user_based': [False]}\n",
        "gs = GridSearchCV(KNNBasic, param_grid, measures=['RMSE'], cv=3)\n",
        "gs.fit(data)\n",
        "print(gs.best_score['rmse'])\n",
        "print(gs.best_params['rmse'])\n"
      ],
      "metadata": {
        "colab": {
          "base_uri": "https://localhost:8080/"
        },
        "id": "z6qPTd5Y7HRO",
        "outputId": "9c28b223-8ddf-4d78-895a-61fe3ebb98e8"
      },
      "execution_count": 145,
      "outputs": [
        {
          "output_type": "stream",
          "name": "stdout",
          "text": [
            "Computing the msd similarity matrix...\n",
            "Done computing similarity matrix.\n",
            "Computing the msd similarity matrix...\n",
            "Done computing similarity matrix.\n",
            "Computing the msd similarity matrix...\n",
            "Done computing similarity matrix.\n",
            "Computing the cosine similarity matrix...\n",
            "Done computing similarity matrix.\n",
            "Computing the cosine similarity matrix...\n",
            "Done computing similarity matrix.\n",
            "Computing the cosine similarity matrix...\n",
            "Done computing similarity matrix.\n",
            "Computing the msd similarity matrix...\n",
            "Done computing similarity matrix.\n",
            "Computing the msd similarity matrix...\n",
            "Done computing similarity matrix.\n",
            "Computing the msd similarity matrix...\n",
            "Done computing similarity matrix.\n",
            "Computing the cosine similarity matrix...\n",
            "Done computing similarity matrix.\n",
            "Computing the cosine similarity matrix...\n",
            "Done computing similarity matrix.\n",
            "Computing the cosine similarity matrix...\n",
            "Done computing similarity matrix.\n",
            "Computing the msd similarity matrix...\n",
            "Done computing similarity matrix.\n",
            "Computing the msd similarity matrix...\n",
            "Done computing similarity matrix.\n",
            "Computing the msd similarity matrix...\n",
            "Done computing similarity matrix.\n",
            "Computing the cosine similarity matrix...\n",
            "Done computing similarity matrix.\n",
            "Computing the cosine similarity matrix...\n",
            "Done computing similarity matrix.\n",
            "Computing the cosine similarity matrix...\n",
            "Done computing similarity matrix.\n",
            "Computing the msd similarity matrix...\n",
            "Done computing similarity matrix.\n",
            "Computing the msd similarity matrix...\n",
            "Done computing similarity matrix.\n",
            "Computing the msd similarity matrix...\n",
            "Done computing similarity matrix.\n",
            "Computing the cosine similarity matrix...\n",
            "Done computing similarity matrix.\n",
            "Computing the cosine similarity matrix...\n",
            "Done computing similarity matrix.\n",
            "Computing the cosine similarity matrix...\n",
            "Done computing similarity matrix.\n",
            "Computing the msd similarity matrix...\n",
            "Done computing similarity matrix.\n",
            "Computing the msd similarity matrix...\n",
            "Done computing similarity matrix.\n",
            "Computing the msd similarity matrix...\n",
            "Done computing similarity matrix.\n",
            "Computing the cosine similarity matrix...\n",
            "Done computing similarity matrix.\n",
            "Computing the cosine similarity matrix...\n",
            "Done computing similarity matrix.\n",
            "Computing the cosine similarity matrix...\n",
            "Done computing similarity matrix.\n",
            "Computing the msd similarity matrix...\n",
            "Done computing similarity matrix.\n",
            "Computing the msd similarity matrix...\n",
            "Done computing similarity matrix.\n",
            "Computing the msd similarity matrix...\n",
            "Done computing similarity matrix.\n",
            "Computing the cosine similarity matrix...\n",
            "Done computing similarity matrix.\n",
            "Computing the cosine similarity matrix...\n",
            "Done computing similarity matrix.\n",
            "Computing the cosine similarity matrix...\n",
            "Done computing similarity matrix.\n",
            "Computing the msd similarity matrix...\n",
            "Done computing similarity matrix.\n",
            "Computing the msd similarity matrix...\n",
            "Done computing similarity matrix.\n",
            "Computing the msd similarity matrix...\n",
            "Done computing similarity matrix.\n",
            "Computing the cosine similarity matrix...\n",
            "Done computing similarity matrix.\n",
            "Computing the cosine similarity matrix...\n",
            "Done computing similarity matrix.\n",
            "Computing the cosine similarity matrix...\n",
            "Done computing similarity matrix.\n",
            "Computing the msd similarity matrix...\n",
            "Done computing similarity matrix.\n",
            "Computing the msd similarity matrix...\n",
            "Done computing similarity matrix.\n",
            "Computing the msd similarity matrix...\n",
            "Done computing similarity matrix.\n",
            "Computing the cosine similarity matrix...\n",
            "Done computing similarity matrix.\n",
            "Computing the cosine similarity matrix...\n",
            "Done computing similarity matrix.\n",
            "Computing the cosine similarity matrix...\n",
            "Done computing similarity matrix.\n",
            "Computing the msd similarity matrix...\n",
            "Done computing similarity matrix.\n",
            "Computing the msd similarity matrix...\n",
            "Done computing similarity matrix.\n",
            "Computing the msd similarity matrix...\n",
            "Done computing similarity matrix.\n",
            "Computing the cosine similarity matrix...\n",
            "Done computing similarity matrix.\n",
            "Computing the cosine similarity matrix...\n",
            "Done computing similarity matrix.\n",
            "Computing the cosine similarity matrix...\n",
            "Done computing similarity matrix.\n",
            "0.9712503989570614\n",
            "{'k': 30, 'min_k': 6, 'sim_options': {'name': 'cosine', 'user_based': True}, 'user_based': False}\n"
          ]
        }
      ]
    },
    {
      "cell_type": "markdown",
      "metadata": {
        "id": "1psOlx6zTsnt"
      },
      "source": [
        "Once the **grid search** is complete, we can get the **optimal values for each of those hyperparameters as shown above.**"
      ]
    },
    {
      "cell_type": "markdown",
      "metadata": {
        "id": "JrSTaQemTsnt"
      },
      "source": [
        "Now let's build the **final model** by using **tuned values of the hyperparameters** which we received by using grid search cross-validation."
      ]
    },
    {
      "cell_type": "markdown",
      "metadata": {
        "id": "kOS9Dwnd_LN6"
      },
      "source": [
        "### **Use the best parameters from GridSearchCV to build the optimized item-item similarity-based model. Compare the performance of the optimized model with the baseline model.**"
      ]
    },
    {
      "cell_type": "code",
      "source": [
        "\n",
        "sim_options = {'name': 'msd'}\n",
        "\n",
        "sim_item_item_optimized = KNNBasic(sim_options = sim_options, k = 20, min_k = 3, random_state = 1, verbose = False, user_based = False)\n",
        "\n",
        "sim_item_item_optimized.fit(trainset)\n",
        "\n",
        "precision_recall_at_k(sim_item_item_optimized, k = 10, threshold = 3.5)\n",
        "\n",
        "sim_item_item_optimized.predict(\"A3LDPF5FMB782Z\", \"1400501466\", r_ui = 5, verbose = True)\n",
        "\n",
        "sim_item_item_optimized.predict(\"A2UOHALGF2X77Q\", \"1400501466\", r_ui = 5, verbose = True)\n"
      ],
      "metadata": {
        "colab": {
          "base_uri": "https://localhost:8080/"
        },
        "id": "kW8EZthv63Ko",
        "outputId": "928b3f94-5f46-4aeb-aa1d-e74a7327f805"
      },
      "execution_count": 141,
      "outputs": [
        {
          "output_type": "stream",
          "name": "stdout",
          "text": [
            "RMSE: 0.9593\n",
            "Precision:  0.855\n",
            "Recall:  0.881\n",
            "F_1 score:  0.868\n",
            "user: A3LDPF5FMB782Z item: 1400501466 r_ui = 5.00   est = 4.85   {'actual_k': 5, 'was_impossible': False}\n",
            "user: A2UOHALGF2X77Q item: 1400501466 r_ui = 5.00   est = 4.29   {'was_impossible': True, 'reason': 'Not enough neighbors.'}\n"
          ]
        },
        {
          "output_type": "execute_result",
          "data": {
            "text/plain": [
              "Prediction(uid='A2UOHALGF2X77Q', iid='1400501466', r_ui=5, est=4.292024046561495, details={'was_impossible': True, 'reason': 'Not enough neighbors.'})"
            ]
          },
          "metadata": {},
          "execution_count": 141
        }
      ]
    },
    {
      "cell_type": "markdown",
      "metadata": {
        "id": "ZCXKnMI8Tsnt"
      },
      "source": [
        "**Write your observations here:__________**"
      ]
    },
    {
      "cell_type": "markdown",
      "metadata": {
        "id": "Sbcj_H94Tsnt"
      },
      "source": [
        "### **Steps:**\n",
        "- **Predict rating for the user with `userId=\"A3LDPF5FMB782Z\"`, and `prod_id= \"1400501466\"` using the optimized model**\n",
        "- **Predict rating for `userId=\"A2UOHALGF2X77Q\"` who has not interacted with `prod_id =\"1400501466\"`, by using the optimized model**\n",
        "- **Compare the output with the output from the baseline model**"
      ]
    },
    {
      "cell_type": "code",
      "source": [
        "recommendations_item_item = get_recommendations(df_final, 'A3LDPF5FMB782Z', 5, sim_item_item_optimized)\n",
        "print(recommendations_item_item)\n",
        "\n",
        "df_recommendations_item_item = pd.DataFrame(recommendations_item_item, columns = ['prod_id', 'predicted_ratings'])"
      ],
      "metadata": {
        "colab": {
          "base_uri": "https://localhost:8080/"
        },
        "id": "CRllvVne66IM",
        "outputId": "674261df-7110-49f6-956d-c6db86853aca"
      },
      "execution_count": 142,
      "outputs": [
        {
          "output_type": "stream",
          "name": "stdout",
          "text": [
            "[('B00005LENO', 5), ('B000067RT6', 5), ('B00006HSML', 5), ('B00006I53X', 5), ('B00006I5J7', 5)]\n"
          ]
        }
      ]
    },
    {
      "cell_type": "code",
      "source": [
        "sim_item_item_optimized.predict(\"A2UOHALGF2X77Q\", \"1400501466\", r_ui = 5, verbose = True)\n"
      ],
      "metadata": {
        "colab": {
          "base_uri": "https://localhost:8080/"
        },
        "id": "Go76yhYC68zX",
        "outputId": "4ac2519f-8c57-4412-89e3-fc703bcd1ee7"
      },
      "execution_count": 143,
      "outputs": [
        {
          "output_type": "stream",
          "name": "stdout",
          "text": [
            "user: A2UOHALGF2X77Q item: 1400501466 r_ui = 5.00   est = 4.29   {'was_impossible': True, 'reason': 'Not enough neighbors.'}\n"
          ]
        },
        {
          "output_type": "execute_result",
          "data": {
            "text/plain": [
              "Prediction(uid='A2UOHALGF2X77Q', iid='1400501466', r_ui=5, est=4.292024046561495, details={'was_impossible': True, 'reason': 'Not enough neighbors.'})"
            ]
          },
          "metadata": {},
          "execution_count": 143
        }
      ]
    },
    {
      "cell_type": "markdown",
      "metadata": {
        "id": "6bLprzv3hYaT"
      },
      "source": [
        "**Write your observations here:__________**"
      ]
    },
    {
      "cell_type": "markdown",
      "metadata": {
        "id": "MDlNB7tnTsnu"
      },
      "source": [
        "### **Identifying similar items to a given item (nearest neighbors)**"
      ]
    },
    {
      "cell_type": "markdown",
      "metadata": {
        "id": "RLdDiFA6Tsnu"
      },
      "source": [
        "We can also find out **similar items** to a given item or its nearest neighbors based on this **KNNBasic algorithm**. Below we are finding the 5 most similar items to the item with internal id 0 based on the `msd` distance metric."
      ]
    },
    {
      "cell_type": "markdown",
      "metadata": {
        "id": "GSJXcTO5hYaU"
      },
      "source": [
        "**Predicting top 5 products for userId = \"A1A5KUIIIHFF4U\" with similarity based recommendation system.**\n",
        "\n",
        "**Hint:** Use the get_recommendations() function."
      ]
    },
    {
      "cell_type": "code",
      "source": [
        "recommendations_user_item = get_recommendations(df_final, 'A1A5KUIIIHFF4U', 5, sim_item_item_optimized)\n",
        "print(recommendations_user_item)\n",
        "\n",
        "df_recommendations_user_item = pd.DataFrame(recommendations_user_item, columns = ['prod_id', 'predicted_ratings'])"
      ],
      "metadata": {
        "id": "Wm96go3a6tOv"
      },
      "execution_count": null,
      "outputs": []
    },
    {
      "cell_type": "code",
      "source": [
        "df_recommendations_user_user = pd.DataFrame(recommendations_user_user, columns = ['prod_id', 'predicted_ratings'])\n",
        "df_recommendations_item_item = pd.DataFrame(recommendations_item_item, columns = ['prod_id', 'predicted_ratings'])"
      ],
      "metadata": {
        "id": "k8jP-j0o7B4P"
      },
      "execution_count": 144,
      "outputs": []
    },
    {
      "cell_type": "markdown",
      "metadata": {
        "id": "DHzmYvs0Tsnv"
      },
      "source": [
        "Now as we have seen **similarity-based collaborative filtering algorithms**, let us now get into **model-based collaborative filtering algorithms**."
      ]
    },
    {
      "cell_type": "markdown",
      "metadata": {
        "id": "rKgJpSA9vOOL"
      },
      "source": [
        "### **Model 3: Model-Based Collaborative Filtering - Matrix Factorization**"
      ]
    },
    {
      "cell_type": "markdown",
      "metadata": {
        "id": "YF6ZGyqhCAob"
      },
      "source": [
        "Model-based Collaborative Filtering is a **personalized recommendation system**, the recommendations are based on the past behavior of the user and it is not dependent on any additional information. We use **latent features** to find recommendations for each user."
      ]
    },
    {
      "cell_type": "markdown",
      "metadata": {
        "id": "n4Otha8ovOOL"
      },
      "source": [
        "### Singular Value Decomposition (SVD)"
      ]
    },
    {
      "cell_type": "markdown",
      "metadata": {
        "id": "3sGl3QkLvOOL"
      },
      "source": [
        "SVD is used to **compute the latent features** from the **user-item matrix**. But SVD does not work when we **miss values** in the **user-item matrix**."
      ]
    },
    {
      "cell_type": "markdown",
      "metadata": {
        "id": "BQ6fTuCDnVNL"
      },
      "source": [
        "**Write your observations here:___________**"
      ]
    },
    {
      "cell_type": "code",
      "source": [
        "algo_SVD = SVD(random_state = 1)\n",
        "algo_SVD.fit(trainset)\n",
        "precision_recall_at_k(algo_SVD, k = 10, threshold = 3.5)\n"
      ],
      "metadata": {
        "colab": {
          "base_uri": "https://localhost:8080/"
        },
        "id": "j4RlQ-4W6oxY",
        "outputId": "747e5fbe-6db1-4672-c83c-032670181c1b"
      },
      "execution_count": 140,
      "outputs": [
        {
          "output_type": "stream",
          "name": "stdout",
          "text": [
            "RMSE: 0.8882\n",
            "Precision:  0.853\n",
            "Recall:  0.88\n",
            "F_1 score:  0.866\n"
          ]
        }
      ]
    },
    {
      "cell_type": "markdown",
      "metadata": {
        "id": "dti9V1jhhYaV"
      },
      "source": [
        "**Let's now predict the rating for a user with `userId = \"A3LDPF5FMB782Z\"` and `prod_id = \"1400501466`.**"
      ]
    },
    {
      "cell_type": "markdown",
      "metadata": {
        "id": "oIjzqDY5nVNM"
      },
      "source": [
        "**Write your observations here:___________**"
      ]
    },
    {
      "cell_type": "code",
      "source": [
        "algo_SVD.predict('A3LDPF5FMB782Z', '1400501466', r_ui = 5, verbose = True)\n"
      ],
      "metadata": {
        "colab": {
          "base_uri": "https://localhost:8080/"
        },
        "id": "orza4pPB6lxO",
        "outputId": "f5d6ba13-7f11-407e-8a92-54749c6c36dc"
      },
      "execution_count": 139,
      "outputs": [
        {
          "output_type": "stream",
          "name": "stdout",
          "text": [
            "user: A3LDPF5FMB782Z item: 1400501466 r_ui = 5.00   est = 4.08   {'was_impossible': False}\n"
          ]
        },
        {
          "output_type": "execute_result",
          "data": {
            "text/plain": [
              "Prediction(uid='A3LDPF5FMB782Z', iid='1400501466', r_ui=5, est=4.081406749810685, details={'was_impossible': False})"
            ]
          },
          "metadata": {},
          "execution_count": 139
        }
      ]
    },
    {
      "cell_type": "markdown",
      "metadata": {
        "id": "I1aYxVeMnVNM"
      },
      "source": [
        "**Below we are predicting rating for the `userId = \"A2UOHALGF2X77Q\"` and `productId = \"1400501466\"`.**"
      ]
    },
    {
      "cell_type": "markdown",
      "metadata": {
        "id": "NEL6dy3wnVNM"
      },
      "source": [
        "**Write your observations here:___________**"
      ]
    },
    {
      "cell_type": "code",
      "source": [
        "algo_SVD.predict('A2UOHALGF2X77Q', '1400501466', r_ui = 5, verbose = True)\n"
      ],
      "metadata": {
        "colab": {
          "base_uri": "https://localhost:8080/"
        },
        "id": "Zj28LoHQ6i6v",
        "outputId": "8633d36b-3424-42a0-fd35-29aded2a97ec"
      },
      "execution_count": 138,
      "outputs": [
        {
          "output_type": "stream",
          "name": "stdout",
          "text": [
            "user: A2UOHALGF2X77Q item: 1400501466 r_ui = 5.00   est = 4.16   {'was_impossible': False}\n"
          ]
        },
        {
          "output_type": "execute_result",
          "data": {
            "text/plain": [
              "Prediction(uid='A2UOHALGF2X77Q', iid='1400501466', r_ui=5, est=4.156510633154892, details={'was_impossible': False})"
            ]
          },
          "metadata": {},
          "execution_count": 138
        }
      ]
    },
    {
      "cell_type": "markdown",
      "metadata": {
        "id": "x13Eb9Owvpcw"
      },
      "source": [
        "### **Improving Matrix Factorization based recommendation system by tuning its hyperparameters**"
      ]
    },
    {
      "cell_type": "markdown",
      "metadata": {
        "id": "iQcDPhhcnVNN"
      },
      "source": [
        "Below we will be tuning only three hyperparameters:\n",
        "- **n_epochs**: The number of iterations of the SGD algorithm.\n",
        "- **lr_all**: The learning rate for all parameters.\n",
        "- **reg_all**: The regularization term for all parameters."
      ]
    },
    {
      "cell_type": "markdown",
      "metadata": {
        "id": "KzY78HsrnVNO"
      },
      "source": [
        "Now, we will **the build final model** by using **tuned values** of the hyperparameters, which we received using grid search cross-validation above."
      ]
    },
    {
      "cell_type": "code",
      "source": [
        "\n",
        "param_grid = {'n_epochs': [20, 30, 40], 'lr_all': [0.005, 0.007], 'reg_all': [0.2, 0.4]}\n",
        "gs = GridSearchCV(SVD, param_grid, measures=['RMSE'], cv=3)\n",
        "gs.fit(data)\n",
        "print(gs.best_score['rmse'])\n",
        "print(gs.best_params['rmse'])\n"
      ],
      "metadata": {
        "colab": {
          "base_uri": "https://localhost:8080/"
        },
        "id": "EOiKHKQF6gcL",
        "outputId": "5c03da2b-4ca8-4c5e-9fcc-06aa01fa5d38"
      },
      "execution_count": 137,
      "outputs": [
        {
          "output_type": "stream",
          "name": "stdout",
          "text": [
            "0.8986160241973881\n",
            "{'n_epochs': 40, 'lr_all': 0.005, 'reg_all': 0.2}\n"
          ]
        }
      ]
    },
    {
      "cell_type": "markdown",
      "metadata": {
        "id": "9HJvPsjITsny"
      },
      "source": [
        "**Write your observations here:_____________**"
      ]
    },
    {
      "cell_type": "code",
      "source": [
        "algo_SVD_optimized = SVD(n_epochs=40, lr_all=0.007, reg_all=0.4, random_state=1)\n",
        "\n",
        "algo_SVD_optimized.fit(trainset)\n",
        "\n",
        "precision_recall_at_k(algo_SVD_optimized, k = 10, threshold = 3.5)\n"
      ],
      "metadata": {
        "colab": {
          "base_uri": "https://localhost:8080/"
        },
        "id": "t2Jkb4Ad48Dc",
        "outputId": "4471de07-9647-45d4-ab56-028a4166bbb6"
      },
      "execution_count": 112,
      "outputs": [
        {
          "output_type": "stream",
          "name": "stdout",
          "text": [
            "RMSE: 0.8823\n",
            "Precision:  0.854\n",
            "Recall:  0.881\n",
            "F_1 score:  0.867\n"
          ]
        }
      ]
    },
    {
      "cell_type": "markdown",
      "metadata": {
        "id": "zu4fV77mhYaW"
      },
      "source": [
        "### **Steps:**\n",
        "- **Predict rating for the user with `userId=\"A3LDPF5FMB782Z\"`, and `prod_id= \"1400501466\"` using the optimized model**\n",
        "- **Predict rating for `userId=\"A2UOHALGF2X77Q\"` who has not interacted with `prod_id =\"1400501466\"`, by using the optimized model**\n",
        "- **Compare the output with the output from the baseline model**"
      ]
    },
    {
      "cell_type": "code",
      "source": [
        "\n",
        "algo_SVD_optimized.predict('A3LDPF5FMB782Z', '1400501466', r_ui = 5, verbose = True)\n",
        "\n",
        "algo_SVD_optimized.predict('A2UOHALGF2X77Q', '1400501466', r_ui = 5, verbose = True)\n",
        "\n",
        "recommendations_svd = get_recommendations(df_final, 'A3LDPF5FMB782Z', 5, algo_SVD_optimized)\n",
        "print(recommendations_svd)\n",
        "\n",
        "df_recommendations_svd = pd.DataFrame(recommendations_svd, columns = ['prod_id', 'predicted_ratings'])\n"
      ],
      "metadata": {
        "colab": {
          "base_uri": "https://localhost:8080/"
        },
        "id": "nzDm3jvD432s",
        "outputId": "e9688b5d-51e9-4b1a-df30-2549a1667c6e"
      },
      "execution_count": 111,
      "outputs": [
        {
          "output_type": "stream",
          "name": "stdout",
          "text": [
            "user: A3LDPF5FMB782Z item: 1400501466 r_ui = 5.00   est = 4.04   {'was_impossible': False}\n",
            "user: A2UOHALGF2X77Q item: 1400501466 r_ui = 5.00   est = 4.06   {'was_impossible': False}\n",
            "[('B00006HSYC', 4.814959361963058), ('B0010Y414Q', 4.804964336625209), ('B00AR95ESC', 4.783918537141019), ('B00299G80Q', 4.775101677653688), ('B00065AO0K', 4.771686450161824)]\n"
          ]
        }
      ]
    },
    {
      "cell_type": "code",
      "source": [
        "algo_SVD_optimized.predict('A2UOHALGF2X77Q', '1400501466', r_ui = 5, verbose = True)\n"
      ],
      "metadata": {
        "colab": {
          "base_uri": "https://localhost:8080/"
        },
        "id": "7aZSwTy-41SE",
        "outputId": "35f465d8-a883-45fc-f642-79e1ff79c0d3"
      },
      "execution_count": 110,
      "outputs": [
        {
          "output_type": "stream",
          "name": "stdout",
          "text": [
            "user: A2UOHALGF2X77Q item: 1400501466 r_ui = 5.00   est = 4.06   {'was_impossible': False}\n"
          ]
        },
        {
          "output_type": "execute_result",
          "data": {
            "text/plain": [
              "Prediction(uid='A2UOHALGF2X77Q', iid='1400501466', r_ui=5, est=4.060662970766074, details={'was_impossible': False})"
            ]
          },
          "metadata": {},
          "execution_count": 110
        }
      ]
    },
    {
      "cell_type": "markdown",
      "metadata": {
        "id": "nnwPwgjB8DwS"
      },
      "source": [
        "### **Conclusion and Recommendations**"
      ]
    },
    {
      "cell_type": "markdown",
      "metadata": {
        "id": "xuqnifw9NF2p"
      },
      "source": [
        "**Write your conclusion and recommendations here**"
      ]
    }
  ],
  "metadata": {
    "colab": {
      "provenance": [],
      "include_colab_link": true
    },
    "kernelspec": {
      "display_name": "Python 3 (ipykernel)",
      "language": "python",
      "name": "python3"
    },
    "language_info": {
      "codemirror_mode": {
        "name": "ipython",
        "version": 3
      },
      "file_extension": ".py",
      "mimetype": "text/x-python",
      "name": "python",
      "nbconvert_exporter": "python",
      "pygments_lexer": "ipython3",
      "version": "3.9.7"
    }
  },
  "nbformat": 4,
  "nbformat_minor": 0
}